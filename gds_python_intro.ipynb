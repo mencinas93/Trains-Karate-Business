{
 "cells": [
  {
   "cell_type": "markdown",
   "metadata": {
    "colab_type": "text",
    "id": "view-in-github"
   },
   "source": [
    "<a href=\"https://colab.research.google.com/github/tomasonjo/blogs/blob/master/gds_python/gds_python_intro.ipynb\" target=\"_parent\"><img src=\"https://colab.research.google.com/assets/colab-badge.svg\" alt=\"Open In Colab\"/></a>"
   ]
  },
  {
   "cell_type": "markdown",
   "metadata": {
    "id": "kHob0RF8YDrx"
   },
   "source": [
    "# How to get started with the Neo4j Graph Data Science Python client\n",
    "## Learn the basic syntax of the newly released Python client for Neo4j Graph Data Science library\n",
    "\n",
    "https://medium.com/neo4j/how-to-get-started-with-the-neo4j-graph-data-science-python-client-56209d9b0d0d\n",
    "\n",
    "Data scientists like me love Python. It features a wide variety of machine learning and data science libraries that can help you get started on a data science project in minutes. It is not uncommon to use a variety of libraries in a data science workflow. With the release of version 2 of the Neo4j Graph Data Science (GDS) library, a supporting Python client has been introduced. The Python client for the GDS library is designed to help you seamlessly integrate the Neo4j Graph Data Science library into your data science workflow. Instead of having to write Cypher statements to execute graph algorithms, the Python client provides a simple surface that allows you to project and run graph algorithms using pure Python code.\n",
    "\n",
    "Since the Python client for GDS is relatively new, there are not many examples out there yet. Therefore, I've decided to write this blog post to help you get started with the GDS Python client syntax and show some common usage patterns through a simple network analysis.\n",
    "\n",
    "The Neo4j Graph Data Science Python client can be installed using the pip package installer."
   ]
  },
  {
   "cell_type": "markdown",
   "metadata": {
    "colab": {
     "base_uri": "https://localhost:8080/"
    },
    "id": "Q1KlTgmR8PAL",
    "outputId": "db6489bd-cf34-4f97-8b44-77f08b3e9b73"
   },
   "source": [
    "# Install graphdatascience if necessary\n",
    "\n",
    "!pip install graphdatascience"
   ]
  },
  {
   "cell_type": "markdown",
   "metadata": {
    "id": "tv2vtJOQYLQW"
   },
   "source": [
    "An important thing to note is that the Python client is only guaranteed to work with GDS versions 2.0 and later. Therefore, if you have a previous version, I suggest you first upgrade the GDS library to the latest version.\n",
    "# Neo4j environment setup\n",
    "If you want to follow along with the code examples, you need to set up a Neo4j database. I suggest you use a [blank project on Neo4j Sandbox](https://sandbox.neo4j.com/?usecase=blank-sandbox) for this simple demonstration, but you can also download a [Neo4j Desktop application](https://neo4j.com/download/) and set up a local database.\n",
    "\n",
    "Neo4j Sandbox has the GDS library already installed. However, if you use Neo4j Desktop, you have to install the GDS library manually.\n",
    "\n",
    "# Setting up the GDS Python client connection\n",
    "We start by defining the client connection to the Neo4j database. If you have seen any of my previous blog posts that use the official Neo4j Python driver, you can see that the syntax is almost identical."
   ]
  },
  {
   "cell_type": "markdown",
   "metadata": {},
   "source": [
    "# How to run this notebook on local Neo4j database server\n",
    "\n",
    "1 Create a Neo4j database called HP_Network (Harry Potter network)\n",
    "\n",
    "2 Install APOC and GDSL on the HP_Network database.\n",
    "\n",
    "3 Copy hp_1.csv to the database Import folder.\n",
    "\n",
    "4 Start the HP_nework database"
   ]
  },
  {
   "cell_type": "code",
   "execution_count": 1,
   "metadata": {
    "id": "GKTUobMl8S31"
   },
   "outputs": [],
   "source": [
    "import os\n",
    "import pandas as pd\n",
    "from graphdatascience import GraphDataScience\n",
    "\n",
    "host = \"bolt://localhost:7687\"\n",
    "user = \"neo4j\"\n",
    "password = os.environ['Neo4j'] # Require the Database's PW stored on the environment variable Neo4j\n",
    " \n",
    "gds = GraphDataScience(host, auth=(user, password))"
   ]
  },
  {
   "cell_type": "markdown",
   "metadata": {
    "id": "FWOhP1TdYehq"
   },
   "source": [
    "We have instantiated the connection to the Neo4j instance. If you are using Neo4j Enterprise, you might have multiple databases available in Neo4j. If we want to use any database other than the default one, we can select the required database using the set_database  method."
   ]
  },
  {
   "cell_type": "code",
   "execution_count": null,
   "metadata": {
    "id": "lk93jlvJ-u6L"
   },
   "outputs": [],
   "source": [
    "# Optionally set different database\n",
    "#gds.set_database(\"databaseName\")"
   ]
  },
  {
   "cell_type": "markdown",
   "metadata": {
    "id": "rZbDBeZnYhEJ"
   },
   "source": [
    "Lastly, we can verify that the connection is valid and the target Neo4j instance has the GDS library installed by using the `gds.version()` method."
   ]
  },
  {
   "cell_type": "code",
   "execution_count": 2,
   "metadata": {
    "colab": {
     "base_uri": "https://localhost:8080/"
    },
    "id": "-Ah7nqZD6Zcd",
    "outputId": "42ae6efd-561d-45e5-d601-27d5e562c580"
   },
   "outputs": [
    {
     "name": "stdout",
     "output_type": "stream",
     "text": [
      "2.6.8\n"
     ]
    }
   ],
   "source": [
    "# Check if connection is valid and the target database has GDS installed\n",
    "print(gds.version())"
   ]
  },
  {
   "cell_type": "markdown",
   "metadata": {
    "id": "Ad85KnNeYlwa"
   },
   "source": [
    "The version() method should return the version of the installed GDS library. If it returns anything else, make sure that you entered the correct credentials and the GDS library is installed.\n",
    "# Executing Cypher statements\n",
    "The Python client allows you to execute arbitrary Cypher statements using the `run_cypher` method. The method takes two parameters are input. The first and mandatory parameter is the Cypher query you want to execute. The second method parameter is optional and can be used to provide any query parameters.\n",
    "\n",
    "The `run_cypher` method can be used to import, transform, or fetch any data from the database. We will begin by populating the database with the [Harry Potter network](https://medium.com/neo4j/turn-a-harry-potter-book-into-a-knowledge-graph-ffc1c45afcc8) I created in one of my previous blog posts.\n",
    "\n",
    "The network contains characters in the first book, and their interactions, which are represented as relationships. The CSV with the relationship is available on my GitHub, so we can use the `LOAD CSV` clause to retrieve the data from GitHub and store it into Neo4j."
   ]
  },
  {
   "cell_type": "code",
   "execution_count": 3,
   "metadata": {},
   "outputs": [],
   "source": [
    "import pandas as pd\n",
    "\n",
    "query = \"\"\"\n",
    "LOAD CSV WITH HEADERS FROM $url AS row\n",
    "return count(*)\n",
    "\"\"\"\n",
    "params = {'url': 'file:///hp_1.csv'}\n",
    "p = gds.run_cypher(query, params)"
   ]
  },
  {
   "cell_type": "code",
   "execution_count": 4,
   "metadata": {},
   "outputs": [
    {
     "data": {
      "text/html": [
       "<div>\n",
       "<style scoped>\n",
       "    .dataframe tbody tr th:only-of-type {\n",
       "        vertical-align: middle;\n",
       "    }\n",
       "\n",
       "    .dataframe tbody tr th {\n",
       "        vertical-align: top;\n",
       "    }\n",
       "\n",
       "    .dataframe thead th {\n",
       "        text-align: right;\n",
       "    }\n",
       "</style>\n",
       "<table border=\"1\" class=\"dataframe\">\n",
       "  <thead>\n",
       "    <tr style=\"text-align: right;\">\n",
       "      <th></th>\n",
       "      <th>count(*)</th>\n",
       "    </tr>\n",
       "  </thead>\n",
       "  <tbody>\n",
       "    <tr>\n",
       "      <th>0</th>\n",
       "      <td>406</td>\n",
       "    </tr>\n",
       "  </tbody>\n",
       "</table>\n",
       "</div>"
      ],
      "text/plain": [
       "   count(*)\n",
       "0       406"
      ]
     },
     "execution_count": 4,
     "metadata": {},
     "output_type": "execute_result"
    }
   ],
   "source": [
    "p"
   ]
  },
  {
   "cell_type": "code",
   "execution_count": null,
   "metadata": {},
   "outputs": [],
   "source": [
    "# Only run this cell once to insert data into HP_Network from the web!!\n",
    "query = \"\"\"\n",
    "LOAD CSV WITH HEADERS FROM $url AS row\n",
    "MERGE (s:Character {name:row.source})\n",
    "MERGE (t:Character {name:row.target})\n",
    "MERGE (s)-[i:INTERACTS]->(t)\n",
    "SET i.weight = toInteger(row.weight)\n",
    "\"\"\"\n",
    "params = {'url': 'file:///hp_1.csv'}\n",
    "gds.run_cypher(query, params)"
   ]
  },
  {
   "cell_type": "markdown",
   "metadata": {
    "colab": {
     "base_uri": "https://localhost:8080/",
     "height": 49
    },
    "id": "GaXfepPu_YZk",
    "outputId": "390e4c6d-d5b3-4191-e1ba-0437f8752363"
   },
   "source": [
    "# Only run this cell once to nsert data into HP_Network !!\n",
    "# Not work?\n",
    "query = \"\"\"\n",
    "LOAD CSV WITH HEADERS FROM $url AS row\n",
    "MERGE (s:Character {name:row.source})\n",
    "MERGE (t:Character {name:row.target})\n",
    "MERGE (s)-[i:INTERACTS]->(t)\n",
    "SET i.weight = toInteger(row.weight)\n",
    "\"\"\"\n",
    "params = {'url': 'https://raw.githubusercontent.com/tomasonjo/blog-datasets/main/HP/hp_1.csv'}\n",
    "gds.run_cypher(query, params)"
   ]
  },
  {
   "cell_type": "code",
   "execution_count": 5,
   "metadata": {},
   "outputs": [],
   "source": [
    "query = \"\"\"\n",
    "match (s:Character)\n",
    "return id(s) as id, s.name as name\n",
    "\"\"\"\n",
    "df = gds.run_cypher(query)"
   ]
  },
  {
   "cell_type": "code",
   "execution_count": 6,
   "metadata": {},
   "outputs": [
    {
     "data": {
      "text/html": [
       "<div>\n",
       "<style scoped>\n",
       "    .dataframe tbody tr th:only-of-type {\n",
       "        vertical-align: middle;\n",
       "    }\n",
       "\n",
       "    .dataframe tbody tr th {\n",
       "        vertical-align: top;\n",
       "    }\n",
       "\n",
       "    .dataframe thead th {\n",
       "        text-align: right;\n",
       "    }\n",
       "</style>\n",
       "<table border=\"1\" class=\"dataframe\">\n",
       "  <thead>\n",
       "    <tr style=\"text-align: right;\">\n",
       "      <th></th>\n",
       "      <th>id</th>\n",
       "      <th>name</th>\n",
       "    </tr>\n",
       "  </thead>\n",
       "  <tbody>\n",
       "    <tr>\n",
       "      <th>0</th>\n",
       "      <td>0</td>\n",
       "      <td>Petunia Dursley</td>\n",
       "    </tr>\n",
       "    <tr>\n",
       "      <th>1</th>\n",
       "      <td>1</td>\n",
       "      <td>Dudley Dursley</td>\n",
       "    </tr>\n",
       "    <tr>\n",
       "      <th>2</th>\n",
       "      <td>2</td>\n",
       "      <td>Lily J. Potter</td>\n",
       "    </tr>\n",
       "    <tr>\n",
       "      <th>3</th>\n",
       "      <td>3</td>\n",
       "      <td>James Potter I</td>\n",
       "    </tr>\n",
       "    <tr>\n",
       "      <th>4</th>\n",
       "      <td>4</td>\n",
       "      <td>Harry Potter</td>\n",
       "    </tr>\n",
       "    <tr>\n",
       "      <th>...</th>\n",
       "      <td>...</td>\n",
       "      <td>...</td>\n",
       "    </tr>\n",
       "    <tr>\n",
       "      <th>114</th>\n",
       "      <td>114</td>\n",
       "      <td>Unicorn</td>\n",
       "    </tr>\n",
       "    <tr>\n",
       "      <th>115</th>\n",
       "      <td>115</td>\n",
       "      <td>Terry Boot</td>\n",
       "    </tr>\n",
       "    <tr>\n",
       "      <th>116</th>\n",
       "      <td>116</td>\n",
       "      <td>Enid (disambiguation)</td>\n",
       "    </tr>\n",
       "    <tr>\n",
       "      <th>117</th>\n",
       "      <td>117</td>\n",
       "      <td>Uric the Oddball</td>\n",
       "    </tr>\n",
       "    <tr>\n",
       "      <th>118</th>\n",
       "      <td>118</td>\n",
       "      <td>Miles Bletchley</td>\n",
       "    </tr>\n",
       "  </tbody>\n",
       "</table>\n",
       "<p>119 rows × 2 columns</p>\n",
       "</div>"
      ],
      "text/plain": [
       "      id                   name\n",
       "0      0        Petunia Dursley\n",
       "1      1         Dudley Dursley\n",
       "2      2         Lily J. Potter\n",
       "3      3         James Potter I\n",
       "4      4           Harry Potter\n",
       "..   ...                    ...\n",
       "114  114                Unicorn\n",
       "115  115             Terry Boot\n",
       "116  116  Enid (disambiguation)\n",
       "117  117       Uric the Oddball\n",
       "118  118        Miles Bletchley\n",
       "\n",
       "[119 rows x 2 columns]"
      ]
     },
     "execution_count": 6,
     "metadata": {},
     "output_type": "execute_result"
    }
   ],
   "source": [
    "df"
   ]
  },
  {
   "cell_type": "markdown",
   "metadata": {
    "id": "egAEqSvfY6lz"
   },
   "source": [
    "The import script uses the `run_cypher` method to execute the Cypher statement used to import the Harry Potter network. To demonstrate how Cypher parameters work with the `run_cypher` method, I've attached the URL of the file as a Cypher parameter. While the Cypher query is represented as a string, the Cypher parameters are defined as a dictionary.\n",
    "If you have done any data analysis in Python, you have probably used the Pandas library in your workflow. Therefore, when fetching data from a database using the run_cyphermethod, the method conveniently returns a populated Pandas DataFrame. Having the data available as a Pandas DataFrame makes it much easier to integrate the data from Neo4j into your analytical workflow and use it in combination with other libraries.\n",
    "\n",
    "In this example, we will retrieve the degree (count of relationships) for each character in the network using the `run_cypher` method."
   ]
  },
  {
   "cell_type": "code",
   "execution_count": 7,
   "metadata": {
    "colab": {
     "base_uri": "https://localhost:8080/",
     "height": 206
    },
    "id": "a50_Aq0GAiHR",
    "outputId": "fb6dabb6-edda-4ae4-d924-65618ae9c5f3"
   },
   "outputs": [],
   "source": [
    "degree_df = gds.run_cypher(\"\"\"\n",
    "MATCH (c:Character)\n",
    "RETURN c.name AS character,\n",
    "       apoc.node.degree(c, \"INTERACTS\") as degree\n",
    "\"\"\")\n"
   ]
  },
  {
   "cell_type": "code",
   "execution_count": 8,
   "metadata": {},
   "outputs": [
    {
     "data": {
      "text/html": [
       "<div>\n",
       "<style scoped>\n",
       "    .dataframe tbody tr th:only-of-type {\n",
       "        vertical-align: middle;\n",
       "    }\n",
       "\n",
       "    .dataframe tbody tr th {\n",
       "        vertical-align: top;\n",
       "    }\n",
       "\n",
       "    .dataframe thead th {\n",
       "        text-align: right;\n",
       "    }\n",
       "</style>\n",
       "<table border=\"1\" class=\"dataframe\">\n",
       "  <thead>\n",
       "    <tr style=\"text-align: right;\">\n",
       "      <th></th>\n",
       "      <th>character</th>\n",
       "      <th>degree</th>\n",
       "    </tr>\n",
       "  </thead>\n",
       "  <tbody>\n",
       "    <tr>\n",
       "      <th>0</th>\n",
       "      <td>Petunia Dursley</td>\n",
       "      <td>8</td>\n",
       "    </tr>\n",
       "    <tr>\n",
       "      <th>1</th>\n",
       "      <td>Dudley Dursley</td>\n",
       "      <td>14</td>\n",
       "    </tr>\n",
       "    <tr>\n",
       "      <th>2</th>\n",
       "      <td>Lily J. Potter</td>\n",
       "      <td>5</td>\n",
       "    </tr>\n",
       "    <tr>\n",
       "      <th>3</th>\n",
       "      <td>James Potter I</td>\n",
       "      <td>5</td>\n",
       "    </tr>\n",
       "    <tr>\n",
       "      <th>4</th>\n",
       "      <td>Harry Potter</td>\n",
       "      <td>83</td>\n",
       "    </tr>\n",
       "    <tr>\n",
       "      <th>...</th>\n",
       "      <td>...</td>\n",
       "      <td>...</td>\n",
       "    </tr>\n",
       "    <tr>\n",
       "      <th>114</th>\n",
       "      <td>Unicorn</td>\n",
       "      <td>1</td>\n",
       "    </tr>\n",
       "    <tr>\n",
       "      <th>115</th>\n",
       "      <td>Terry Boot</td>\n",
       "      <td>3</td>\n",
       "    </tr>\n",
       "    <tr>\n",
       "      <th>116</th>\n",
       "      <td>Enid (disambiguation)</td>\n",
       "      <td>1</td>\n",
       "    </tr>\n",
       "    <tr>\n",
       "      <th>117</th>\n",
       "      <td>Uric the Oddball</td>\n",
       "      <td>2</td>\n",
       "    </tr>\n",
       "    <tr>\n",
       "      <th>118</th>\n",
       "      <td>Miles Bletchley</td>\n",
       "      <td>1</td>\n",
       "    </tr>\n",
       "  </tbody>\n",
       "</table>\n",
       "<p>119 rows × 2 columns</p>\n",
       "</div>"
      ],
      "text/plain": [
       "                 character  degree\n",
       "0          Petunia Dursley       8\n",
       "1           Dudley Dursley      14\n",
       "2           Lily J. Potter       5\n",
       "3           James Potter I       5\n",
       "4             Harry Potter      83\n",
       "..                     ...     ...\n",
       "114                Unicorn       1\n",
       "115             Terry Boot       3\n",
       "116  Enid (disambiguation)       1\n",
       "117       Uric the Oddball       2\n",
       "118        Miles Bletchley       1\n",
       "\n",
       "[119 rows x 2 columns]"
      ]
     },
     "execution_count": 8,
     "metadata": {},
     "output_type": "execute_result"
    }
   ],
   "source": [
    "degree_df"
   ]
  },
  {
   "cell_type": "markdown",
   "metadata": {
    "id": "mEsbwfP3ZGdj"
   },
   "source": [
    "Since the data is available as a Pandas DataFrame, we can easily integrate it into our analytical workflow. For example, we can use the Seaborn library to visualize the node degree distribution."
   ]
  },
  {
   "cell_type": "code",
   "execution_count": 9,
   "metadata": {
    "colab": {
     "base_uri": "https://localhost:8080/",
     "height": 530
    },
    "id": "DhCt2ueTA4SA",
    "outputId": "27ba275a-76c5-4a07-b798-46e0f0e261c5"
   },
   "outputs": [
    {
     "data": {
      "text/plain": [
       "<seaborn.axisgrid.FacetGrid at 0x1f25be9d760>"
      ]
     },
     "execution_count": 9,
     "metadata": {},
     "output_type": "execute_result"
    },
    {
     "data": {
      "image/png": "[encoded data removed]",
      "text/plain": [
       "<Figure size 756x504 with 1 Axes>"
      ]
     },
     "metadata": {
      "needs_background": "light"
     },
     "output_type": "display_data"
    }
   ],
   "source": [
    "import seaborn as sns\n",
    "import matplotlib.pyplot as plt\n",
    "\n",
    "sns.displot(data=degree_df, x=\"degree\", height=7, aspect=1.5)"
   ]
  },
  {
   "cell_type": "markdown",
   "metadata": {
    "id": "fkER78KrZOxT"
   },
   "source": [
    "We can easily observe that most nodes have less than 15 relationships. However, there is one outlier in the dataset with 83 connections, and that is, of course, Harry Potter himself.\n",
    "# Projected graph object\n",
    "The central concept of the GDS Python client is to allow projecting and executing graph algorithms in Neo4j with pure Python code. Furthermore, the Python client is designed to mimic the GDS Cypher procedures so that we don't have to learn a new syntax to use the Python client.\n",
    "\n",
    "As you might know, before we can execute any graph algorithms, we first have to project an in-memory graph. For example, let's say we want to project a simple directed network of characters and their interactions with the Python client.\n",
    "\n",
    "![mapping.png](data:image/png;base64,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)\n",
    "\n",
    "If you are familiar with Cypher procedures of the Graph Data Science library, you will be able to pick up the Python client syntax easily. For the most part, we remove the CALLclause before the GDS procedures, and we get the Python client syntax to project graphs or execute algorithms.\n",
    "\n",
    "In our case, we want to project a network of characters where the interaction relationships are treated as undirected. Therefore, we must use the extended map syntax to define undirected relationships.\n",
    "\n",
    "![Copy of mapping_graph.drawio (1).png](data:image/png;base64,iVBORw0KGgoAAAANSUhEUgAAA10AAAF+CAYAAAB53HDuAAAAAXNSR0IArs4c6QAACVF0RVh0bXhmaWxlACUzQ214ZmlsZSUyMGhvc3QlM0QlMjJhcHAuZGlhZ3JhbXMubmV0JTIyJTIwbW9kaWZpZWQlM0QlMjIyMDIyLTA1LTMxVDEzJTNBMzIlM0E0MS41MjdaJTIyJTIwYWdlbnQlM0QlMjI1LjAlMjAoWDExJTNCJTIwTGludXglMjB4ODZfNjQpJTIwQXBwbGVXZWJLaXQlMkY1MzcuMzYlMjAoS0hUTUwlMkMlMjBsaWtlJTIwR2Vja28pJTIwQ2hyb21lJTJGOTYuMC40NjY0LjQ1JTIwU2FmYXJpJTJGNTM3LjM2JTIyJTIwZXRhZyUzRCUyMmRvRkdPWEhVdG1xSU9NMDltSE91JTIyJTIwdmVyc2lvbiUzRCUyMjE4LjEuMyUyMiUyMHR5cGUlM0QlMjJnb29nbGUlMjIlM0UlM0NkaWFncmFtJTIwaWQlM0QlMjJZSG5IbWd3RGZiWDhKYmlDbmNodiUyMiUyMG5hbWUlM0QlMjJQYWdlLTElMjIlM0U3VnB0YzVzNEVQNDF6TFFmeVBCdSUyQjZPTjAydG1tazR1eVUydkh4VlFRQTBnVHVDMyUyRnZwYmdjQWdjRTF6T082bG1ja01hRm10VnJ1cjNVY2JLNlliYiUyRjlnS0EydnFZOGp4ZEQ4cldJdUZjUFFMV3NHRDA3WlZSVFRLQ2tCSTc2ZzdRbDM1RHNXUkUxUVY4VEhXWXN4cHpUS1Nkb21lalJKc0plM2FJZ3h1bW16UGRLb3ZXcUtBdHdoM0hrbzZsSyUyRkVEOFBTJTJCclUxdmIwajVnRVliV3lyb2t2TWFxWUJTRUxrVTgzRFpKNXFaZ3VvelF2MyUyQkt0aXlOdXZjb3U1YndQQjc3V2lqR2M1RU1tWEdzTDlidXU0WSUyQmhlNiUyRmV1dGRmWmxmZlZPR01OWXBXWXNPSzRVUWdiJTJCR1ROVmM2M3dsTE9QJTJCc3VLYUxCJTJCUTlCWXl1RWwlMkYxYUVTWllzNkJqd1VQN3d6YlZnd1hCbzBYNnoxTUtleWU1T29qaWttMEt5ZkVOS0ZaaWp4Y2NvSjhGS2ZBSzFaWk1ncDZHOW9kU2pKNFhBTzN6TkklMkZzU0czaiUyRjNubHYyQW9vanZ0eU9yMkZORUVxeUd3dmw4VCUyRm9zM1JhZm5IcE5KeERQdlUxTFV1Qm5Gd0UlMkZNeGNwbzk4Z2N0OVZUT0RCQmwlMkZQMUVMdiUyQnElMkY4REh0S2V0M1Y4SkZpbU1qVWJkMCUyQnBLT2doS2xhYU5iaXFWUXJGNnFtdUEwVnpxNjNHeUtHdkJ5ellZbyUyRlIlMkJ2SjRoU0tYMzIlMkJ2N3lkdSUyRmQzeHhVSHVhZlJnVElDZVFUbGhDYUR0RGlOQyUyRiUyRjZ2THk2dlhUdkw1Y0RmVmdleSUyQlFoUzl1Y3gzdzZvdXFTQ3RySUpMRWdaSWtVczV4QUxSem9IdnNrY2JJcDg5MVJIZXlsTWluJTJCaHZyayUyRlk4NVphclIycENSNDIyUnV2STRBb0xPTjUweiUyQm9UZGNvZkxoQ2JBdVhna1VTU1JVRVNDQklZZWhEJTJCa0RuT3g1bVlHQURBWEgyTGklMkIzeVp4U1lrT2I0cmlvZTUzRUNHQkZwUkNER3ZzRnF0RmhlQXR3ZXJ0RjdYZmtCTm1NWTRaenRnRVJQTUNsa0l3RFFSdzgwZWZKZ1ZMV3dDRDBzUWtRQThRUzE2anduZ1JjQ0NuNEFJWmc5RWtLeSUyRnQ0SiUyQndFNE54JTJGVDRZQVM3cWJPMjNad2V1NWw5ZHJOUFpUZnJmMkUzT2Q3NjdHYlpMMmszJTJCN2pkQUVxbiUyRlBVeHd0czVCJTJGbGdDNXo0NG5YcFJTakxpTmMyWCUyRnVrTm8wSnFlOXg2bUhQNjJRTiUyQlBJd3RTMTdmN2F4MzdrdUhMVjB3NVIyVHdSV05JWWpLTCUyRnJ0dmclMkI2NG9WYmlpQmhXdEgxcGxpZDhCQkdWMHhENHRaelh1Q0pNaTBqZ2pLRVF0dzNoRlVPTHZlOXZQOTczVDg3JTJCN1NrS002RFlxZ2glMkYwVncwVTRvQnpIV09qd0ttdUJycmM5b1JyZHcxbmZONXNoZGJKYU1PbjQ1bWFYaHh3eWFsNUVDbWRvc0ZKSSUyRmRmckZjdjQxYnhTaFVuRExkY29UVWtTOEpzM296RTg2ak9VdzBWYXE3ejJXbjBrSjhOWjEwVjlJT3AwSHRLUEY3VmpCWXkzVUVSJTJGVERjNGVGJTJCeGRZMGQ4SmJrZjNQN1hUaE9OZjVhakdjVFc0eVhXMkhnWXJCckRHNHdJN0JSN3JpU2xzQ21TM0dXTTZrSVhKNnFYV2lhWFZIMkVvdlJyam1TWlE2dG4yQ1RvbEFkejBKbEhUcUd3TTVWankyNWpKclByTWVXaEd5bnc4b3h4QkxhTmRoU3pwQWQxdGVXaW8zVjZpYkNTeWx3MUZLdnY3VWZ6OVIlMkJkT2VmUHNHVXR5N2s3OTZGYlBZZVg2TGoyTzR6dm5VWHo5bGRiUFVVM3pxSnJ3d0RxJTJGTDEwYkU3SUxpJTJGbFhpeTFvNCUyQm9KYzRFZ3cyS3RUN3RmSHBBQUxlbzExN01sVmt0S3NyNTBXN3prQzBhNTRUN2Rhb3RFSzdqaFJEZzd0UHBpUklsd1NOQkhkMTZSWnZhajlVcTc3UXZ5UTY3bmFRJTJGNFJVeWJPMWhvcDB3UkVsSkE5RGU4TEYzb3ZHR1BKNUd2azEwNXA4ZUVkSWMzSUR1JTJCOCUyRkpyT2V3RCUyRmRYWDlBQTN1a0pOZk1jZHFSSEZmOXRzWVlOenZwWjcxa0cxS0pNNTU3eVRhbnMzYmFzWjFCYVdlMHM5N3RldiUyRm5vR243JTJGRUFJVFliSDBGdlVkRm96amxTczdPbkxSazIzSHk4dTloQWdxNHhYQTVJVjlvcnAlMkJuY3FDcXJVJTJGMVd0YmxHWTlnU1lIQWpqRllYcG1jNzNjQmc4NXZHZW5QTjR5OUJ1OHR6VDNaSXlOVWM2MmpEYyUyRiUyQml6Wk4lMkYlMkZkdGE4JTJGQmMlM0QlM0MlMkZkaWFncmFtJTNFJTNDJTJGbXhmaWxlJTNFqvIaNwAAIABJREFUeF7snQWUFEcXhR/u7i7B3d0JluDB3S3B3T04wZ3grotbsAR3d9egiwWH/9yXzP6zy87aTM+O3DqHs+xOd1X1Vz39+tZ79SrE169fvwoLCZAACZAACZAACZAACZAACZCAIQRCUHQZwpWVkgAJkAAJkAAJkAAJkAAJkIASoOjijUACJEACJEACJEACJEACJEACBhKg6DIQLqsmARIgARIgARIgARIgARIgAYou3gMkQAIkQAIkQAIkQAIkQAIkYCABii4D4bJqEiABEiABEiABEiABEiABEqDo4j1AAiRAAiRAAiRAAiRAAiRAAgYSoOgyEC6rJgESIAESIAESIAESIAESIAGKLt4DJEACJEACJEACJEACJEACJGAgAYouA+GyahIgARIgARIgARIgARIgARKg6OI9QAIkQAIkQAIkQAIkQAIkQAIGEqDoMhAuqyYBEiABEiABEiABEiABEiABii7eAyRAAiRAAiRAAiRAAiRAAiRgIAGKLgPhsmoSIAESIAESIAESIAESIAESoOjiPUACJEACJEACJEACJEACJEACBhKg6DIQLqsmARIgARIgARIgARIgARIgAYou3gMkQAIkQAIkQAIkQAIkQAIkYCABii4D4bJqEiABEiABEiABEiABEiABEnBb0fX161cZO3aszJgxQ27evClx4sSRn376SX799VeJFCmS153x7NkzSZcunVSuXFmPNZUdO3ZIq1at5OrVq9/cRYUKFdLP6tWrF6Q7LHr06HL27FlJnDhxkM7nSSRAAiRAAiRAAiRAAiRAAo5DwG1FV7du3WTVqlUqpPLmzSt3796VTp06ycePH2X79u1eIzRp0iR5/vy5zJ07V86dOyfhw4fXzyi6HOcmZk9IgARIgARIgARIgARIwJEJuKXoevTokSRJkkT27dsnuXLl8hqfV69eyaJFi6Rp06YSJkwY/XuePHlk6dKlMmLECClRooTUrFnTZqILIq5Zs2Zy584dSZkypcybN09SpEgh5p6u+fPny9ChQ1UMJk2aVBYsWKB9Hz58uHropk2bpv0x/3306NEyffp0+fLli8SPH1/PQf2XL1+WFi1ayMOHDyVy5MgyYcIEKVCggCPfn+wbCZAACZAACZAACZAACTg9AbcUXevWrZP27dvLjRs3/BzA8+fPq0j566+/5M8//1Rhs3HjRpuILoQ3Zs2aVQYOHChVqlSRkSNHys6dO2XLli1eoitixIiSKFEi9bBBNLVs2VJChAihQsuS6BoyZIikSZNGbt26JVGiRFEP3T///CNt2rSRHDlySOvWraV58+Zy5MgRDZkEg7Bhwzr9jcwLIAESIAESIAESIAESIAFHJeCWogveoylTpsjBgwf9HBeEIELsYH0WRBLEDARYvHjxrA4vhCiC6PL09NQ+wJP1/v179UCZe7rgfYN4QlmyZInMmTNHtm3bZlF0/fbbb5IwYUIZNmyYVK9eXWLFiqXn3r59WzJkyCAvX76UkCFD6t9y584t8IoVLVrUUe9P9osESIAESIAESIAESIAEnJ6AW4quTZs2qQcL67gslc+fP2s43+vXr9W7hPLu3TtNtIG1X9au6YKnqVq1auqR8llMogviacCAAbJ161Y9BGvL0Ce07Vd44YkTJ1R0YW0awiexbu3p06eSL18+b8k53rx5I1OnTtV+sJAACZAACZAACZAACZAACRhDwC1FF7xLcePGVY9RsWLFvMhCVHXo0EHGjBkje/fulfHjx2u4n6lAzDRu3FhOnjxpteiC2MqUKZO8ePFCPU8fPnyQ69eva6ZEk+hCSCNEHn7ibwsXLtRwQYiuUaNGaeZErN1C6d27twor0xov/A3eM4Qvnj59Wj17aM/kWTPmdmKtJEACJEACJEACJEACJEACPgm4pegChH79+smsWbPUC4TwugcPHqjgihAhgmY1RMKM4sWLa2iheUmePLlgTRiScViTMh7hipkzZ5YuXbpIo0aNVOBt3rzZ25qutWvXqpdr/fr16uVCuCA8bwiLXLx4sQophDu+fftW8ufPr54s1IX1YfgcmRYRSrl8+XLZsGGD5MyZU9urXbu2PH78WNe14foR0shCAiRAAiRAAiRAAiRAAiRgDAG3FV3AOXnyZBUu8DBhn6769etL//79NfEEQvuuXbsmCRIk8EYewix06NBStmxZKVWqlIQKFcrb5wjZK1mypBw4cMArLBEHdO/eXbMQmpczZ85o9kJ4vbBezGf2wnDhwkmFChUEe4Vhzy6EDCL5RZMmTdSzValSJXny5ImGHGK9Fv4PzxeEFYQj+ob+z5w5Uz9H9kIk40C2RHjXECbpU1Qac5uxVhIgARIgARIgARIgARJwXwJuLbrcd9h55SRAAiRAAiRAAiRAAiRAAvYiQNFlL9JshwRIgARIgARIgARIgARIwC0JUHS55bDzokmABEiABEiABEiABEiABOxFgKLLXqTZDgmQAAmQAAmQAAmQAAmQgFsSoOhyy2HnRZMACZAACZAACZAACZAACdiLAEWXvUizHRIgARIgARIgARIgARIgAbckQNH137CPHj1aLl68qHt3uWIZN26cnD171mWvzxXHjNdEAiRAAiRAAiRAAiTgGgQouv4bR+zN9enTJ4kaNWqgR/bz58/f7NcV6EoMPoGiy2DArJ4ESIAESIAESIAESIAELBCg6PLF0wWvFzYZ/vLli8SPH18WLFggKVOm9IZw7Nixgs2NT5w4IT/++KNufIx/ODZEiBC6QTKOCRs2rMSIEUOGDBkia9askatXrwoE0IYNG9TzFCZMGNm8ebNEjhxZ68NmxY8fP5bw4cNrfdgcOXfu3NKzZ0+pWrWq9gH1jBgxQg4ePCgbN27Uzz58+KB9nD17tm6I/O7dO91Eed++fZIkSRLJkSOHbvrsqp48fsNJgARIgARIgARIgARIwFEJUHT5EF3Dhw+XNGnSyK1btyRKlCgyd+5cFStt2rTxNoYTJ06UwYMHq/CB2PHw8JBevXrJ/v37VUBVq1ZNihcvLu3atZPYsWNLt27d9N+MGTOkffv2KrBSpUolJUqUkBYtWkiNGjUkU6ZM0rdvX6ldu7acO3dOChQoINeuXVMhdf78eZk3b572oWHDhpI1a1apU6eOpE+fXv788089d8yYMSqyVq9eLVOnTpXFixfLrl275M2bN5I/f36tj6LLUb+K7BcJkAAJkAAJkAAJkICrEqDo8iG6IKYSJkwow4YNk+rVq0usWLF8HftJkyapt2rLli36ObxKadOmle7du+vv8EDBYwbRA9G1Z88eyZgxo/zxxx/Stm1bFVEozZs3lwwZMkjFihUlW7Zs8vLlS/WUoUAo9ejRQzJnzix58+aVhw8fytevX9X7Bg8b6l6yZIl6ylBev36tXjV4uerWravndOzYUT+DNwweNIouV/0q87pIgARIgARIgARIgAQclQBFlw/RBVECQQPRtX37dsmVK5d6p1KkSOFtDCG6Dhw4IIsWLdK/ly9fXr1e8HKhYJ1XvHjx5OjRoyq68DN58uSye/du6dKli/6OgnBCeLwKFiwotWrVUg+bqSBssUqVKtKsWTPJnj27TJgwQT5+/KjeMHi0IOoGDBig9ZvKixcv5MKFC9KgQQP1hDVq1Eg/GjVqlFy6dImiy1G/iewXCZAACZAACZAACZCAyxKg6PJFdJlGGwJn4MCBcvr0aVm3bt03ogsia+HChfp3CCOE+HXo0OGbmyUgogviCp4uiKaQIUNqHfBU9enTR9d1YX2Xp6enerEg0hCiiLZXrlwpa9eu/abNmjVrqqfM1B8IPZxPT5fLfpd5YSRAAiRAAiRAAiRAAg5KgKLLh+iCeBo5cqSuh0Iyi/nz58vy5cs1lNC8wNNlLrogygYNGqQhf1gLBu8YkmjA0xQQ0dW5c2cVbb1791YP1cmTJzUZBxJvIGTw8uXLAiGF8MO9e/dKokSJ5O+//9bQQ3i9UqdOLUeOHNFEHvCIIVkH1nYhnBFCDgKsaNGiFF0O+kVkt0iABEiABEiABEiABFyXAEWXD9EFsQSv0KpVqzQNPDIBzpw5U9dd+SW68Nmvv/6qyS7gIUMyjt9//13XhwVEdKFNU/bCJ0+eSIQIETQksFSpUl7NInkGUtojcYapmLIXItkHxB7WpBUqVEiTZyDEEIk9kiZNqgk7Hjx4oIlBWEiABEiABEiABEiABEiABOxHgKLLfqzZEgmQAAmQAAmQAAmQAAmQgBsSoOhyw0HnJTs/AWSxxD5w8MzevHlT4sSJIz/99JN6WyNFihSkC4RHFiGzWDPoSgWhutjCAaG6LCRAAq5FYMeOHVK6dGkN50cJFy6c5MuXTyZPnuzns+zTp0+ybNkyzfSLPTPLli0rd+/etSuc6NGja9vITIxEWtY8oxDFYkqcZdeLYGMkQAIBJkDRFWBUPJAEHIcA9nxDCCxEFxKu4GWhU6dOGtqKrJtBKdaKLmTsREhuYEtQzwtoO4EVXdgU3ZTMJqBt8DgSIIHgIQDRhSzAJsGCUHskoPrrr7/k8OHDFjuFLMXYSgXbvgS36MI2MEh0ZZ6JODA0MQmHpRAQbywkQAKOS4CiK5jGBsktkOwC2QWjRYsWTL1gs85I4NGjR5IkSRJNoIItDUzl1atXuoVB1apVdXuCGzdu6LYFKEjUAjGROHFiOXbsmGbBhFBDshgkjcHfYfCRDGbKlCm6/g/nYMNvFNPawQ8fPuhm4NiwG0Ye3jasRcQLDLY4QJZNU0E7WFeIdYnYIgEvFUhAU6xYsW/Ow0bj/fr1kxUrVujpuXPn1n5gDSM2CkeCmzt37mjbWDeJLRyQXAYbi+NFA1s1IIEMNgBHwZYP2CA8ZsyYut/enDlz9KUMm5/DMzht2jQ9zvx3tIWXMCTSAZt79+5ZrN8Z7xv2mQRckYBP0YVrxLMGCaiwBUu6dOm+eRbi+bd+/Xp5/vy5TlrBFiNLcNOmTfXZBi8YMv2WKVNGn5uWnk1oA88QTIBdv35d9+s0PTPNWVt6hlnydOE5iqRY2LMTCbXwnIUnz1J7yH7s4eGha8+xbyfsAwsJkIDjEaDoCsYxqV27tr6AtmzZMhh7waadjQAyZWLLAIgqSwWbbX///ffSrl07PQRiBeIK4YMQVtizDSGJ2Dwbm2ojWQxEF0JckIwFggaZMfHygoyZ6dOn1wQuyLA5ZswYFXzIjoljIZhQL9owL/Aw5ciRQ7Zu3arCCy8FXbt21bp9nrd06VIVO2gjYsSIUq9ePRWCeKFBAhls3YAXCxyzc+dOnZ1G3a1bt9YNxpG5s3Llysrk2rVrKr6wXx1EZ/369bV//okubISOlya0gZcdS/Wbwpic7b5hf0nAFQn4JrqePn2qzzdMRMHO+vYsxMQKhJXJ04UJLDwH8bxABAEmd/Ccs/RsGjFihD4zYb8hkjBJg2cghByeYaYCL5SlZ5hvogvPSQg3JMHCZBJCo4sXL67PckvtwbuH5yXEJAsJkIDjEqDoCsaxwf5a48eP1zTzLCQQUALYxgBeIAgJSwUvCri3sIE3xE+lSpXUw2O632DYUbClAAQcwmtg0Ldt26ZiAwVeInirIISWLFmiM6goEGmYcYWBhzcJ2yngxcVnQbuYVIBwQ8HsMQQLPHXon/l5eNHBiwmyeKJAqPXo0UP3oMPfTXUgfPL9+/fy7NkzndWFIDSFAsI7hg3DIbbQV9M1oq6ff/7ZX9GF60efsB7k9u3bFuvH1gssJEACjkHAp+jC8wmiBc80TNBYehbCO2UuujBRg+cJCvbmhOcLnjJLzyZ49/HMQDh39uzZvT0z4Yk3FdTh2zMMgso30YWJn7Rp00r37t21CkQZ4LmG9wRL7SFzMUWXY9yP7AUJ+EWAoiuY7w/EcmPfLaSYZyGBgBDYtGmThr35tegbM5+4tyB8MGP79u1b9eAgjAZ/M20dYPIQYZbW55ou0+8QPgMGDPC23gDhsRA32Jwbwg5hjb6JLnifIPZMBUk+0D6EkPl5COOBl61x48Z6KPoFz9aaNWt0phcvLuYF4YoQR3jRMBVskwARCE8a/plfI2a7/fN04XrRJ+x551f96A8LCZCAYxDwmUgDIdOFCxfWiSmE2Vl6FuLZZS66zBNpmK/xsvRswvPX0jPTPBkRnmW+PcNAzzfRVb58eZ1QgyhDwZpXeOzxTLLUHuqh6HKM+5G9IAGKLge+B7CmCx4FxIyzkEBACMDrEzduXPVKwZNkKvA84X5C+B/EDUL0EA6IsEKsacqZM6eKLni3sJ4BBXXAu4SZXUsGHS8AeEGB+PJZfG4Sbv45xFWRIkV0c26E68FDhRcihP6YQh0XLlyop2A2GeGMSBCCAk8VFsMjhBHXgDrg0cKaMqydwAsJ/m7ygJm3C+EFUWfqL7xX4ALRhb3v8HP69Ol6CjYjR3+wxsv8+vFCZan+gIwRjyEBErAPAd/CC3227NuzMKCiy9KzCVEAARFdmDDy7RmGtWa+iS6sX8XxeGb5LBRd9rmn2AoJGEWAni6jyAawXsysY/Hu+fPnA3gGDyMBUZGOWVqsPUC4GxJfwEhjU22EzaAgLKVNmzYSJkwYr8xeEF1YH3X8+HFNRgEDDyEE8WTJoCN0BYII6xvgBcLMLRZ5I3GFf6IL6yQQ3oOZXggsrNHCLLLP85YvX67JL9AG+lOzZk1dR4a+om0IQ6RDRngkBBnCGSEi8Xd4sR4/fqxhkuCBNV1YA4HF6xCnqAsCEGILYg8z4MhsBu9f/vz51WPmU3SBn6X6TTPQvA9JgASCn0BARJdvz0KEH+N5hLVTeFZY8nRZejZhbWxARBfWdFl6hvkmurBmF3UjnBDPXjzTEJaN55+l9rB+DWtSMTkV1C1Dgn8k2QMScH0CFF0OMMaI98ZLKEIiWEggoASwDw0EBDw/MLqYke3fv7/XfjVYQ4UMgwhFNGUVhOiC0EcoHl40kiVLpqIIoYh+vUCYshciVAcvAkiEUahQIX9FV40aNXRtBLxN8HYhM1jBggW/Oc88QxheUuAhg8DCCwSyI0IcYsYYYbjm2QuxiB1ZDeEFQ8p8pI5GgSjFonhkBsXfcN0Ic0T/sb7tyZMnkjRpUl23hf+bEomY71OGEEVL9Qd0jHgcCZCAsQQCIrp8exYi6ykyFyJ8D5M4lkSXX8+mgIguXL2lZ5il7IXYbxHPOaxhxTPv999/l4QJE/r5jMZeZZhMQ/h5njx5jIXO2kmABIJEgKIrSNhsexJm+BHOhJdoFhKwJQF4ixBGkzFjRq0W4gNiCyLD6ALvEtK1X7lyxeimWD8JkAAJ+EnA57OQuEiABEjA3gQouuxN3Jf2kOYaYVhYW8JCArYigEQSCAPEGi5TgehCeB9CE40ugd2U2Oj+sH4SIAH3JODbs9A9SfCqSYAEgpMARVdw0jdrGxmSEEIFzwALCVhLAKF/SKuO9QHmmbQouqwly/NJgASciYClZ6EzXQP7SgIk4BoEKLocZBwRs41YbISCsZAACZAACZAACZAACZAACbgOAYouBxlLLPDHotr79+972w/JQbrHbpAACZAACZAACZAACZAACQSRAEVXEMEZcVqDBg0069Avv/xiRPWskwRIgARIgARIgARIgARIIBgIUHQFA3RLTSItNzIZYg8hFhJwFAJIt7xs2TKpW7eun10K6HFGXxcWzWNPGxYSIAESMJKA+TMPCYrM084HtV1TGvnEiRMHtQqeRwIk4KAEKLocbGCSJEmie4aYUnw7WPfYHTckcOLECenZs6fel36VgB5nJELs8YW9ybAHDwsJkAAJGEnA/JlH0WUkadZNAq5BgKLLwcaxa9euEj58eBk8eLCD9YzdcXUC2DwYIa4PHjzQDUObN2+uoa6YAHj+/LluJIqNSOfPn6+bLWPjTmwwjLT0mJ31eZxpQ+UPHz5IypQpdWNkCCJseox08u/fv9f09ZhoaN26te5Thw2JBwwYoBs9o6Ad1I+NlUuWLCljx47VzZ9jxIghw4cPl1WrVunm0E2aNJFevXpJlSpVxMPDQzc93rx5s9bNQgIkQAI+CZw6dUoaNmwo5cqVk7179+ozburUqfLbb7/p3oLFihXz2jvTt2dZ5MiRvT3zkBkWG8E3bdpUn3XwgmFrDmQmNt9gGf3InTu3bmwfNWpU2bp1qz5nQ4UKpdEEeMZhM2V6unjPkoDrEaDocrAxPXbsmNSqVYsbyjrYuLhDd2D448ePL3369JEXL154vTxs375dXx7g6UIa+kSJEukGyxBSLVu2VEE0bdo0zbxpOg6eJmxG+ueff0qmTJlkzJgxsm/fPlm9erVMmjRJfv31Vzl//rxEiRJFkidPri8mOBcvPy1atJCLFy+qeIKQ2r9/v+AFp1q1alK8eHFp166dJptB2xBl9+7d077gpQkJafCy8u7dO3cYMl4jCZBAEAlgwidbtmz6zClQoIDUqVNHxc6RI0cEHvO4cePqJBCeb5aeZebPPNSH/Tax8TwmjWbMmCHz5s3T597SpUtl5MiR+jyMGDGi1KtXT59TeA5i4grZi/EMhOjDc/jWrVsUXUEcV55GAo5MgKLLAUcHD248oEuUKOGAvWOXXJUABAwEFu493IMhQ4bUSzV/scDvr169UrGEsmTJEpkzZ45s27bN23HwhuEzeJtQXr9+rd4piCG8WOzZs0dWrFihnxUuXFjatm0rNWrUUAEFLxVEH7xXadOmle7du+txmG0ePXq07Nq1S0UX+po9e3b9LGbMmIIJC/SLostV71BeFwnYjgBEEiZxHj9+rJX27dtXnj59qh4olNSpU8vy5ctViFl6lq1Zs8Zrogn1Qby9fPlSzz99+rR6viCgIMKyZs0qXbp00c/g3erRo4fWmy9fPvH09NS/4/kYIUIEuXPnDkWX7YaaNZGAwxCg6HKYofh/R/BiiRk2zJSxkIC9CCAcBvfe4sWL5dGjRyp2Onbs6E1MIUwG4X94aUCBdwkztQg7NBdnqAfHQRyZCoTUhQsX9LijR48KEl6gIIwHLyPly5fXtVjYzBkiDb8fPHhQvVwoCHmMFy+enot68Zlp42fT7whzpOiy1x3DdkjAeQlAJOEZg7BqFDyv8NzBswslXbp0snDhQtm9e7fFZxmSXpm8+z7XdJn/Di8WIlgaN26sdcObhlBoiDp42Ex9wGeRIkWSS5cuUXQ5763FnpOARQIUXQ54c9y9e1dn+zH7ZfI2OGA32SUXJoA1DZgFXrduna6ZMr1YYGYWITEIk4HAwUsJxJNP0YW/Q1ytXbv2G0oILwyI6GrWrJmGJnbo0OGbOii6XPjm46WRgB0IBFR0IdTZ0rPMZ3ihefZCc9EFT1fmzJmlW7duemWIAEAYN56T+fPn9/J0QfTBW09Plx1uADZBAsFAgKIrGKAHpEnMwGEGDP9YSMAeBGrXrq0Ly/HigDCXHDlyaNIMhPwhaQXWViHZBbxc69evVy9X9erVdXYYXieswTIdB08ZXjKwngFhOpjZRUKMCRMm6JqugIguCL5BgwZpOCFeROD5RRINpIO3JLrixIkjsWLF0vBEzBizkAAJkIBvBAIqupCMx9KzzPyZh3WulkQXPFrYDgbPQyTKqlmzpq4TQ0gj1sjiOYtz4WVD2CE8X0ykwfuWBFyPAEWXg44pXlAxi4aHOgsJ2IMAhBGyCGJdAzysmJ1FyA1C/pC5EOF9SJGMdQpIqIGXArxIVK5cWddfYV2W6Th4a00Zv5DcAqJp4sSJUqhQoQCLLlwzvGpYjI5MiWnSpNEF5wkTJrQouhBuWLp0aTl+/Lhs2rRJNxtnIQESIAGfBAIqurC+1dKzzPzZiERDlkSXefZCJOkoUqSIZnHFxBBsPLz5+Du8+1jzCnGGBEMsJEACrkWAostBxxMvmQjfunr1qqbZZiEBEiABEiABEiABEiABEnBOAhRdDjxu2O8Da1qQzICFBEiABEiABEiABEiABEjAOQlQdDnwuCENN2K+Dx065MC9ZNdIgARIgARIgARIgARIgAT8IkDR5eD3BzZ9xYay2MSRhQRIgARIgARIgARIgARIwPkIUHQ5+Jj16tVLsAgXWeFYSIAESIAESIAESIAESIAEnI8ARZeDjxl2ta9YsaK3zRMdvMvsHgmQAAmQAAmQAAmQAAmQgBkBii4nuB2weWL//v01HS0LCZAACZAACZAACZAACZCAcxGg6HKC8cJ+HidPnpQ5c+Y4QW/ZRRIgARIgARIggcASwB5d2CuRhQRIwDUJUHQ5wbj+/fffulGip6enhAsXzgl6zC46I4Fx48bpJp0sJEACJEAC9iWAzZqrVasmdevW1azFLCRAAq5HgKLLSca0SpUqUrlyZWnYsKGT9JjddBYCFy9elPbt20uIECFkxIgRkjVrVmfpOvtJAiRAAi5D4NGjR1K1alXJlSuXYBKMhQRIwLUIUHQ5yXguXbpU5s+fL5s2bXKSHrObzkBg1KhRggyZEFudOnVyhi6zjyRAAiTgsgQ+f/4smGSNFSsWlxS47CjzwtyVAEWXE4189OjRBdkMkyZN6kS9ZlcdkcCxY8ekY8eOgntq2LBhkjFjRkfsJvtEAiRAAm5JoF69evLu3TtZsWKFRiGwkAAJOD8Bii4nGsNWrVoJNkvu1q2bE/WaXXU0AlgvMHHiRN37DfcUCwmQAAmQgOMRwPP59u3bsmrVKokQIYLjdZA9IgESCBQBiq5A4Qreg3ft2iWdO3eW48ePB29H2LpTEti6dat06dJFsmXLJkOGDJFkyZI55XWw0yRAAiTgLgQQkYAIl9WrV0u0aNHc5bJ5nSTgkgQoupxsWNOmTSsLFy6U3LlzO1nP2d3gIvDy5UsV67t371axVbNmzeDqCtslARIgARIIJIHu3bvLwYMHZe3atRIjRoxAns3DSYAEHIUARZejjEQA+4FNkl+/fi1jxowJ4Bk8zJ0JzJgxQ3r06CFNmzaVgQPaCv8tAAAgAElEQVQHSsSIEd0ZB6+dBEiABJySQM+ePWXfvn2ybt06XYvLQgIk4HwEKLqcbMwuXLgg33//vdy7d8/Jes7u2pPAkSNHVGxhATbEVsGCBe3ZPNsiARIgARKwMQE80w8dOiQbNmyQSJEi2bh2VkcCJGA0AYouowkbUH+RIkWka9euUqFCBQNqZ5XOTODt27cqtrDFwIABA6R169bOfDnsOwmQAAmQgBkBbO2BydeNGzdKyJAhyYYESMCJCFB0OdFgmbo6ZcoU2b9/v67tYiEBE4GpU6cKMhPWqVNHf8aJE4dwSIAESIAEXIwAJtMeP34sK1eudLEr4+WQgGsToOhywvF99uyZxI0bVzw9PSVy5MhOeAXssi0JbNmyRfr16yexY8eWPn36SIECBWxZPesiARIgARJwMAJ169aV8OHDy+zZsx2sZ+wOCZCAJQIUXU56b9SoUUNKly4tzZo1c9IrYLetJXDmzBkNIbx06ZL06tVLPVwsJEACJEAC7kGgXLlykjVrVt1zkYUESMDxCVB0Of4Y+dpDbJY4bdo02b59u5NeAbsdVAJIojJo0CDdtwXrt5AOnoUESIAESMC9CLx580YKFSokjRo1kvbt27vXxfNqScAJCVB0OeGgmbqMNTvYu+O7775z4qtg1wNKAGGlQ4cOlYkTJ2oiFSyojhUrVkBP53EkQAIkQAIuRuDy5csaUj5r1iypXLmyi10dL4cEXIsARZcTj2fbtm0lfvz40rt3bye+CnbdPwLv3r3TMMIRI0ZIx44ddUYzWbJk/p3Gz0mABEiABNyAwNatW3XT+7/++ksyZcrkBlfMSyQB5yRA0eWc46a9xgMWWYywtofFNQlgI8wOHTpIqVKlNFlGokSJXPNCeVUkQAIkQAJBJoAIiMWLF2tmY+zPyEICJOB4BCi6HG9MAtUjzGrNmDGDGesCRc05DsbiaBhSrN3jnmzOMWbsJQmQAAkEF4HmzZtLqFCh1GawkAAJOB4Bii7HG5NA9WjIkCHy6NEjmTBhQqDO48GOTQD7bCFJyrJlyxhK6NhDxd6RAAmQgMMQyJ49u2DpQZMmTRymT+wICZDAvwQoupz8Trh69ap6uSC8WFyDwLhx43Tj623btknMmDFd46J4FSRAAiRAAoYTQHIthKOfOHFCUqVKZXh7bIAESCDgBCi6As7KYY8sWbKk/Pzzz1K1alWH7SM7FjACWKf3ww8/yOHDhyVdunQBO4lHkQAJkAAJkMB/BH799Vc5cuSIrFmzhkxIgAQciABFlwMNRlC7MnPmTNmxY4eGorE4NwF4LVu0aKH7rrCQAAmQAAmQQFAIFCxYUEMMmzZtGpTTeQ4JkIABBCi6DIBq7ypfvXol0aNHlydPnkiMGDHs3TzbsxGB2bNny/LlywXpf1lIgARIgARIIKgEEDWBNPIXL16UKFGiBLUankcCJGBDAhRdNoQZnFXVrVtXd6ZHCnkW5ySABdDIWFimTBnnvAD2mgRIgARIwGEItGrVSidihw0b5jB9YkdIwJ0JUHS5yOhjP6exY8fK7t27XeSK3Osy9uzZo5senzx50r0unFdLAiRAAiRgCIF79+5JkiRJ5MaNG8yCawhhVkoCgSNA0RU4Xg59dMKECWXnzp1MwODQo+R75zp16qSZCvv06eOEvWeXSYAESIAEHJFAly5dtFujR492xO6xTyTgVgQoulxouPHiHjVqVBkwYIALXZV7XErWrFll1qxZkjt3bve4YF4lCZAACZCA4QRu374tGTJkkAcPHnBtl+G02QAJ+E2AosuF7hCkGW/QoIEunGVxHgKenp6SKFEiefPmjfN0mj0lARIgARJwCgK1atWSIkWKSJs2bZyiv+wkCbgqAYouFxtZJGP47bffpFixYi52Za57Ofv37xd4KbGpJQsJkAAJkAAJ2JLA+vXrdc33rl27bFkt6yIBEggkAYquQAJz9MNHjBghN2/elKlTpzp6V9m//wgsWrRINm7cKIsXLyYTEiABEiABErA5AaSNv3LlisSPH9/mdbNCEiCBgBGg6AoYJ6c56tatW5ItWzZ5/vy50/TZ3TuKGci7d+/qTCQLCZAACZAACdiaQKVKlQRby9SoUUOrvnPnjmY2ZCEBErAfAYou+7G2W0tly5aVxo0b68aILI5J4PTp05IlSxbtHBKfhAgRQvr37y+fPn2Sa9euSdq0aR2z4+wVCZAACZCAUxBYs2aNPH78WFq0aCFDhw6VV69e6V6QyJI7b948QdghJmlZSIAE7EOAoss+nO3ayty5cwX7dq1evdqu7bKxgBHADGPBggUlRYoU0rdvX03zj9CP6NGjS7du3SRs2LDy9OnTgFXGo0iABEiABEjAFwKYgMXenchqXKpUKblw4YL8/fffal8yZcokR48eJTcSIAE7EqDosiNsezX17t07fYFHqti4cePaq1m2EwgCEFcTJkyQcOHCqZfr69ev8vHjR/3/lClTpGHDhoGojYeSAAmQAAmQgHcCr1+/1sy4L1++1Mk82Bt4u6JFiyaYnK1cuTKRkQAJ2JEARZcdYduzqUaNGkmOHDmkXbt29myWbQWQwPv37yVevHjy4sULb2fEiRNHHj16FMBaeBgJkAAJkAAJWCaASbwePXqo2DKVxIkT65ouFhIgAfsSoOiyL2+7tbZ582YZMmSI7Nu3z25tsqHAEZg0aZKGE759+1ZPjBQpkgwcOFA6d+4cuIp4NAmQAAmQAAlYIIDNkRFaaLIzgwcPlo4dO5IXCZCAnQlQdNkZuD2bS5YsmWzYsEEyZ85sz2bZViAIfPfdd3L9+nU9I3z48BprHzFixEDUwENJgARIgARIwDKBLVu2SPXq1QXhhmHChJFnz55J5MiRiYwESMDOBCi67Azcns11795dQocOrVmLWByTwLJlyzSzFMINW7durRtbs5AACZAACZCALQkgZfymTZukSZMmMn36dFtWzbpIgAQCSICiK4CgnPGwEydOSLVq1TQFOYvjEkDK3jNnzsiNGzckadKkjttR9owESIAESMApCVy6dElKly4ts2bN0kyGLCRAAvYnQNFlf+Z2bTFPnjzq6eJD1q7YA9XYrl275Pjx41zLFShqPJgESIAESIAESIAEnIeAS4muJ0+e6J5Hhw4dUs8B1sogExzimJGSm4UESIAE7EUA6f+xbgLbNqRMmVLXVubNm1dKlCghsWPHtlc32I6LEKB9c5GB5GWQgJsTcGfb6BKia86cObJkyRLN1Pf9999LgQIFJGvWrIIkBfHjx9cXHwyyO5b79+9LmjRpxNPTU9d3sZAACdiHACZ6MOHz8OFDDfE9deqU7N+/X3bs2KGbY9euXVsaN25sn86wFaclQPvmtEPHjpMACfhCwJ1to1OLrhEjRsi4ceMEIXT169eXn376yW3FlV/f7AoVKkjNmjWlXr16fACQAAkEMwEYnFWrVsmCBQvk8OHD0qFDB0HSGxYSMCdA+8b7gQRIwJ0IuINtdErRtXz5cunVq5eG6nTp0kWyZ8/uTvdloK910aJFsnTpUlm/fn2gz+UJJEACxhFAspvRo0drSPSvv/4qNWrUMK4x1uwUBGjfnGKY2EkSIAEDCbiqbXQ60dWqVSsNIxw1apSULVvWwCF3nao/f/4s0aNHl4sXL0qiRIlc58J4JSTgIgSwj07Xrl017HDatGkuclW8jMASoH0LLDEeTwIk4MoEXM02Oo3ounXrltSpU0cyZsyoe0y46xqtoH65mjdvLunSpWOGvKAC5HkkYDABhFa0bNlSzp07J4sXLxZsbs7iHgRo39xjnHmVJEACgSfgSrbRKUTX+fPnpWLFigLhwLUPgb9hcQYW7yMkE2tIWEiABByXANbyzJw5U9atWycZMmRw3I6yZzYhQPtmE4yshARIwMUJuIJtdHjRhRnAkiVLSseOHeXnn3928VvK2MtLlSqVYL1Ajhw5jG2ItZMACVhFYPLkyfLbb7/JH3/8QY+XVSQd+2TaN8ceH/aOBEjAsQg4u210eNGFNQ7wctHDZf2N36dPH/nw4YOMHDnS+spYAwmQgKEEMKsHbxfWsLK4JgHaN9ccV14VCZCAcQSc2TY6tOjCouIvX77IjBkzjBs9N6r57Nmz8sMPP8jt27fd6Kp5qSTgvARatGghIUOGZHIN5x1Ciz2nfXPBQeUlkQAJ2IWAs9pGhxVdCIMbPHiwnD59mkkzbHgLY2a1d+/eKr5YSIAEHJsAFhBnyZJF+vbty3Tyjj1Ugeod7VugcPFgEiABEvBGwFlto8OKLqw/mjRpEtPC2/iLNnHiRDl69KjMmzfPxjWzOhIgASMIIGXuL7/8IlevXjWietYZDARo34IBOpskARJwKQLOaBsdUnQhXhMeLmzqy2JbAo8fP5bEiROLp6enRIgQwbaVszYSIAFDCNStW1c9Xlzbagheu1ZK+2ZX3GyMBEjAhQk4m210SNGVIEEC2bRpk2TPnt2Fb5Xgu7SqVatKhQoVpHHjxsHXCbZMAiQQYAInTpzQkOAHDx4E+Bwe6JgEaN8cc1zYKxIgAecj4Gy20eFE15w5c2Tt2rXi4eHhfKPvJD3GeoLff/9d4JplIQEScA4ClSpVksqVK3OyxDmGy9de0r458eCx6yRAAg5JwJlso8OJrtKlSwuyklSrVs0hB9dVOhUzZkw5fvy4JE+e3FUuiddBAi5NYOXKlZrJddu2bS59na58cbRvrjy6vDYSIIHgIOBMttGhRNeTJ090I9DXr18zY6HBd26bNm0kadKk0qNHD4NbYvUkQAK2IIBsTZEjRxZsqBs7dmxbVMk67EiA9s2OsNkUCZCA2xBwJtvoUKILYW9InsHQQuO/K3v27JEOHToI4mFZSIAEnIMAwiiwcLhGjRrO0WH20osA7RtvBhIgARIwhoCz2EaHEl2dO3eWuHHjMkOXMffkN7WmT59e5s6dK5kyZZJIkSLZqVU2QwIkEFQCyHz36NEjGTNmTFCr4HnBRID2LZjAs1kSIAGXJ+AsttGhRBfi3Tt16sS9uezw9YCnC4u6Dx48KDdu3JB3794xpNMO3NkECVhDAMlvxo4dy3Vd1kAMpnNp34IJPJslARJweQLOYhsdSnRhw8jNmzdL6tSpXf4GCe4LLFasmAoulHjx4uk6ERYSIAHHJnDlyhUpV64cN0p27GHytXe0b044aOwyCZCAUxBwFtvoUKIratSocu/ePYkSJYpTDLKzdxJZIhcuXCgIMzx27JizXw77TwIuT+DVq1eSKFEiefnypctfq6tdIO2bq40or4cESMBRCDiLbXQo0RUyZEj5/Pkzw9zseBcj5CVJkiQye/ZsO7bKpkiABIJCAFmaQoUKJV++fAnK6TwnGAnQvgUjfDZNAiTg0gScxTY6lOgKESKEABwLCZAACZCA7wT4nHTOO4Pj5pzjxl6TAAk4BwFneMa6meiioHOOrw57SQLOTCCEoZ13BsNiKAAnrTz4xo12z0lvGXabBEjAIoFv7WzwPWMDPkwUXQFnxSNJgARIIAAEKLoCAMntDgm+FwKKLre72XjBJODyBCi6rB5i440SjY/Vg8QKSIAE/CFA0cVb5FsCxts3S9Rp93g/kgAJuBoBii6rR9R4o0TjY/Ug2aGCsmXLSb16daVevXp2aM12Tdy9e1dSpUot7969tV2lNqppyJAhcvfuPZk2baqNavS/mm3btsnUqdNkzZrV/h/sUkdQdLnUcNroYoy3bxRdNhoqu1RDO2d7zLRztmfquDVSdFk9NsYbJfcSXaNGjZJJkybLo0ePJGPGjLJw4QJJly6djtM///wjsWLFliJFisjWrVu8xg4PrYMHD8mGDeu/Gc+//vpLYChev35l9Vj7VQGNke3xHj16VF6/fi3Yn81W5fvvS0mzZk2lVq1avlaZK1dumTRpouTLl89WTTpJPRRdTjJQdu2m8faNosuuA2plY7RzVgL05XQj7Fzo0GHk7t07Ej9+fNo52w+ZFTVSdFkB799TjTdK7iO6Zs6cKYMHD5GlS5dI5syZZe/evZI0aVL9P4qHh4f88ktbefz4sTx58lgiR46sf6foCvpt7MierqBfleUz/RJdR44ckTp16sqVK5eNaNrB66TocvABCpbuGW/fKLqCZWCD2ChFVxDB2fk0v0SXe9s5Ow/EN81RdFk9AsYbJfcRXSlTfif9+vWVRo0a+TouzZu3kGjRosnmzZtl8OBBUrVqVUNF16lTp6Rhw0Zy/fp1+fnnn+W3336Tq1evSOLEieXp06f6GYQhPDHY+BUeFFN44YgRI2TChInqnUuRIoWsXr1KkidP7u/95lebOLlRo8YSL148OXHihJw/f17ChAkj165dlVu3bknTps307xEjRpQKFSrIuHG/Sfjw4WXWrFkye/bvEidOHLl9+7b2Y+7cORI9enQxia7hw4ep4MVmqBC9efPm9bev9erVl0+fPsn9+/eVB9ocNuxXrz3r5s6dK8uXr5CUKVOqYP748aN6I3PlyiUI4+vUqbO2nydPHpk9e5buvYayfv16adu2nbx48UJq1qzpLbwQdfTt208WL16s9WGz7AED+nu1ietr16697Nu3T/eG6tq1i3Tu3FkmTZoko0ePkb///lvFeqRIkSRLliyybp2H13UOGjRIbt++I7NmzfT32l3vAIou1xtT66/IePtG0WX9KFlXQ3DYuUWLFkmPHj3VfsBmrlmzRm2rqSRPnkK6desq06ZN10nW4sWLy+LFi9T29+zZS20y7GDbtr9Iu3bt9DRXsnOwU5hg3rVrl8SIEUNGjhwhVapU8eLz559/Steu3eTChQvKYcqUyfL9998LbDKie/A+gPcU2MAWLZpLr169aOes+5rY6GyKLqtBGm+U3EN0PX/+XGLGjKVehlSpUn0zLtgLLXFibIg8SzZv3qIiZ86c3w0TXWgvQ4aM+sD65Zdf9EUfQurOndv6MGvSpKm8efNG5s2bK1u2bJEqVarKggXz1YBcu3ZNcuTIKefOnZVEiRIJjFrChAklbty4ft5v/rVpEl0wPJs3b5IcOXLIlStXlNelS5dUcEH4YLPu8uUrSKlS30u/fv3UGLVq1VpOnz4lGTJkkDZtfpbQoUPLhAnjVfQkTZpMBg4cIN27d1fhdfjwYW/hm5Y6jQc8jj1+/JiKv3z58kvfvn28xDBEV+vWbTRcr2nTpuLp6Snv37/XtmFUYUTLlCmjRhSMduzY7q0p32LdBwwYqILNw2OtYOPWMmXKqnGuUaOGXje4//DDDyre3717J7t37/ZmrPzydFWvXkPy5MktXbt2tfq54HwVUHRhzPASiHu5YcOGgvvXvLRs2VJmzJihYh/3sC0LQowQ8nr16lVbVmt1XcbbN4ouqwfJigr8szlG2DlMjMG2btu2VbJmzSo//lhe7ZBP0QWbiec8Jgth39KmTSsbN27UiUGEf9+8eVNtDtbfYsmBK9m54sVLqK0eO3aMXnvJkt/LsWNHNfIH/DJlyqzvHhUrVpQbN27oxCcYmIpfni73tnNWfFlscipFl9UYjTdK7iG6Ll68KOnTZ5CnT59IzJgxvxmXY8eOSYECBeX582eyc+dO9eo8eHBfX7yNCC/EDBLW97x44akvWFhjFi9efC/RFTduPFm7do0UKFBA+5ouXXrp06e3ii7MwuGhiM/hBQsbNmyA7jP/2jSJrnDhwsn06dP8rHPy5Mnyxx871cMGYzRjxkw5fPiQngMvEMLobt26qcYuSZKk8urVS/UAgXO1atXlxo3r/vYZoguGEbNwKEOHDpXLl6+oMUDBS+uwYcPl0qWL3upavny5DBkyVEUgiomtqQ+mg30TXRCIEN6lSpXSwxCSumvXbhVwEIA//PCjPHz4wOJLsV+iq1Sp0vLTT1WlVatW/l676x1A0YUxheiCNx0TJPg+wlNs+nv69Onl3r17OuFja9GFdjEpETt2bIe6tYy3b5Yu1z3sXnAPtn82xwg7N3XqVFm71sNrYg/2oFev3t+ILkRN1K5d209EEBCFCxdSb5er2Dm8P+B9Au86iMhAqVu3nhQtWkQjO0aOHCn79x/Q9wtLxS/R5d52Lri/cRRdVo+A8UbJPYyPf56ugQMHqddi166dmlwBXrG9e/fojJcRogttIXwQwsRUQoUKrb9DaOChhrA+hA6ilChRUpo0aewVXrhgwQINjYAHB96c33+frS9zfhW/2oR3DQXhhenTp1OvlHnBCxvC9RB2gJl4MMqfP7+sX79OjdGKFSu9jBwMbfbsOTRjoc81XWfPnhUIEwgX/wpEV8aMGaRnz556KIyph8c62bJls/4O0bVs2XL1ypkXhPqtW7deZzrN2UKcmXs5fYouzMqCO5ibXno/fPggmTJl0jDBVatWqafu5MkTFrvul+iC2MybNw89Xf4NfBA+N/45GYRO+XIKxA8mH6pXr66zyPiJsmnTJpk/f76sXLlSPai4//A7JhrwfcMMNL7zCJEdM2aMTl7gOHy/INwQDovvcJQoUaRPnz6ydetWnZ2G96xjx45i7ukaP368nD59Ws+H1xx9wr2dLFky9fLC8472cS5ewDCJEpDQ5aAQCr5xcw+7F5QxseU5wWHnEK0A74xpcg4h+vCo+fR0LVu29Jsw9zNnzmhYImzYly9f5MmTJxqlgRByV7Fze/bsEQgjhOWbCqJqfvnlZ7X7CL1H2CCWD1gqfoku97Zztvz2BKUuiq6gUPN2jvFGyX2MD7wYgwYN9HVNV+7ceeTkyZP6sEHByzbilIcMGWyI6PI5A4i4csz6mcIL4fWCuMiePbv2ByKmc+dO36SMf/bsmVSsWEmqVKmshsGv4l+bOBeiK1OmjNKlSxdvVeFBDOE6Y8Z0XdM1YcIE2bZtu66hgjHC+jKTZwmeQtRz+/Ytq0UXvJIIU0Tp16+/hnzMnz9Pf4foWrly1TdZJS15ul6+fKEvpaZiydMFIYmwFJ8lIJ6u0qXLSOPGjXydQYWwv3OHa7qsfij6UoHxz0nb9BoCByIJImfOnDmydu1arbhBgwZSuXJl+emnn1RkwduF0OFz587pyxEEEK5x2rRpMm7cOMH6QIQFITQKogqTIPDKYh1l27ZtZfDgwfLgwQNJnTq1rs2Et9cUXohJiQEDBggmQJB9DJ7XWLFiaZ0QXrNnz9aJHBwD0YcXWNOkjG0o/L+W4Bs397F7th6zwNTnn80xws759HStWLFCQ8x9iq6VK1fo+l/zkjlzFmnZsoW0adNGo1yqVv1JChTIr/bQVewcPF1430GyMHz/fJaAeLrChg2nE8QJEiT45nz3tnOB+XYYcSxFl9VUjTdK7mN8EBI3YsRIwQwXMhZiQShebPDikjAhXnDOCkJ8UMaOHSvz5s2XU6dOquiCux2hdKaCcUEYnillPB5g5gWf+fZAMx1jinVv1aqlziz37//vC45JdCGph2mBK2alIbowc4fwQggPPDgLFy6sa5jKlftB6tevp6EBpmIyNAcPHvAKKfKvTZxrSXTVr99A0qZNo7PomBVDTDhCpEyiC/3dtGmjLkhGqAJe5iZPnhQg0YUYcnjyxo8fJz/++KPXNcDT9ccff8j+/fskQoQIUrBgIUFCDpN3wJLowuxkihQpNSSwbNmyOnMJz8Du3bu8jZFvogvCDsdiPR9CsfBiCi8f4tmxpgvjgDVd/fv3U/aYNaxUqZJXvfBewlOJ0BXfRBvYMHuh1Y/Fbyow/jlpmz6bRBcS4EDgQBDh3oY4wvpJ/N+0puvVq1dekwRLlixRkQZPFEQXFsAjeQwKviPt27fXexWiC5+ZJmvwjMBn8FSZi67t27d7nY8JFNzzmGSC9xoTOSgPHz7UlypMFFB02Wb83a0W/2yOEXYO9gRLCRC1AjtfoUJFtZkBEV0IhV+yZLEUKlRI1z9iDS/W75pEl6vYuaJFi6lN69Wrp040wxuICI/vvvtOk2Rg+QImN+GNB0941PEsMZVkyZLrBCwmZ2jnHOlbTdFl9WgY/zLhPqILBmDYsGG6OS08S9ina9GihbJ//34ZOXKUXLx4wWu8MLuLbIeYzUGYDxJdmBfMDENoQXQVLvz/BaamY86cOa1haX4VhAY2aNBQH3J4MUIijevXr+lLO1588AKPFx/8jlCh9u3bqejCDDdEENapYdYcyS2mTp3ibW0XZuVgILAuzXwvDb/a9Et0Xb58WdtE2BEWGmMRLvphEl2LFy9REYpQJKwzg0CEaAxIeCGMW+rUadTYme9vBdGFmHMIGwipJk2aqOjCDCSKJdGFz5AMpEuXrrpGBrOZM2fO8ArVNI2Jb6ILHk6EpyD7FTx7CEccOnSIlCtXTk+D8Ub2QtwzpuyF5l5BJBtBv3EuXnw3btzg7RbImTOXilHu02X1o9FbBcY/J23TX5Pows/mzZtrZk14czds2KCiCtcB0YV7HJ4mhAmi4H5CiOGOHTtUdMErb0rEgRTN8JLhXofowmemcEBMYuAz3IvmouvgwYOycOFCrRueL/yO2X143MyTbeA7jRBEii7bjL871hIcds6UvRA2v379+upZvnz5khd+JFryzdO1bt069YphQhF2Fx5krOkyiS5XsXN4r2jfvoNO0OB5Axs5bdpUFV0oCAvt1q27vmPg/cGUvdAEEKHOWCcHvpg4xmSseXFfOxfc33CKLqtHwPiXCfcRXVYPhoEVwHsUNWo0XQeF7Gb2KLZqEwIPC5d92zzamuuAeMmWLes3oY7W1Gl+LsQVxK0pfNFW9fpVD16iIfr9WqRsj37Yvw0m0gBzc9GFFx5MtEAoYUKhdOnSXqILnupff/1V11DicwgkiCyT6IJ3C1sfoMD7hZdCeMRxLD7LmTOnfoZEPPgMgs0/0YW1k5gwwYQUCtJK44WLni77f1tctUVb2ZzA8EFGQkS4YI22NYV2LuD03NfOBZyRMUdSdFnNlaLLaoQOWwG8ZJhZQggP9uhav36D7Nz5h6H9NdP3kVwAACAASURBVKJNZzRGCBXERpxYC4cZfhajCVB0+RRdWKiPcGY847F2C55Tk6cLa7fw4gJhBS8XQmox6w6PFDxdAwcOlOPHj6v3tlmzZurxhscKogv7EOIYhCAjvAqeK3jB/BNdWMuFZxHWmSH0qHfv3ppIg2u6jP5uuHb9Rtgc/4hBaCHUHZl9a9asJVmzZtHtTawptHPW0OO59iFA0WU1Z4ouqxE6bAXYk8cUtohwPWyaa3LvG9VpI9p0NmP03XepdBYfcfsIMUE2ORajCVB0+RRd+B3Jb7A2EIIJxSS6ILQQNgxPLEL7EBaNMEF4xLAG9cCBA7q2EmINa8OWLl2qXimILoglhERj8+8ePXropIJ59kJTOKHP8EL8jnqQwQz14Dz8H21g7asRxXj7ZqnXjPAwYjx9q9MIm+Nf35s1ay6rV6/WNZLY/gMh3ab06P6da+lz2rmgkuN59iNA0WU1a+ONEo2P1YPECkiABPwhQNFlq1sEXiwIIWQr9FkglqwRSVijYRJ/8AZjTRcyKSJjqRHFePtG0WXEuLFOEiABRyRA0WX1qBhvlCi6rB4kVkACJEDRZad7AKILmQox8+6b6MJnQU18gQX1yIKKf/PmzdMsrkiEYFQx3r5RdBk1dqyXBEjA0QhQdFk9IsYbJYouqweJFZAACVB02ekeMFJ0ISsn9u1CaCIyuCE0zJR+3ojLM96+UXQZMW6skwRIwBEJUHRZPSrGGyWKLqsHiRWQAAlQdPEeCDQB4+0bRVegB4UnkAAJOCkBii6rB854o0TRZfUgsQISIAGKLt4DgSZgvH2j6Ar0oPAEEiABJyVA0WX1wBlvlCi6rB4kVkACJOD2ogvZ/rApKzIHVqpUyfA7YtOmTTJo0CBdc4VEF0WLFtUU79jQOyjFZ1bDoNQR2HOMt28UXYEdEx5PAiTgrAQouqweOeONEkWX1YNk5wpurFwpN1aslBLLltq5Zds355EnrxScOkVi/7eZq+1bYI2OQcD1sxfGihVLdu/erXtjmQr24goZMqTNh2DDhg1Sp04d3d8PqeSx6TKSXmAD5YsXL0qMGDEC3aa1ogvZDrHXWGCK8faNoisw4+GKx9JeuuKo8pp8J0DRZfWdYbxRouiyepAMqmBr+QqSrWdPub9zp4QKH06ydO2qLbmTEbHEwCDkrNYwAq4tuqpUqSLr1q2T1KlTy+jRo1UQ9ezZUz1Pd+/e1Y2KkaDi8ePHupHx0KFDdR8ueKkaNmwo5cqVk7179+pGyFOnTlUxdeXKFSlWrJhMnjz5m1HJli2b1K9fX/f5Mi/Y4Lh8+fLy448/6h5d1apV04+xyTI2h0XGwwYNGujeRdi7y9PTU/cIQzv4uW/fPoF4woa22PdrzZo1ug/Y5cuXNaPhw4cPdV+7CRMmSIECBXSDZuwdlilTJt2AedeuXYG6g4y3bxRdgRoQJz6Y9lKE9tKJb2CbdJ2iy2qMxhslii6rB8mgCmhEaEQMurWCoVrXFl0Aij2yTOna4fWCGIHowt5XECV9+/aV2rVr6z5aECzXrl1TEQMBBcGFv0GsnTlzRo4cOaLnIYMgBE+CBAm8xgyZBdHWzZs3VRD5VuD1gnDCBrEo6EuaNGmkbNmykiNHDtm6dasKLw8PD+natau2AdHVv39/PS99+vTalxQpUqhAxDmtW7eW5s2ba9/gXbtx44ZcunRJ8ufPLxB7NWvWDPR9Zbx9o+gK9KA46Qm0l7SXTnrr2rDbFF1WwzTeKFF0WT1IBlXglxG5tmSpRIwfX25v3CgxMmWSYvPnSbiYMeXVjRuysVhx+a5uXXly7Kj2LP/48RI9XTp/e/nB01P2/fKLPNp/QOLkySOf3r6V1PXrSYr/ZsuvLV0qtzzWSZRkyeTOli3y5eNHKb5oobZ7oEMHeX7mrISKEEESlyktuYYMkVDhwvnbH4QXfle3jlxduEg+vHgh2Xr3kjQNG3r1lTN3/g6bkxzgXqIrduzYghDAfPnyqbiCsMImw3ie63cyf371RH333XdSvHhx9YChQJg9ffpUpkyZor/Dc7Z8+XJvadtv376tYuvt27fqNfOt3L9/X8/FT3im4LU6dOiQ9gFeLXi4UBCWGDZsWHn06JEsXbpUtm3bph47FHizjh07JoMHD5YMGTLouaZQydy5c6tHD+IyT5488vr16yCFURpv3yi6nOQBYXU3aS8puqy+iZy+Aoouq4fQeKNE0WX1IBlUwb1t2yVm1izyz/0HEiJUSImZJYu2hPDCA+07SPHFiyRu3ryyq25diV+kiGRq315FjkfefJJ39GhJ3aC+3PLwkLO/jZMfd/sf9nOoSxd5/9xTCk6ZLA/37JVd9erp/81F1+Gu3ST38OGSqm4dFUlfPnwQiLVnZ86q2Pr6+bPsqltPEhQtKpm7dPa3PxBdUVOnlsIzpsvjo0dlT6PGUuPSJQkZNoxeqyUGBiFntYYRcD/RdeDAARU++FmrVi25deuWF12E/yEkEaIM4YDwWqEMGDBABQwEDUq6dOlk4cKFgk2LTeXNmzcqpBB+6FfSjBIlSmgIYvLkyaV79+5y+PBhOXnypHqpTO2hzkiRIunf4f06ePCgtodiWuPVoUMH7af5hsvoA8Ig0b8yZcpoaGFQivH2jaIrKOPijOfQXtJeOuN9a9s+U3RZzdN4o0TRZfUg2bkCiK6LM2ZKuW1bteULU6aK58WLkn/CeC+RU+vmDQkdMaKKoKXJkkuF/fskctKkfvZ0ZYaMUnT+PInz3wve+kKFJFOHDt5E17nxE6Tigf1+1nPp99/l4d4/pejcOf72B6Ir19AhkqhUKa1zaYqUUuHPvRIpcWI7U2VzxhJwP9EFAQNRZPJ0ISzQ5CnKmzev9OnTR8P3Aiu6ME7wNEG4QaSZF4QH1qhRQzJmzKjrt1auXKlhhfCMYf0XxFWRIkV082PYlvfv36u3DN61xYsX+yq6hg8fruGRJu+YeXsIp0TIItatBaUYb98ouoIyLq50Du2lK40mr8VvAhRdVt8hxhslii6rB8nOFfhMpHFp9mx5dOiQFJ4xQ0XO+sKFpY7ZSxDEVLEF870yBK7MmEne/RfOVOnQQYmSIoV8/fJFFiVIKJWPHPYSZ9urVpVUWNdhHl641kNKLF3i7Yrh8TrWr788OnhQQw4/vXkjsXPnkuILF/rbH5/ZC1ekTSdlNqxX7xeLKxFwX9FlWtPVu3dvXScF4VOyZEm5evWqeoiCIrq2b9+uaekhiOBFQ8E6rmXLlsnp06clSpQompQDYgteMQjApEmTatvwmiGUEEk24NVCHRBPPrMXmv+eM2dO6dKli65JQyhk+/btZcaMGeoxo+hype+p610L7aXrjSmvyBIBii6r7w2KLqsRulwF/hkRhBciRC9sjOjy+cMHWZYipVSEp8vConsToG88XYULa8iiuei6vX6DruMyL0d69pIPLzwl75gxEjpCBLk4c6Y82L1HjzOFO1rqD0WXy92eFi7IfUUXgCA5BrIXPnnyRCJEiCCjRo3SRBYQO0ERXahzx44dMnDgQDlx4oR6qyB+kLgjYcKEXmMAYYY2kZUQBaILnjBkTsSaM9gXJMEoWLCgn6ILiTZatmwpd+7cUW9dp06d9Hro6XKX76/zXiftpfOOHXseWAIUXYEl9s3xFF1WI3S5CgJiRDJ1aK8p5i/NnCVIgFF+z26R/xbxWwKCNV0fPF9IwSlT5OG+v2RnrdpScPIkf0XXvjY/S9RUqSRzp47y6Z9/ZHuVKhI+dhxvostSf6wVXStWrJBDhw7L6NGjXG6cXeuCXF90OeJ4QShlzZpVsHGzSXRVr15d14M5QjHevlm6SkZ4OML426MPtJf/p0x7aY87LjjboOiymr7xRonGx+pBsnMF/hmRjcVLSLrmzeXirFkaOlhg0kSJkSGDv73U7IU//6JhgnHz55NPr99IaizE/6mqngvx5pun6+W1a7Lv558lZKjQEiZKFImWNo28vHrNS3T51R9rRVfbtu00Lfa9e0FbU+IvFB5gIwIUXTYCGeBqkJoe3i/8jBo1qpfoQlghQhsdoRhv3yi6HGGcg7MPtJf/p097GZx3oj3apuiymrLxRomiy+pBcqAKNGV88RKCRBrWls2ly0j2vn0lfuFCQa7Klv3xrRMFCxbS9TGDBg0Mch95oj0IUHTZg7KpDaSjnzt3rkyfPl3XfpkKwgspukCDds+e96OjtmVL+0R76aij7E79ouiyerQpuqxG6FYVWGNEXl2/ruGB2Pfr6YmTsrNWLU2sEea/WfKggLSmP/61988//0jSpMnkypXLEiNGDP8O5+fBSoCiK1jxO2jjxts3SxdO0eWgt4Rdu2WNfaK9tOtQsbEAEaDoChAmvw4y3ijR+Fg9SA5UgTVG5OnJk/Jn8xby8eVLCR83juQaPFgSFCtm1dVZ0x+rGubJDkaAosvBBsQhumO8faPocoiBdtBOWGOfaC8ddFDdulsUXVYPv/FGiaLL6kFiBSRAAv4QoOjiLfItAePtG0UX7zsSIAF3IUDRZfVIG2+UKLqsHiRWQAIkQNHlB4FPnz7pHlp169YN8J2Cc8KECSPhwoXTc5CqHRsdIy186dKl/awH67kaNWqkx8SOHVv36cJGzY5WjLdvFF2ONubsDwmQgFEEKLqsJmu8UaLosnqQWAEJkABFlx8EsJdWz549ZcuWLQG+U0yiC3tjJU6cWPD7mjVrpGnTppryPV68eL7Whc2YEyRIIA8fPqToskibdi/ANyIPJAEScBICFF1WDxRFl9UIWQEJkECwE3Df8MJXr15JxowZ5fnz55I3b17d1Bj75WBj448fP0r8+PE1y2C6dOm8jZJP0WX6MFu2bDJo0CD9hyyFyEaIsn79eunXr58kT55cPDw8JEOGDLJ582bJnj27HjtlyhR58OCBdO7cWXr16qXnWOrH+PHj5fTp0/Lu3Tu5du2aCr5Vq1ZJMn82WA/sbWa8fbPUI4quwI4VjycBEnB0AhRdVo+Q8UaJxsfqQWIFJEAC/hBwX9EFMCtXrpRZs2app+v27du6YfGRI0c05G/GjBkye/ZsOXToUIBEV+bMmTXE8MKFC/LXX3/pPnUoTZo00fDDZs2aqWcMggkF4YW1atWSiRMnyuXLlwXne3p6ypMnTyz2Y9KkSTJgwAA5e/asisJWrVpJrFixZOjQoTa90423bxRdNh0wVkYCJODABCi6rB4c440SRZfVg8QKSIAEKLr8IGAuuiCwECa4YcMGPQPiKEKECCqEokWL5lWLT08XvGLwTLVt21Y3N3779q2kTp1a7t+/L5EjR1ZxBOGGjZB9iq5t27ZJjhw5tO6YMWPKsWPHZOfOnRb7sWDBAtm+fbt6zFAmTJig58ybN8+md7rx9o2iy6YDxspIgAQcmABFl9WDY7xRouiyepCCuQKPPHml4NQpEjtnzmDuCZsnAUsE6OkyebqGDRsmFy9e9CZgIkWKJKdOnfKW7MJnIo1QoUJpyODYsWOlcOHCCrpEiRJSv359DSns3r27HD58WD1YPkWXeSINU2INCDhL/YBHDucsXLhQ24Hny/x3W93nxts3ii5bjZWr1EN76Sojyev4lgBFl9V3hfFGiaLL6kGyUQUP9u6Vs2N/kxLLlsqSJEml3qO/vdV8fvJkuTR7trx7/ESipUsnhaZMlqipU4sjGpFHhw7JwY6dpOL+fTaiI/L10ydZlDCRctlStpxk79tX4hUsYLP6WZGRBCi6TKILni6sj9q0aZMCxybfEF0vX76UKFGieA2CpTVd5qOEOuFFQ1gh1lthvVZARdeePXss9gMeLYouI78PrNtaAn7Zy09v3sjRvn3l9oaNajfi5M0rxRfMlxChQ9NeWgue5zswAYouqweHostqhE5TgV9G5OqChXIaM9wzpkv09Onl0YEDEilxYv0/RZfTDLEbd9S9RRfC9IYPHy779++Xe/fuSaZMmeTo0aPq2cJaK3id9u7d6+3+CIjoQnIOiC2EF0IkJU2aVF68eKHrr/ATYs5nynjT7+HDh7fYD5+eLXq63Pir66CX7pe9/Kt1a3n36JHkHTNGwkaLJrfWrpVU9epJyDBhaC8ddDzZLVsQoOiymiJFl9UInaYCv4zI2ly5JXOXzvJdrVrfXA9E13d168jVhYvkw4sXkq13L0nTsKEed/+PP+TEkKHy+tYtCR8njqRt1lTSNW/uVce1pUvllsc6iZIsmdzZskW+fPwoxRctlFjZssmfLVrI33/tky+fP0nsbNnVgEVKnMjr3Cvz5suF6dPl7cOHEj1dOik8a6ZETJhQjdqnf/6Rd8+eScT48fX4/OPHS/zChfT/N1aulDNjf5N3T55IgqJFJd+Y0RImalT97PWdO7KhcBHJNXSonB03Tj69fi2Zu3aRtE2a0NPlNHeybx11b9GF9O3IXPj582e5e/eueqeQqOLDhw8qlJBMI2XKlIEWXTihUqVK6t3at+//XmXs43X8+HH1pv3www/e9ukyF2GW+kHR5dRfNrfovCV7+fr2bfHIl18qHdgvkX3Jtkl76Ra3h5teJEWX1QNP0WU1QqepAOLl2ZkzkrBECbm2ZKmkqvfvRqofPD1leZq0UunQQYmSIoWvogthhvCCPT56VPY0aiw1Ll2SkGHDyL3t2yVMlCi63uvNnTuyuVw5KTZ3rsTNn1/rgeg63LWb5B4+XFLVraOi7cuHDyrQzk2cKN/Vri3hokeX44MGybOzZ6XUf5nSbq1bJ8cHDJBiCxao4Hp8+LBETJRIIidNqvVaCi/8e/9+2dukqXy/coVES5NWDvfsISFDhZY8I0d4iS41inVqS57hwyVEyJACI6rX/fWrXF20WLnc3bJVYmXPJhEs7FXkNIPuNh11b9Fl5DC3bNlSsxC2adPGyGYMqdt4+2ap2wyrN2RA7VipJXt5Z9MmOdKzl1Q9ddLX3sC+0F7acaDYlB0JUHRZDdt4o0TjY/UgGVzByytXZF3BQiqkwsaI7qvoyjV0iCQqVUo/W5oipVT4c6+GH/ose5s2k7j58np5uyC6zo2fIBUP7PfzKjwvXZJtFSpKjcuX9LidtetIwmLFJF3LFr6eZ0l07f/5F4mYKKFk+2+foFfXr8u2SpXlpzOnvUTX2py59HcKKoNvLLtWT9FlBO5z585J2bJlBT+RtdDZivH2jaLL2e4Ja/t7ed48ufz7HCm/Z7dF0UV7aS1lnu+YBCi6rB4X440SRZfVg2RwBQHxdJlnL1yRNp2U2bBeZ/M8L1yQE4OHyIvLl+Xrly/y/tkzydqtm6Rv01p7reGFaz2kxNIl3q/i61c5O2683Fi9Sj69+Ue+fv4sH16+lFo3rutxG4oUlaw9e0iScuUCJbq2V6kiL69eU++blq9f1ZP307mz/3q17tyR9QUKSu07tw2myurtS4Ciy9a8sTHy3LlzdWNlhBg6YzHevlF0OeN9YU2fA+Lpor20hjDPdVwCFF1Wj43xRomiy+pBskMFq7PnkKzdu1lc02XJiEAcpW7YQNI0bqyiBqGHcfLklgz/hSJBdN1ev0HXcZmX2xs2yKkRI+T7VaskQty48vz8edn6w49S6+YNPcw/T9fjI0fkQLv233jQ4OmKmTWrpGvx/3Vl5u2a1nSZ2rEDWjZhFwIUXXbB7GSNGG/fKLqc7Jawuruvbt6UdfkLSKWDByyu6aK9tBozK3BIAhRdVg+L8UaJosvqQbJDBZd+/13OTZwkhWfOkBjIXnjokERMkMDX7IXmnq7V2bJLoenTJG7evPLqxg3ZVPJ7Tcjhn+jC2qmbq1fL96tWqjfqcI+ecn3ZMi/RdcvDQ44NGKhiDWu6nhw9KhHix/da04V1WBB8VU4cl3AxYngRevjnX3KwY0cptmC+9v2f+/flyfHjkrR8eT3GWtE1dOhQiRMnjrRo4XvYox2Gik34SoCiizfGtwSMt28UXe543yGM/oPnc8k3duy/2Qs91uk6Yd+yF7qrvcTm6h07dpJatWpKsWLF3PE2ccFrpuiyelCNN0oUXVYPkj0qQLjf+Alyee5cef/kv326pk7xdZ8ucyOChBMnhg6R8LFjqyjC/iVx8+XzV3R9fvdO9rVuI6+Q9TBmTIlftIicGTPWS3Thki/PmSMXZ8yUfx4+VCEIQYhkGqZypFdvgTgLGTq0FJg0UeL/t6ErsheeHT9e3ty9p/1K06ihZPj5Z5uIrsyZs0iWLFlkkQ/PnT2GiG34RYCiy9Hvj8fHjkqcnLns2k3j7RtFl10H1EEa+/jypRzt208Qavjl0yeddCy+cIGv+3S5q718+vSpxI4dR2bMmC7NzTIaO8gQshtBIkDRFSRs5icZb5QouqweJFbgEASwyWz06DFky5bNUqJECYfoEzthIkDR5cj3wunxY+XvQwclTZ36kqx8Bbt11Xj7RtFlt8FkQ05FYPv27VKtWnW5efOGxDCLRnGqi2BnfRCg6LL6ljDeKFF0WT1IrMAhCOzYsUMGDhwkf/7pfZNZh+ic23eCosuRb4Gry5fKuxvX5dXDhxItQ0bJ0LylXbprvH2j6LLLQLIRpyPQp09fwfdv8OBBTtd3dtgSAYouq+8N440SRZfVg8QKSIAE/CFA0eXItwhE1+eHDyRZocJyceN6+fRVJHO7jrpHn5HFePtG0WXk+LFuEiABRyJA0WX1aBhvlCi6rB4kVkACJEDR5cT3gEl0JS9cRK/i5l9/yt8XzqvwipEuvWFXZrx9o+gybPBYMQmQgIMRoOiyekCMN0oUXVYPEisgARKg6HLie8Cn6MKl/H32rFxc7yEZW/8iiYobs0bSePtG0eXEtyW7TgIkECgCFF2BwuXbwcYbJYouqweJFZAACVB0OfE94JvowuW8vH9PLm7cIPELFZHUderZ/AqNt28UXTYfNFZIAiTgoAQouqweGOONEkWX1YPECkiABCi6nPgesCS6cEkf375V4RUmZkwNN8ReR7Yqxts3ii5bjRXrIQEScHQCFF1Wj5DxRomiy+pBYgUkQAIUXU58D/glukyXdfWPHfLi4QPJ0q6T1ybo1l6y8faNosvaMeL5JEACzkKAosvqkTLeKFF0WT1IrIAESICiy4nvgYCILlzevWPH5PqeXZKlbQeJmyev1VdsvH2j6LJ6kFgBCZCAkxCg6LJ6oIw3Sv8XXadOnZL69RvIq1evZOPGDZIhQwar++8uFbx580YqV64ily5dkoEDB0jjxo1tculH+/SR0JEiSbaePW1Sn5GV3Nm8Wc5PniJlNqw3shnW7ZQEmDLekYctoKIL1/Ds+nVNK5+8UhVJUamKVZdlvH3zX3R16tRZVqxYIT/88INMnz7NquvhyQEjYJS99Kt1Z7JPH168kOWp00jd+/ckROjQAYPKo0hAKLqsvgmMN0r/F13t23eQz58/y6RJE736faRHT7n0++/erqPE0iWSsEQJ2d2goTzcu1d+OnNawkSJIo8OHZK9TZpKtXNnZUniJPL5w4dvrj9RqVJSfNFCWVegoLy8etXb54WmT5fkVSrLyoyZ5N3jxxIiVCiJlDixpG/VUtI2bert2G0VKsrzc+ek+sWLEjLs/9cYfHrzRo727Su3N2yUr58+SZy8eaX4gvmyq249ub9r1zf9CR0xotS6eUPePX0qR3r2lAe79+gxsbJmlQITJ0iE+PEDNIZr1qyRAQMGyokTxyVkyJABOicgB4Ep1lDEzpEjIIcH6JgzY3+Tfx7cl7yjRgXoePODFiVIKFVPnZQIceN+c+7r27fl2ZkzkvTHHwNdr61PeLB3r5wd+5uUWLZUliRJKvUe/a1NvLpxQzzy5pNaN66rmEXZULiIZGzfTlJUqybLUqWWGBkySOl1HvoZWHlevCCFZ8zQe+je9u0SKlw4iZY2rWRq306SVqigx91ev172Nm3m7TIytm0r2fv2kcvz5snhrt30s7DRokmcPHkk97BfvUK0/Pou4Jx7O3bIySFD9fsSIUECyTGgv0SMH1+2lPvBV2z4HNeyKlPmbz7/6ewZ+ef+fdlcuoxIiBASPnZsSfT995Kjfz8JFzOm1/Fby1dQoX9/504JFT6cZOna1cohck3RBbFybcUyK9k4xulIF29KGe9fj956PpeLGzdKlFSpJGOrn/073OLnxts3S03/a/eeP38usWLFlr//fihx4sTxOhi2Y1HCRPrc2FK2nGTv21fiFSygn/tlEy09P9K3bBnk7+vHFy9kXcFC2nao8OElerp02p/4hf/9G8qnt29lRZq0Ejd/fim53Pv9+PLaNTnSs5c8OnhQwkSKJKkbNpCsPXr4a6OfnTolR/v0lWenT0uYaNEkYbFikn/CeJs8IyzZS0vP7SDfYGYnGmGfYJ8PduwkFffvC3QX/bKlXz58lCsL5kvaJk30OW2LcnLYMAkZOrTEzplTzk2YKKXWrrFFtWLJVuxr00bCx40rOQcM0HZgI08MHiKVDh/y893x/JQpcnzAQBWbkRMnlpQ1a0qmDu31fRAF9trz0iVvfa9957baZb/eHW+uWSt/tfS+6XvUVKm8xi6o746HunaVK/Pme+sPvmN4v/LrnQEn2P5+p+iy+qY23ij9X3TBy5U1axbp0qWLN+Pz5fNn2Vm7tj5007VsqSIgRMiQ+sV5sGuX5Bw8SNI0auRNdKng+vpVnh4/Ln9UryE1rv0rsHAezseLZqaOHSRZxYpebZnqxRcn//hxEr9IETUUu+vW05fneAX+NXofnnvKykyZ9IURxyUoVsyrjr9at5Z3jx5J3jFj9AX31tq1kqrev1m3vn75oj+Xf5dKSq5YLrEgZEKEkFBhw6pYxMtlriFD9Jh7f/wh8fIXkEiJEwVoDGfPni1r1qyVDU7g5TFKdAUIlJ0OskZ0fXn/Xn744w+Jlib1N6IrZpbMkq55cxXneNgWmj5NRQvurS8fP8q5CRPkyfETUnTuHAkZKpQaDoiu60uWqgfwvaenvrS9KVMdWwAAIABJREFUe/pESq351+j59V14cfmKbC5dWvKMGilJypZV0fjPg4eSuHQpr0kNeBcfHTggxRYu0PpgWDGJANFV5fgxCW/2MgnD9PTkSRVdte/ekdc3b8mJIYPl3aPHUnbLZq/RoegK2I0aGA9RwGp0rqMubdoo79+/l8ztO0r4WLED3Xnj7ZulLv1r965duyZZs2aT169feTvQL9GFzyzZRIguX58f06cH+fv68soVFV2YHIRNvTx3rj6Xqp48oZOdKHe2bNHnyvsnT6T6pYteE0p4Jq3Ll1+SVCgvmAT6/PatTpR+V6fOv/2xYKMxLquzZZeM7dpJqvr15P3Tp3Jn4yZJ17KFTZ4Rluyl7V9CA31LBuoEo0RXoDoRwIMdTXRZeneE6Lq7dZuUWLxIJ3EPdu4iScqUkez9+uqVQpB+/fpFliZPoZOjMbNkUcGF4te7I0TX6ZEj5cfd/598DxEipNekfVDfHfEe8PXzZ8k9bJjXSJhsP0SXpXcGHGz7+52iK4BfB8uHGW+U/i+6ateuI7lz55JOnTp906EdP1WThCVLSIY2bbw+g+gKEzmyvLh0SX74Y4c30WU66MmxY7K9UmV9wTMveNHE7Dk8Wz4LvjjwMsGbhoIXxGSVK3m1fWPlKrkwfbp6fzD7kfvXoXocZrI88uWXSgf2S+RkySxChReulMdanfExldVZs0nBqVO8hJ1vJ3fr1l3Onj0rmzZt/Obj6dOny8aNm2Tdfx4S0wEPdu+WY337yZsHDyR29uySf9xvEjHR/4Xcmhw5JWPbX+Ty3Hlq2OIVKiiFpk0TcPuzeQv54OkpaZs3+ya88MbKlWp43z15IgmKFpV8Y0ZLmKhR1YvhkSevZOnRXW6uXiOYvcF1gRVetiEuP756JV8+fZJwMWL8r72zgI7q2sLwjzykuFuQYiHBNXgJLi3uEKxAoUCRAsVLSwkuxYpTnKLBNRSKBymeoMWCFYJL0bf2oTPNhNFMbjLyn7XeyqNz75Hv3Jl9/7P32Ud184t9exE3YULcDAzEnz8Nx9OrV9WLumf7L5XAkCKrVncPHsKzGzfwScaMSjznatVKrUBJkXGIQU+SI8dH4YXmGEhfszdurETu81u3lBDP3bq1Ad8KFXxRoUIFDB36vdXfJ3tElwia+KlSodiwYR+JrlSFCuq9PseH+6tVYFkQ0BWZE5k78ebqik506USNeMtkbtVL1L+iy9R34cA33fH+/Xv1fTBVROjd2bffoB8v7t5Voks8WxG9kjrRpfP+vX76FCvzeBl8Jyi6rHvU3F10CaWr+/fj1onjyP9ND6Q04l01R1J7+2aq9Q92T8LBixcvgcePHxlcaE506S40ZhNFdJn6/dDdZ+v3VSe6dKv5b54/Vy+cNbZtRapChVS1B3v1Ur//8hsuXixdtMHl337DyTFjUfdwkEmPiTEbLYs7YqObh95Qv/XGiqXfiEjZSxMRCtK+2KUDPXsi7OQpJMqUSUUL6BZi5fP93b5BwjRp1Iv6o/Pn1eJTncNBqv/m7JP8Hh4ZMBAPz59Hsly5UGriRCTzzK2GbM4+yWcyFy/DwlTkgZRSP/+sPJDyLnKgRw88OHUacRImhEe1qmpBV8SBJVu6p2NH/H34CJ6Hhn4UXmiOwcGePRE77v/UwtyTK1eQrkwZtSitK5ZE18qVKzFo0GDs3bsHqVNbv4ASWU+XqXdHEV2h27brPXHy/rC7bTs0Pn/OIHOqeAqrb96k/w7IOM29OyrRNWaMUa+kPe+OIrqkGIscEtFl7p2BouvD0xnrvbzlOEjR3ih9GKrs4xLj89NPw9CwYcOPRm9KdKUt6YOra9eixMhRePvqH314oa4Ce0SXeLDu//kndtRvgHKzZ0FCE6WIiziRR2akLlpECZq6R4+o/3590yYVRiHhb+aKMdElAvL1k8fI36sX0hQvrsI4IpaWLf1w5MgRhIQEG3z07t07tG7dBsmSJTMIzfznwQP1Yy8iKqOvL/4c/hMenD6DyqtW6u+Xz+UH+7OFC5AgVSoVQiYub10xtqfrzv79inPllSuQLLcngvr3Q+w4cVFi9CglumSFUn5sczRrpkJDb2zZahByYsrTJWJAVk5FjD67fh2ba9RAhV9/VSErumIuJMJYzLwlBmK4JNyu9JTJKmRga42aH4WMenhkxueff47p03+x+lv54vZtZXxFuF9augw5W7b48JxbEV5YfvYsHOjeQxnss1OmGoQXhv8BvbZhA4L6foeGZ8/o+2VJdL1+/BiHBwxULwXy0iTF3ALExgq+8GzfXt9/YwBsfYmLKLqkzg3lP0Pudm2Vx1qKGL2UBQvg+c1biBUntlpNtK9ETYiMqT5o/ztpvGWKrg9c7gafRcj69fD6sj08Kle1+lGJqXkDPti9WbNm4eefJ+H06VOGfX7/HhcXL1HfO/n9TFW4EBKmS2dwjSnRZer3Q3ezrd/X8KJLIjMuLVmi7J7YORUS/P49VhUspBb0bgbuVItqujDAIwMH4Z8HYSgzbZrJOTFmo9/+8w8CihZD5ho1lKcrRb58H4kvS78RttpL6aCp3235bGvNWkhbsiQK9u+nwrxFgNU7ckTv7RPRJaJTtj/I79WTy5eR5NNP9WLTmH2SqJmAkj4oPtxfLQDLYqb85tfavUuN15J9MuXpkjkLO3VaiS3xgsjLtyyO5u/9rVW21NSeLnMMRHT9feQIamzdqvq+rnRplJ05E2mKFVNtSrioLqRctmbo3qd0HZo9ezY6dOiIW7duIr2V2yrM2QpL4YWm3h0jii55h1jhmQdf7N2rok90xZzoMvbuaE502fPuaIvoivjOYO55t/pH1OBCeroixy3cXdobpffK8HTp0hU+Pj7YvXuX0T1J5kRXvKTJcO/YURV7q9vTpRuCOdElD1z4M18k/Cpprlz6uFypQzwwsi9GXjylyA/YCi9vlJ8zW+27Wu6ZR7mLk3t6qjCu83Pn4fPdu8xyNya6xFCdnvizijt+ceeO8r5I2KQx8RW+8lOnTqF06TJIlCgRDh8OQubMmfUfixiVl3Bdf8QrtdI7r8F+IhFdhQcNQrb6xjekGxNd+7t0xSeZMqLQgAGqLTEu2+rUVXvrdKJLtyoqwuOPNm31wlSutza8UPYoyQ+jztsl99oquiwxEKNWfNRIJUql/JYjp+Ile/m0KNaILhGzITNnImPFSmrFMvyervCiS/YI7vZrZeDFNSW6dHu6ZEyyOlty4gQkyZZNDVFEl7nvgohpc/vkzL3ExUuRHLH+3VwrL2i1D+zXhxfqPF3SB9kflrlGdRVOpE2h6NKGq+PU+vT2bQRv3KCyGuZu9UG8Wyra2zdTPXiPbNk+xc2bNxEQsEYl0bC1mBJdpn4/dPXb+n3ViS7d/YmzZIHPuLHqJV6KvExvqVULjS9cwJ09e5WHRTzc8uItXpMEqdPoo0GMjdGUjRa7cmrceBWFIF4j2fca3hbYykvZHjP20lx9OtvZ+Nw5yG+alPVly6LIkO+RqeqHxVgRXXHix4PP2LFGqzImukTAiriutnGD/p5VBQqiyprVSJojhxJd5uyTteGFsvh5+489KuxcV8zZUmOiyxIDEV3xU6VG4UEDVRO7WrVSdkPey2KiWCO6jL07RhRdEgYr72zi1QofnWRKdEk+ACkR3x1FdEmf4iVNqsfhUb26WqC2591RRNflZb9B8gPoSuEhQ5CzRXMlti29M0Tt3FB02c1Te6P0YcXv/v37KFq0GGbOnIGqVT9eqTQnumR1XML6Sk0Yj/3fdFeJNHTFnOjK06E9PKpV018rYVCyB0bnIk5fthxOjBypXnzF0yVFvDw7mzRF44sXlKteNjlnrllDvSzas1oRfqLE2Ih4zFqvLvJ1/xA+Z668efMGjRo1hpeXF/z/DXWU68/NmfPBy7Ri+X8/tOkzqBdftQL3b1iejM1Uogxjomt7vXp4fPGSfoVPVjolDLHBmdPq5V0MhS6c82FICGTuws+JKdH1MDhYbXQVL4zsUfonLAwF+/aF19edrTIUxoyaJQbSVxX++G+op6xo6cS3Je6R+VzCMwKKl/gokUa+Hj2QrUF9lUhDXpokVPL4yFHqxcaU6IqMp0teoHY2b4Fys2bqwyJEdJn6Ltjr6ZKwX/GgSpFQXFmtt8bTFRm25u+h6Ip6po5X46unT3H017ko3H8QkuX8b1XaVE+1t2+mWv5g98aNG4dVq1ZjfyQSIZgTXcZ+P3Q9MSe6jH1fw3u63j5/gT/af4nMtWp9SLIAqPDBO/v3qT2iEk6+PLen2usiv6mR9XQZUHv/Hrf37lMv8WLLdJ6TyD59puylufrEjm2qVFmFO+rK9vr18Wn9BvooABFd4gmRvWvGijH7JOxkq0L4EGwRPOXnzkFaHx9lS83ZJ1OiS+o4OuR7tSdd9tXJvKQuXgy+i/4LO7dVdFliIKJL3it0C2fyDpP+s/IfhetHdt5svU8Wh+OnSW2YSGO4P+ocPKDyAciCrrF3x6jwdBl7dxTRdWLECIMEInETfqJEvD3vjiK63jx7rhe7wile8uRKhEUUXcbeGWzlaqudjbnfWOtH5pbhhYKnceMmKFu2DL4xstptTnTJPi/dg3dr926rRZc1e7pk02RAiRIoM3Wqyh4lWW2Cp09XK29SZEOzGBd5UZc45nWlSqsvta17uiI+HvJj/PjyJZT9xbqQtmnTpmHHjkCsXr1KX5UpL0+Ty5fUXjgp4umSH3hdbH7EfpjydKUsWBB5On7YbxW+6PZ0mRNd4tF7duP6RyuCEmImWXdyt22rVkl3t2mLNCWKG+zjW5LJQyVniBhqI30wZtQsMbBk1Kz/2lp3payCiahvcvGC2gMhRTapFxk8GB7Vq+lFl8yHrKSmLFAQ79681mcvNIjP9vfH/eMnPgrdtLSnSzbCXw1Yq//xNxdeKIYLsWNHy56uygFr7H6hMj0LFF3WPaHOe5WzebqE9NmzZ1G2bDmEhd23Gbw50WXs90PXgD3hhbLQKGHYkr1X9mlJsijZ8xx2+rQ+QuXt69dqr61kHxVPjiyy2bqnyxgMWexTIsfvQ2Iqe4oxe2muPlNensKDh6gQPikiupJ75TGwV+HrNOXpkqQNn83/1WjzluzT34cPQ/bdykJq+CLbHF49eqgSeonHJWTWLJV8KfxeX3O21BZPl46Bo4kuie6ILcnJhg1TaMTmnZk8We3/14kuY++OH+3p2r1bvYvYuqcr4rujufBCe94dbQkvPG7kncGe79HH99LTZTdP7VXqf9vXJAa7UKGCNmUvlNUK+eJIGJvEG8uLrLWero+yF8aNq1bjI26GPDt1qgpxqLJ6tXpBFq+Abu+JJDIQo9Mw+KxKDCEhca8ePkDJ8eM/ZC9cuw45mjczCGM0Fl4oGywzVa6ifrRlP5OsEsmeqPBent69+6jwiK1bt3w0rxIPHRCw1iB7oXiK1hQt9mFPV0Vf/PnTTwg7cdJgpSUyouv2nr2QH9gKCxcguZeXCim8d+wYsnz+uT6RhjnRdWnpUlxaslT1Q5eGVQYke8EkG5+s8EkYnqwsSgx6+OQpa4oUUYZEFw5oyahZYmDJqEn95cqVh6+vL3788Qe7v09SgXhlc/m1RK7WrfF3UBB2t2qN2gcPqJBGnadLXpqCf5kO+ZH0qFFdL7r0mYh+34VDffvalL1Ql0jj7cuXkMQtEmoi++WMZi/897vw4OxZ5c0tOX4cJBRCPHXPQ2/qQ2pkPOZe4j7KXhgvHu6fOGE8e+HmTVanJ5ZzjQ4dCsLYsdYeO0DRFSUPr4NW4qx7ui5evIhChQp/lL3QHGZL2QvFU27s98Ma0WXs+yr7fMXu6ULGpZ7fm7dQ0RE5W/lhVf4C+GLPHv1+F/ndkgQaEnYvoVnyGyuJqPJ9843y4MvmfbFtumIsGkX2np6ZPEXZTkmcJB6d3a3bqLA7UwuEEZnZai8tPdryOyih2bo9XRJVU+/oEWXnIyu6ZL/Q+rLlVLimR5UqKjGGiDM5ckO3p8ucp0uicGSxst6fx/SJqaQv+77uovZm5+/VU9UpglXCPMOLLnO21NSeLnMM7BVd8pvev/8AHDx4wKZEGqbmTRKenRo3Dr5LFqs5OtC9u8o4XXLCBAPRFfHd0d7sheGTsIV/dzSWvVCXvVrGENl3R2PZC3VZug2yF0Z4Z7D0vMvncnbuL79Mx5Ahg5ExY0YrbqHosgKS+UuiU3S1atUa+fLlRd++H84UkmLpnC6d6JJrRfw8Cw21WnRFPKdLzheSF/yIokt+gOQlVZItyBejgZwTFW6jpwgX+SHO3qgRxFgcGTxEuYslQ58ICN9FCw0OGDQmuiR2XQyVCJh4KVMia53aKDJkiIFYM7UxWMY+d+5crFy56qPMhrKx9+jQoSrNt+xBKzlhvP58JrnPlOg60KOnSu0rYYPi6ZA4ZAnFlIxNUmTD7+mfxWMVqn7IcrdpDe8uXawSXbJ/bXebNngYck55DEVwyGqchEJKsg+pT/hKSIRsXA4vui6vWAHJ2ichjSJaxKhcXLgIpyZMUAZd6pazOaQOXaIIcwysEV2RSaRh7lslQl0E08MzZ/FJhgwo2L+/PotmeNElBnl1/gLwqFnD8JyuePGQLE8e5P2mm/7IA0vndEnK+PAp2SWT1P1jf6pwHWPndOm+CzIOmRcRf+J5/SR9BhT5YajBHi9zoisiB92c6M/pSpXqwzldQ783OKfL0g9Xt27fYPXq1QgNF+5j4ZfMUpV2fa7976Tx7jGRBnD1wH7cOu6c2QsvX76MfPny4/nzZ1Y/f5bO6dKJroi/H7oGbP2+ytlaEUWXCKc9HTqgUL/+yosS/pwoEQIBxYqj3rFj6siTR+fO48jAgUo4ydmEEs0gXjBdMZpI4+VLtTfszt59ygYlypxZ2RddQiJrYEXGXpqrV8L+D377rT57YdGfhiFD+fL6W0x5uizZJwm3lsQkEr4XO148pC9fDmUl8UisWBbDC9U70oCBKpmY2FJ5R0lfrhzkbLR9XbqoBFeSnEqyIcqWgPCiy5gtlRB/eVGXXG6SvVC3t7ny6lVqD7A5BvaKrsgm0jA5Z+/f49iPw3B52TJIYpYMvr7wGTNa2Znwnq6I747hz+mSLJU55Jyunj2sPqcrvOjSvTtWWrkCz67f+OicLt05rdKHyL47GjunS3cerf6cLiPvDNZ8h1atWoWGDRvh/PlzyJXLcrg2eDiyNVgtvKrEiqW+gNqV/+qWFK+ysXjhwgWQlxgW6wls2rQJ33zTHadOnUTChAmtv5FXkoATEihTpiwqVapkg/dR298Tiq6YeYic/ZwuydqbPHkKBAefRe7cH9KEs2hPgPZSe8ZswfkJDBw4CHv27MEff+y2cjD0dFkJyvRl2r9M/Ce65KDIr77qpA6M3LhxA7y9ve3uv7tUIAeESrrVffv2YdCggWjbtq27DJ3jdDMCz58/R5YsWXHhwnmk+PesN8sIXFd0XVrxm+XhO8EV2cqVh/zPmvLy4UOEbNyAxDlyIm/nLtbcYvQa7e2bqa79Z/fGjBmD2bPnqLMAZ8yYHumx8EbrCdBeWs+KV7ovAdlv+sMPQ9UCp3WFoss6Tmau0t4oaelFs3v4rIAESMAlCLim6HKJqQFgS5hk2OXLCNm4Htnq1MOndYwfdWEtF+3tm2XRZW1feR0JkAAJODYBii6750d7o0TRZfcksQISIAELBCi6HPkRsVZ0hR47isu7fkeBbj3UeVz2Fu3tW+RFV/PmLfDTT8OQPXt2e4fJ+0mABEggGghQdNkNWXujRNFl9ySxAhIgAYouJ34GrBFdFwN34NHtWyjwTS+DZED2DFt7+xY50TVv3jx07vw16tSpjd9+c43wUXvmifeSAAk4AwGKLrtnSXujRNFl9ySxAhIgAYouJ34GzImu1y9eIGTTBvwveUrk797TIKOrvUPW3r5FTnR5enri/PkLiBcvHnbs2I5y5crZO1SXub9ixYrIkSMnZs2a6TJj4kBIwDUIUHTZPY/aGyWKLrsniRWQAAlQdDnxM2BKdD2+GaoSZqQvWx65mtt/KG5ERNrbN9tFV2BgIGrV+lxloRXR1aZNG4waNdKJZzfquu7n10odFZE/f351nhMLCZCAIxGg6LJ7NrQ3ShRddk8SKyABEqDocuJnwJjounP6NELWr0Xezl2RybeiJqPT3r7ZLrrkjpCQEMhZdN991xeVK1fWZOzOVmmpUqVx7Ngx1e2sWbOqs4NYSIAEHIkARZfds6G9UaLosnuSWAEJkABFlxM/AxFF15W9e3An+Czyf9MTKfJ4aTYy7e1b5ESX3FW/fgO0bNkS9evbl6FRM3jRXPHGjZuwePFiHD16FFevXsXLly+iuQdsjgRIwDwBii67nxDtjRJFl92T5MYVbPStiCI/DEWG8tad76Mlqi1btqBOnbrIkCED1q9fp0JgoqPYyuCvlSvx14qVqPjbsijvXuvWbbB582Z10OvevXv09c+aNQvDhv2kmKxevQrx48fXf3bq1Cl88UVtdebW0qVLkCdPnijvF8DshRpAjbIqdaIra9lyKh38m/dQgit+8uRR1oaxirS3b5EXXRJW6Ovri9atW2vKwJkqz5TJA9u3b4OXlxdk7lhsI2CrrbCt9qi7+uXLl0iY8BNkyZJFnTvaoUOHqKvcTE1HBg1C3ESJUKh/f6vae37zJtaW8EGzG9etut6Wi0zZUkv2Mm/efBB+Y8aMRv369W1pMgqupeiyG6L2Romiy+5JcuEKdjRoiJwtWyJbvbpGR3k1YC3SlCiOTzJmjHEKIroGDRqMI0cOf9SXrZ9/oX7Ib+7ciTgJ4qNAnz5R1l9bGVgjukxxf//mDRZnzISWd+9gS/UaKDx4MNKVKW0wloCAAIwdO85AdMkFb9++Rf78BTB+/DhUr179o/F37PgVUqZMiZEjR0QZm/8q0vYFTfvfSQ2QOFCVIrpeXr6EJ3fuIJl3Xnh3+Cpaehdz82bZ7kl4oadnbnTt2jVaWDh6I6tXr8GUKZOxc+fOKO2qlr/NUdpRKyqLbnt5648/cHr8BLWAtzRzFmUXoqLoRNeTJ4+ROHFigyqPjxiB2HHjInXRojgzaTKqBKyJiiZVHXcPHVKJelIXKWJVndaIrlPjJ+D5rZvwGTPG5vcCU7ZUKjJnL5csWYJJkybHwL5Hii6rHhxzF2lvlCwbH7sHwQqcloAlI+JIA4sp0WUrg5gSXdLP6tVrwM+vJVq0aPFRt0eOHIlLly5rlJWMosvW5yQ6rz/583jcPXQQuZr7IevnX0Rb09rbN1NDsWz3Bg4ciESJEmPAAOtW3aMNWgw11LBhI7VY0779l1HaA3cSXVEKDoCriS5b+cSk6DJnLw8ePAhJOnPhwnlbh2Tn9RRddgKEcuG/f2/ZQES+IS3rjnyvXPHOi4sW4+LixUiQOhWe3QhFosyZUXryJMRLlkwN9+n169hQrjyKDR+O0xMn4s3Tp8jfpzc827XD06tXcaBnT4SdPIVEmTKh+Ah/pCv9wcOxumAheFSrhrBTpz7c8+23yFq3jvrs3evXODFyFP5avRrvX79GzlZ+KChenn9DQy4tW4ara9chSdasuL5li7red/Ei3Dt6FGenTsPLv/9W7v64n3yCFHm9UWHhQlVvyIyZCJ4xAy/u3IHv0iUG4YWW2jwzeTJCZs3G2xcv1Hk/5X+dh8SZM+unfOXKlcpjJeFxqVOntvpRsFV0XVy4SBmtchFSHwf/Mh2PLpxHyfHjcf/4cRwZMBAPz59Hsly5UGriRCTzzG2RwauHD7Gva1fc3X8AaUqUwJsXL5DLryU+bdgQIrouLV2GT9Knx7WNG5EiXz5UWDAf8VOmxLk5c8xyt8fTJZ2uWbMWmjZtglatWn3EdfTo0QgJOYe5c+dYzdz6Cym6rGcVM1f+ffQI0hQtFq2Na2/fIi+65KXq0aNHGDFCC89vtGK2u7Hbt28jW7ZP8eBBmMrqGJXFlOiyx17e2rULRwcPwbNbt5C6cGGUmjgBn2TK5HL20pLounbtGqpWraaiG2rWrGn1tNnq6Xpy+TJkHhuePWPQRtjJk9jToSPqHDqo3iWC+vXHnb17ES95chT5fggy/9sned+Q68RuenZobxBe+P7dOxz78UdcWroUCdOmRapChRE7bhyUnDABOtElER8nx49DvMRJUHbWTOUpE9v9R7sv8frJE7x78wbxU6RQffti317E/fcZtiT4zXm6zNnLoKAgNG3aDJcvX7KaedRcSNFlN0ftjRJFl92TZGUFYkQO9emDz3ftUi/uQX2/Q6y4cVHcf7iqQUSXxCfnaN4MJUaORKzYsfH02jUk+fRTbK1ZC2lLlkTB/v0Qun27EmD1jhzB/5IkUaIrbamSKDt9Op7duIENFXxRe99eJEyXDifHjMGt33fhs4ULVH2BjZsgb9cuyFrngygT0RXUpy+KjxyJnC2a49WjR3j36hUSpEmjPrfk6TIWo26uzSdXrmBTpcr4Ys8f+CRDBjw4cwYJ06dHgnDiavbs2ejQoSNu3bqJ9OnTW0kXMCe6QrdtR8qCBfD85i3EihMbKQsUwMPgYOxq1Rp1DwcZtLG3UyekL1ceWWrWREBJHxQf7q/CK0UsnZ0yFbV271IsdcUYg0O9e+OfBw9RZtpU3N79B35v2VL9f53oOtC9B3yXLEZaHx/83qIF0pcvj3zdu+vrNMn9/XtcXLwEOVu2wI0tW5GqcCE1z+GLOUPRqVNnFWY4c+aMj/ZkLFu2DCNGjMT+/fuQKFEiq7lbdyFFl3Wc3Osq7e1b5EXX1KnTcPbsWUydOsW9JsXIaMeNG4+zZ89gzpyoX5Ax9tssXYisvZQX+jVFiip7mNHXF38O/wkPTp9B5VUr9aLLVezli9u31WJrxooV1UKe2IXw5eLFi8iVK7faq9u0aVOrn2NzoivsxAm1aCs2W+x3pipVVL0r8nihVuAOvbiV/3YKGFViAAAgAElEQVRhwULcPXhQ2b7t9eohWW5PFB32Ix5fvIgd9Rug5o4dSOTxQQxLMban68rqNTgxejSqrg3A25cvsaVGTXhUq6oXXasLF0HBvn2Rt1s3nBo/DveO/YlKy/870NxceKGpZ0/XH3O21Jy9vHnzJrJnz4EzZ04jR44cVnO3/0KKLrsZam+UKLrsniQrKxAjcmHhAtTYulXd8XdQEOQFv96/aXhFdAUULYYGp04avEi/vHcPK73zovG5c4iX4sPG9vVly6LIkO+RqWoVJbp8xo1Fpn9TGwc2bIRsDeojR7NmkB8kWeXL8Nln6j7x7tzet1cZJCkius78PAm1D+w3OorIiC5zbYrHbn258sqzk650GcSO9z8r6Vm+zJzoMna3rKAtz5Ub9Y4ewYVFi/Dg1CmUnTED60qVVt63+0ePKoFTbeMG/e2rChRElTWrkTTcD6kx0SXz9dmC+UhT7IPnQOYrX48eetEVMnMWamz78BwET/sFD0NCUGrSz/p2LHE3R8Ocofjrr7/g41NSbfSVc3a8vb31VYkYK1u2nMpONn36L2jXrp1l6FZfQdFlNSo3ulB7+2YKpmW7t3DhQmzfvgMLFsx3oxkxPtSiRYtBVvYrVdLm6ABjrUbWXl5duxbyov357l2qWp39bPrXZRW1QXtp+XE2J7pM3f178xbI6ddSLdiK16r+saNqkTm5tzcyVaqEdaXLoPGF8ypqRsrezp2RrlRp5Grlp6/SmOiSulLky6tflJTF6nevX/0nugoVhm5uRRCKd6vu0SP6Os2JLkskzNlSS/ayT5++GDduHNq2bYs5c2ZbaiqKPqfoshuk9kbJsvGxexCsQBEQI3J13Tr9Ksyj8xewqWJFfeYdEV3rS5dBs+vXDIjJC7l4h5qH3tD/9+316+PT+g3UypYYkXJzZutf8OVHKmX+fGrlZ3GGjCqETzxqUsSLldwrjz5MUIUXBqxFxWVLjc6SpZf/jwTH+/cW27y8YgUu/DpfrZLJSmSpnyfif0mT2v2U2Cq6pMEdDRogb/fukJDC148fq9DKgOIl0OhcCE6NG69CKCWkQVfEE1h+7hzlodKViAxEzAl38aAJeykyXzmbN9eLrvDZCyWkUDYQl5s5U1+nJe7mYJkzFN9+2xuhoaFYvHgR4sSJY1DN+vXr0avXtzh8OAjJozxrHUWX3Q+4C1agvX0zBc2y3ZPv0fz587FmTdQlCnDGKTxw4ADatfsSwcFno7X7kbWX8nsqUQCVVizX93dx+gxqYVGiRmgvLU9jZESX2Mu3r/5BnHjxcW3DBmXXD/b6FiXHjcXrZ88Q2KgxEmfNqm/8zfPn8PyynXpP0RVjomt73XrI3qSxWkSWcmrsODwLvWEQXqjLXijvSmI7G545ra9TK9Flzl6GhYVBMn3KwmbBggUtA4+yKyi67EapvVGybHzsHgQrUATEiITMmqVfgbu9Zy/2f/MN6v/54cBJ3Z6uplf+MiBmytNVePAQ5WYXI1LMfziy1Kql7ttWuw5yNG2CHM2bK0+X76KFSJE3r9FZENF1bf0GJTaMFfmhlB+7bCbOqjHm5bHUpq6dVw8e4nc/PxXG5/V1Z7ufksiIruP+/oj9v3i4d+wYUnh7K0/i7V27UWnlClxasgQ3tm7DZ/N/Nds3qzxd5cqplTpdeKEl0WWJu7kOmRNdkhq+Xr26Rr1Ysip34sRJjVb2KbrsfsBdsALt7VvkRZdk6Rs+3B+BgTtckLz1Q+ratRvSp0+HQYMGWX9TFFwZWXtpytPV5PIl/C9xYtpLK+YmMqLr1u7dKmoDsWMr79XD4BCcnTYNjUOC8Sw0FJuqVkXjkBD9fnJj3bDK0/VdP7x79Y/Vouv0xJ/x7MZ1+Iwda8XIDS8xZ0vN2UuJFqlXrz6uXbtqc5v23UDRZR8/MJGG3QAdqAIxIgd79ULFpUuQrmxZ7OvUGQnSpkWJUSPNii75UNKDS+IM3Z6u/d90V2FxkoRDRFfSnDlQYcECPAgORmCDhqh98IDaM3Vi1CiEnTipQtckUYOsBL1+9AhpS5VSbVoSXfu7dlN7rgoPGmiUpDHBYa5NEZZPr1xF2pI+yuu2s2kzfNqokUGIwYoVK9C//wC1ShRViTRMPQYiqmT/lWf7L5G6SFHs+/prtbetYL9++OfBA6wvW06FbnpUqQJZmbu+ebMSTtbs6Xr18BHKTJumwjllnGWmTrFadFniHlnRJdkLW7ZsoQ59jVgkccDFi5cwe/YsDb41FF0aQHX6Kh1ZdB0+fBhdunRFUNAhp+dszwBSpkyljuHInj27PdXYfG9k7eU/YWFYU7TYhz1dFX3x508/KRuoS23uavbSHFhJpFGxYiX8/PNE1Pp3UdaaiYiM6JKEFRIlIkfISNSG2E55B6m6fp1qcludukhXqqQKs48VOw7uHDygIkGSZMum75KpPV2yT7zqurV4+88rbKleHZmqVLZadEkCjktLlqr5jxUhusMSC3Oiy5y9lOyFLVv64eLFC5aaiOLPKbrsBqq9UaKny+5JsrICMSJ/rV6l3O+yn0vOVyo9ebLK5CPFlKdLPpPsQAe//VafvbDoT8P0GQPFiIj7XfZrxU6QAEUGD9Z7pt69eq2Safy1aiVEBEh4RaEB/ZGxUiWrRJds0hUhIvemzJ9fJX+Qsr5cObx59lxlL5T+x4kfH4UGDMCnDRvAXJuygXZfly54fOGiuidTtWrwGT3aYG+XFok0TE3Ry/v3sdLLGzW3b0NyL28sz51bZTPUbQ6WDEiSBUvEaux48ZC+fDmUnTZNrdaZY6CyF3bpqjYRy6btN0+fIZefn9prFzFlvLHwQlPcrXnUzBkKyWTVtm0bNPs3VCN8ff7+/rh69RpmzPiw3y9qC0VX1PJ0jdq0t2+mOFm2e5LJs27duggJCXYN2JEYhZw3tGjRYmzatDESd9t3iz328mZgII4OHYrnt24jVcGCKDlhvD7U29XspTnKWiTSMNeeZF+WyBiJXJG95ZKZt8jQ79UtL+7exZGBg1T2QskmKPNSYuwYJboO9OiJ23/8obIXiqcsXtKkKiOzZGnWZS+8vHSZWgBOXaSwuqbkuHH67IXmwgtFDO5u0wYPQ86p88VkQVqXvdDSE2rOlpqzl/v370fbtu1w7lyIpSai+HOKLruBam+ULBsfuwfBChQBMSLiKTEVyhdZTGJEJAQuVaFCka3CJe6TcKAWLVoiWbJkWLVqJfKaCKmMicFurlpNHWScvlxZTZuXrI+BgYEqQcaGDesN2nr27Bm8vfNi/vxfUaFCBYPP5FiKJk2aqvuG/msko7ajFF1Ry9M1atPevkVedEkGsuLFSyA03F5a16Bu/Shq1foczZs3M3qun/W1RO5K2svIcYuKu/755x+1J0kiTb77rq9KBuEo5djQHxAnYQIU/O47TbtkzpZaspdTpkzBypWrsGvX75r28ePKKbrsBq69UaLosnuSrKyARsRKUC5wmXgmJRxRVvru/3kcO5s2VYk1oiJhSGTwzJo1CyNHjoKvr6/KTBj338QqUtepU6dQu3YdeHp6qoORM4c7My0ybRm/h6Ir6li6Tk3a27fIi64nT56oF8/Hjx+5DnAbRiKZTosUKYqwsPsfHS9hQzWRvpT2MtLoXOpGiZyRc9cyVq6kPGGbq1VH6Uk/67dIRPdgLdnLvHnzqbPsxowZrext9BaKLrt5a2+UKLrsniQrK6ARsRKUC1wmYYmSRVIyIiZImwbFhg1DhgjeJRcYpg1DoOiyAZbbXKq9fYu86JI7Y8eOg7dv38SI6Ijph2D48OG4efNWjJ1TRnsZ00+AY7T/9tUrbK1RU22/kEQokvHQu0sXx+icw/WCosvuKdHeKFF02T1JrIAESMACAYouPiIfE9DevtknupIlS47r168haRQcaeFs8y+hyJJUp3Tp0s7WdfaXBNyUAEWX3ROvvVGi6LJ7klgBCZAARRefAZsJaG/f7BNdmTNnwYED++Hh4WHz2Jz5Btkf27t3Hxw7dtSZh8G+k4CbEaDosnvCtTdKFF12TxIrIAESoOjiM2AzAe3tm32iS7w9kpTHy8vL5rE58w3t27dHnjxe6N37W2ceBvtOAm5GgKLL7gnX3ihRdNk9SayABEiAoovPgM0EtLdv9okuH5+SmDRpEnx8Stg8Nme9Qc5oSpEiJS5fvoQMGTI46zDYbxJwQwIUXXZPuvZGiaLL7kliBSRAAhRdfAZsJqC9fbNPdFWpUlWlzK5cubLNY3PWG+bMmYtNmzYpDx8LCZCAMxGg6LJ7trQ3ShRddk8SKyABEqDo4jNgMwHt7Zt9oqt+/Qbw82uJevXq2Tw2Z72hUqXK6NLla9SvX99Zh8B+k4CbEqDosnvitTdKFF12T5KbVBAUFIS+fb+LgQP/3ASwSw+T2QtdenojOTjt7Zt9oqtNmzbw9a2I1q1bRXKEznVbcHAwRHTdvBnqXB13wN7SXjrgpLh8lyi67J5i7Y0SRZfdk+RGFcgLyIAB/VGlShU3GjWHaj8Bii77GbpeDdrbN/tEV7du38DTMze6du3qevCNjGjQoMGQPV1jx45xi/FqPUjaS60Js35DAhRddj8R2hslii67J8mNKpgzZw42b96ClStXuNGoOVT7CVB02c/Q9WrQ3r7ZJ7oGDBiIxIkTq4UmdyjZs+dQe7kKFy7sDsPVfIy0l5ojZgMGBCi67H4gtDdKFF12T5IbVXDp0iUUKlQYDx8+QJw4cdxo5ByqfQQouuzj55p3a2/f7BNdI0eOxKNHjzFihL9rTkC4UW3cuAn+/sOxb98+lx9rdA2Q9jK6SLOdDwQouux+ErQ3ShRddk+Sm1UQL158nD59Crlz53azkXO4kSdA0RV5dq57p/b2zT7RNXXqNAQHn8WUKVNcdxL+HVmLFi1RunRplUSDJeoI0F5GHUvWZIkARZclQhY/194oUXRZnAReYEAgVarU2Lx5E0qUcJ+za/gI2EuAostegq54v/b2zT7RtXDhQmzfvgMLFsx3Rfz6MT148AApU6ZCWFgYUqRI7tJjje7B0V5GN3F3bo+iy+7Zjx07Nt6+fQsxTtoUii5tuLpurVy5c9251W5kWv1+Ae/fv1ehru/evdOu+6xZEwLa2zf7RFdAQADmz1+ANWtWazJ+R6l0ypSpOHjwABYtWuQoXXKZftBeusxUOsFADO2ss9jGWO+lpw5SkiZNitDQUCRJkkSjHjnMUDUaH6uNSgIXL15E4cJF8OBBGOLGjRuVVbMulyagneh68uQJMmXKhMePH7s0QVccnPb2zT7RFRi4E/7+/ggM3OGK+PVjKl26DAYNGoiaNWu69Dije3C0l9FN3N3bM7SzzmIbHUp05cyZE5s3b0auXLk0epooujQC65LVzpo1S2UvXL16lUuOj4PSioB2ouvChQuoUaMG5AWHxbkIaG/f7BNdhw8fRpcuXREUdMi5wNrQ22PHjqFhw0a4fPmSDXfxUmsI0F5aQ4nXRB0BQzvrLLbRoURX1apV0atXL1SvXj3q5sWgJooujcC6ZLUVKviq9MnyXLKQgPUEtBNdW7Zswfjx47Ft2zbru8MrHYKA9vbNPtEVEhKCevXqQQ4NdtXSu3dvJEyYEMOGDXPVIcbYuGgvYwy9mzZsaGedxTY6lOj69ttvkTZtWnz33XcaPUQUXRqBdblqg4KC0KdPX+zevcvlxsYBaU1AO9E1atQo3L17F+PGjdN6EKw/iglob9/sE103b95E8eIlEBp6I4pH7jjVZciQETt3BsLLy8txOuUCPaG9dIFJdLohGNpZZ7GNDiW6li9fjsWLF2Pt2rUaTT9Fl0ZgWS0JkICegHaiq06dOmjRogUaN25M3k5GQHv7Zp/o+rAnwgOPHz9yMrLWdXfVqlWYNu0Xl9+zZh0NXkUCzk7A0M46i210KNF17949ZM2aFU+fPtUogyFFl7N/zdh/EnB8AtqILsl5lDhxYly9ehWpU6d2fAzsoQEB7e2bfaJL7o4dOw7evn2jkf2N2QeiQYMGqFWrFtq1axezHWHrJEACUUDgPzvrTLbRoUSXzILEvXfs2BENGzaMgkmJWAVFlwZQWSUJkIABAW1E18qVKzFz5kzu53Lip01b+2a/6EqWLDmuX78GybToSkVCJ3PmzIWwsPtIkCCBKw2NYyEBNyXwn511JtvocKJr3rx5kPNCtAkxpOhy028nh00C0UhAG9El4RN169ZF27Zto3EsbCoqCWhr3+wXXR4emXHw4EF4eGSKymHHeF1jx45FSMg5zJ49K8b7wg6QAAlEBYH/7Kwz2UaHE10yFRkyZMCmTZtQuHDhqJiZcHVQdEUxUFZHAiTwEYGoF11//vmnOlfo1q1b5O3kBLSzb/aLLm/vvFi1aqXLJZooUqSISj7j6+vr5E8Pu08CJPCBwAc762y20SFFl2QhOXnypEqqwUICJEAC7k5AkmcUKFBAw8yu7k44+sbvyPbNx8cHkydPRokSJaIPiMYt7du3T21ZOHPmjMYtsXoSIIHoJuBsttEhRZdMmhwkOWXKFA3P7IruR4PtkQAJkIDtBOT8ka5du/JAZNvROewdjmrfqlSpooR95cqVHZadrR3r0qULMmbMiIEDB9p6K68nARJwYALOaBsdVnRJel05wFA8XrFiRX24jgM/R+waCZAACSgCkpVJPFyDBw9mmngXeiYc1b7Vr18ffn5+6pBkVyjy/UmZMqUKQcqWLZsrDIljIAEScGLb6LCiS56qTp064d27dypjFwsJkAAJuBsBCYuKHTs2pk+f7m5Dd/nxOqJ9a926NSpWrAj56wpl0aJFWLZsGTZs2OAKw+EYSIAE/iXgrLbRoUWXsC1Tpgxq167NvQz8qpEACbgVAdn7s27dOsieFBbXJOBo9q1bt27w9PRU4ayuUCT5TMuWLdG8eXNXGA7HQAIkAMCZbaPDiy45CLRSpUro2bMnJDabhQRIgARcncDUqVMxYcIEBAYGqgPjWVyTgKPZtwEDBiBJkiTo37+/0wO/fPkyihUrhrCwMKcfCwdAAiTwgYCz20aHF10C+ezZs8rb1aFDB3q8+M0jARJwaQKyijdr1izl5fL29nbpsXJwjmXfRo4ciUePHmHEiBFOPzWyJ/zu3bsqGyMLCZCA8xNwBdvoFKJLHhVZEZQQgbx582LGjBlMruH83x+OgARIIBwB2fT/1VdfqdTWS5YsoYfLjZ4OR7FvsoocHBysMgc7e/Hy8sLcuXNRqlQpZx8K+08Cbk3AlWyj04gu3RMnm49lj8OYMWOYTt6tv4YcPAm4DgFJfdunTx+1h5VJM1xnXm0dSUzbtwULFmDHjh2Qv85cJCxXUt8fOXLEmYfBvpOA2xNwNdvodKJLnkBJtyux53KQY+/evVG4cGG3fzAJgARIwPkISCrrsWPH4tChQ/D392daeOebwijvcUzat4CAAMyfPx9r1qyJ8nFFZ4Xt2rVDvnz50KtXr+hslm2RAAlEEQFXtY1OKbp0cyrxnRMnTkSJEiXU2SINGjRg2GEUPfCshgRIQBsCEiqxatUqLFy4EEFBQejRowf3qmqD2qlrjQn7Jh4i2c8l3i5nLc+fP1dnc125cgXp06d31mGw3yTgdgTcwTY6tejSPZHz5s3D0qVLVdhh5cqVUbp0aRQsWBA5cuRQP7qJEyemGHO7ry8HTAIxS0AMyNOnT3H79m1cunQJJ06cwP79+9ULrYQRNmvWDG3bto3ZTrJ1hycQnfbt8OHDKkuwLAY4a5k9eza2bt2KFStWOOsQ2G8ScGkC7mwbXUJ06Z7Oe/fuYefOnSpU59SpU5CUsZK9SF58ZJJZSIAESCC6CMSKFUst+KRNmxbZs2dH/vz5VUi0HD6bOnXq6OoG23ERArRvLjKRHAYJuDkBd7aNLiW63Pw55vBJgARIgARIINIEQkNDVbi+/HXGIpk/q1at6rT9d0bm7DMJkID1BCi6rGfFK0mABEiABEjAZQk8efIEmTJlwuPHj51yjAMHDsTr168xevRop+w/O00CJODaBCi6XHt+OToSIAESIAESsJqAhP68e/fOKfdBZ8uWDZKBsVChQlaPlxeSAAmQQHQRoOiKLtJshwRIgARIgAQcnECyZMlw/fp1JE2a1MF7ati9DRs2YOTIkdi7d69T9ZudJQEScB8CFF3uM9ccKQmQAAmQAAmYJeDh4aGSUUmYoTOV5s2bo1y5cujcubMzdZt9JQEScCMCFF1uNNkcKgmQAAmQAAmYI+Dt7a3OkfPy8nIaUGFhYUiTJg3kr3jqWEiABEjAEQlQdDnirLBPJEACJEACJBADBORYg8mTJ6sshs5SpL9ytpgcOM5CAiRAAo5KgKLLUWeG/SIBEiABEiCBaCZQuXJl9OvXD/LXWUqpUqXw/fffo3r16s7SZfaTBEjADQlQdLnhpHPIJEACJEACJGCMQP369eHn54d69eo5BaCjR4+iSZMmuHjxolP0l50kARJwXwIUXe479xw5CZAACZAACRgQaN26NSpVqoRWrVo5BZlevXohceLE+PHHH52iv+wkCZCA+xKg6HLfuefISYAESIAESMCAQLdu3eDp6YmuXbs6BZn06dNj165dyJMnj1P0l50kARJwXwIUXe479xw5CZAACZAACRgQGDBgAJIkSYL+/fs7PJkVK1Zg5syZ2L59u8P3lR0kARIgAYouPgMkQAIkQAIkQAKKwIgRI/D48WP119GL7DurXbs22rZt6+hdZf9IgARIABRdfAhIgARIgARIgAQUgalTpyI4OBhTpkxxaCKhoaHInTu3Opsrfvz4Dt1Xdo4ESIAEhABFF58DEiABEiABEiABRWDBggUIDAzE/PnzHZrI6NGjVcZCCS9kIQESIAFnIEDR5QyzxD6SAAmQAAmQQDQQCAgIUIJrzZo10dBa5JsoVKgQJk6ciAoVKkS+Et5JAiRAAtFIgKIrGmGzKRIgARIgARJwZALi5ZL9XDt27HDYbu7duxedOnXC6dOnHbaP7BgJkAAJRCRA0cVnggRIgARIgARIQBEICgpS6eLlr6OWzp07I0uWLE6RYdFRGbJfJEAC0U+Aoiv6mbNFEiABEiABEnBIAiEhIZCsgJJMwxHL27dvkTJlSpw8eRJZs2Z1xC6yTyRAAiRglABFFx8MEiABEiABEiABRUCyAvr4+ODGjRsOSWThwoVYvnw51q9f75D9Y6dIgARIwBQBii4+GyRAAiRAAiRAAorAkydPkClTJnVWlyOW6tWro02bNmjatKkjdo99IgESIAGTBCi6+HCQAAmQAAmQAAnoCcSKFQvv3793OCKSIr5kyZK4d++ew/WNHSIBEiABSwQouiwR4uckQAIkQAIk4EYEkiVLhuvXryNp0qQONeoff/xRCa5JkyY5VL/YGRIgARKwhgBFlzWUeA0JkAAJkAAJuAkBDw8PHDp0SIUZOlLx9PRUhzfLnjMWEiABEnA2AhRdzjZj7C8JkAAJkAAJaEjAy8sLq1evhvx1lLJ9+3YMGDAAhw8fdpQusR8kQAIkYBMBii6bcPFiEiABEiABEnBtAuJJmjx5MkqUKOEwA23bti0KFCiAnj17Okyf2BESIAESsIUARZcttHgtCZAACZAACbg4gcqVK6uDhytVquQQI3327BlSpEih0tinTZvWIfrETpAACZCArQQoumwlxutJgARIgARIwIUJ1K9fH35+fuqQZEcoM2fOxI4dO9T5XCwkQAIk4KwEKLqcdebYbxIgARIgARLQgEDr1q2Vl6tVq1Ya1G57lRUqVECPHj1Qt25d22/mHSRAAiTgIAQouhxkItgNEiABEiABEnAEAl27dkWePHkgf2O6nD59GjVq1FAp7FlIgARIwJkJUHQ58+yx7yRAAiRAAiQQxQQkS2CSJEnUvq6YLtKHd+/eYdSoUTHdFbZPAiRAAnYRoOiyCx9vJgESIAESIAHXIjBixAg8efIE/v7+MT6wrFmzYt26dShYsGCM94UdIAESIAF7CFB02UOP95IACZAACZCAixGYOnUqgoODMWXKlBgd2fr16zFmzBj88ccfMdoPNk4CJEACUUGAoisqKLIOEiABEiABEnARAgsWLEBgYCDmz58foyNq2rQpJIlGp06dYrQfbJwESIAEooIARVdUUGQdJEACJEACJOAiBNasWQMRXvI3psq9e/eQPn16hIWFIWnSpDHVDbZLAiRAAlFGgKIrylCyIhIgARIgARJwfgLi5ZJ9XXI2VkyVSZMm4ejRozHubYup8bNdEiAB1yNA0eV6c8oRkQAJkAAJkECkCQQFBaFbt244dOhQpOuw90YfHx/8+OOPqFatmr1V8X4SIAEScAgCFF0OMQ3sBAmQAAmQAAk4BoGQkBDUq1dPJdOIiXL48GE0b94cFy5ciInm2SYJkAAJaEKAoksTrKyUBEiABEiABJyTQGhoKMTTdOPGjRgZQM+ePZEsWTIMHTo0RtpnoyRAAiSgBQGKLi2osk4SIAESIAEScFICjx8/hoeHB+RvTJS0adNi7969yJ07d0w0zzZJgARIQBMCFF2aYGWlJEACJEACJOC8BGLFioX3799H+wCWL1+O2bNnY9u2bdHeNhskARIgAS0JUHRpSZd1kwAJkAAJkIATEpA07RJeGN3p2uvWrav2k7Vu3doJqbHLJEACJGCaAEUXnw4SIAESIAESIAEDAhJeKNkLM2XKFG1kROR5eXmps7n+97//RVu7bIgESIAEooMARVd0UGYbJEACJEACJOBEBET8yOHIefLkibZejxo1CpcvX8aMGTOirU02RAIkQALRRYCiK7pIsx0SIAESIAEScBICkr1w8uTJKFGiRLT1uECBAqrNzz77LNraZEMkQAIkEF0EKLqiizTbIQESIAESIAEnIVC5cmX0798flSpVipYe79mzB126dMHJkyejpT02QgIkQALRTYCiK7qJsz0SIAESIAEScHACks3ssV0AABQwSURBVMyiVatWKqlFdJROnTohW7Zs6NevX3Q0xzZIgARIINoJUHRFO3I2SAIkQAIkQAKOTUCyB4qXS4SX1uXNmzdIkSIFzpw5gyxZsmjdHOsnARIggRghQNEVI9jZKAmQAAmQAAk4LoGuXbuqTIIS8qd1WbBgAVatWoW1a9dq3RTrJwESIIEYI0DRFWPo2TAJkAAJkAAJOCaBAQMGIEmSJGpfl9alWrVqaNeuHZo0aaJ1U6yfBEiABGKMAEVXjKFnwyRAAiRAAiTgmARGjBiBJ0+ewN/fX9MOXrhwAWXKlMHdu3c1bYeVkwAJkEBME6DoiukZYPskQAIkQAIk4GAEpkyZgpCQEMhfLcvQoUPx8OFDTJw4UctmWDcJkAAJxDgBiq4YnwJ2gARIgARIgAQci4DsswoMDMT8+fM17Vju3LmxaNGiaD0PTNMBsXISIAESMEGAoouPBgmQAAmQAAmQgAGBNWvWYOHChVi9erVmZLZt24bBgwfj0KFDmrXBikmABEjAUQhQdDnKTLAfJEACJEACJOAgBMTLJfu6duzYoVmPJC19kSJF0L17d83aYMUkQAIk4CgEKLocZSbYDxIgARIgARJwEAJBQUHo1q2bZl6op0+fqrO5bt68iTRp0jjIqNkNEiABEtCOAEWXdmxZMwmQAAmQAAk4JYHg4GDUr18f8leLMmPGDOzcuRO//fabFtWzThIgARJwOAIUXQ43JewQCZAACZAACcQsgdDQUPj4+ODGjRuadKR8+fLo3bs3ateurUn9rJQESIAEHI0ARZejzQj7QwIkQAIkQAIxTODx48fInDkzHj16FOU9OXnyJD7//HNcu3YtyutmhSRAAiTgqAQouhx1ZtgvEiABEiABEohBAj/88AO+//77KO+BZESUPWMjR46M8rpZIQmQAAk4KgGKLkedGfaLBEiABEjALQhs2rQJP/30E44fP44ECRKgbNmyGD58OPLnz2/X+H/99Ve0adPGrjoc7WZh1LBhQ1y8eNHRusb+kAAJkIBZAhRdfEBIgARIgARIIIYIyHlYbdu2xYQJE/DFF1/g5cuXmDt3LsaNG6e8QZ6enpHq2fv375EhQwbcvn07UvdH5qa3b98iTpw4kbnV6nsouqxGxQtJgAQcjABFl4NNCLtDAiRAAiTgPgREVMk5VV9//bXBoNu3b4/nz59jyZIlKgzvypUrmD59urom/L9PnTqFTp064e+//1ZeMvGQiXirV68e1q5dC29vb2zevBkvXrxAx44dlQhLnDgxJk2ahNKlS+PVq1f48ssvsX//fohoKlOmDGbPno2ECRMa9Ofw4cPo3LkzHjx4oNqZMmUKfH19cezYMbRr1w758uWDJN/4/fffsWLFCkho4uvXr5E+fXpIpsI8efKYHYekj5dxrVq1CpcvX1Z1DhgwQPVBzgv75ZdfkDJlSjRq1Ajz5s2jp8t9viIcKQm4DAGKLpeZSg6EBEiABEjAmQjcunULGTNmVIIpderUBl2XdOrNmjXDnTt3TIqVadOmKbEzePBgde2ZM2eUkLp06ZKqy8PDQ3nOpMghxCKaOnToABFQdevWxV9//YV169YpUbRt2zaId6xv375KsIn4Cl+KFi2qxGGrVq2wdOlSJapCQkIgoq9UqVKYM2cOmjRpopJjFCxYULWRM2dOzJw5U3126NAhs6JLxv/VV18p0SjiLXv27ErgXb16VY1JUtenS5cOfn5+OHjwIEWXMz3o7CsJkIAiQNHFB4EESIAESIAEYoCAiKRChQopj1DEIoJGBNWbN29MipU+ffqo+yXTYKxYsVQVIoD69eunRJNOdIkQEo+XXBc7dmx1XfHixTF27FgVDti0aVMlvCpVqqS8WMaKeMrixYunrhexmDVrVuUlO336NEqUKAE57FjqFoElIZMbNmxQ1YjoE6/Zw4cPlbfKlMdORNf27dtRuHBhdZ94tY4ePYqtW7cqT5147aTIv7t06ULRFQPPK5skARKwjwBFl338eDcJkAAJkAAJRIqAhPrJvqu7d+8iTZo0BnVImF7r1q2V58hUeKF8LoJJvEG6UqtWLeWpEk+WTnQdOXIEJUuWVP/WlWfPnikRJEkpVq5cialTp+LPP/9E48aNMXHiRHzyyScG/Vm2bJm6RgSiCEHZWyV/RXRVq1ZNeaekSCigCMb58+fr70+UKBFOnDih2jEnusSDJd4xKSLC5N/Lly/H+fPnIUlBpIgHTbx6TKQRqUeON5EACcQgAYquGITPpkmABEiABNybQO7cudGzZ08V+he+yH+7f/8+FixYgDFjxiiRId4oKQMHDlSf6TxdcpaWzoMlBxoPGjRIebx0oksOOBavmXibzBX5XEIERUT16tVLf6kIKhFDsn/Ly8tLHZicLVs2veiqXr26/hBl8XTJvizJyChF9qWJ6BIvm+xJMzYO+e86kRVRdIn3S7xbAQEBqj7xoPXo0YOiy72/Nhw9CTglAYoup5w2dpoESIAESMAVCMj+KAmXE7EiXipJZrFw4UK1T+uPP/5Q2QslmYbs39q7d69KiCGCSjxX4qkSMSUirHnz5sr7JCGCImxEhKVKlUodbiyiR/Zk9e7dW3mJZA+Z7M+S/VaSKTEsLEx/Hpck8BBhJdfqinizJGmGiK24ceOif//+KjRRvGWyfyy86NIJPPGuiYCaPHmySqwhYzE1DnOiS9qQtiUUM23atEoUyjjp6XKFp59jIAH3IkDR5V7zzdGSAAmQAAk4GAERI/7+/iqxhSSzEOEkCSUKFCig9xbVqVMH9+7dQ5YsWdT+LPn/s2bNUoksJHuh/Fv2TolXrEqVKuq+qlWrKu+UeJ2SJ0+uElVcv35dCTLxZOnuk5T1J0+eVP9d9nqJEJMMh+GLhDLu3r1b7bUSwTV06FAlEMX7Fl50yT0SRiify54v6a+IO0mMIV4vU+Mw5ekS4TZkyBA11mTJkqk+S/ijhCmykAAJkIAzEaDocqbZYl9JgARIgARcloAki5A06eLVYSEBEiABEnAtAhRdrjWfHA0JkAAJkICTEhBPkHiGxNNUu3ZtJx0Fu00CJEACJGCMAEUXnwsSIAESIAEScBAC69evV2GAEiqoO2/LQbrGbpAACZAACdhBgKLLDni8lQRIgARIgARIgARIgARIgAQsEaDoskSIn5MACZAACZAACZAACZAACZCAHQQouuyAx1tJgARIgARIwNkJSDZASQs/e/ZsZx8K+08CJEACDkuAosthp4YdIwESIAESIAHtCcSk6Hr37p3+YGftR8oWSIAESCDmCFB0xRx7tkwCJEACJEACRgmcOHECcjZWjRo11MHCDx48UIchT5gwARcuXECFChUwdepUde+CBQvUuV6vX79W2Q/lcOXMmTNj3LhxOHr0KF6+fKkONk6QIIE6oNjDw8OgzfCiS64rU6YMFi1ahHLlyql6pb5YsWKp88PGjx+v0tpLnVOmTFH1SN8yZcqEa9euQc7b0hU5c0zOA5NU+CKupM/iTZMDlpMmTaoOWR49erTqW2hoKDp27Ijbt2+rM8ImTZqE0qVL8+kgARIgAZchQNHlMlPJgZAACZAACbgKAQn3K1SokBJcIj6aN2+uDkI+fPiwOkA5bdq0OH/+POLHj68Ej5ztJQcQS+ZDEUjTp09Xhwj/+OOPOHfuHNKkSYOePXvi6dOn6qDh8EUnuiZPnqyEVo8ePdCyZUsllkRg7d+/Xwmhhg0bwtfXF2XLllViUISSCCgRfSLmtmzZYlCvZGLs16+fEn7SpxIlSiih1bRpU6RKlQrt2rVToks+K1KkCDp37owOHTqoMdatW1cdFh0vXjxXmVKOgwRIwM0JUHS5+QPA4ZMACZAACTgeARFdInD+/vtv1bnBgwfj/v37mDZtmvp3rly5sHz5chQuXBhPnjxBkiRJ1H9funQp5s2bh23btinR9fvvvyvxJCUwMBDdu3dX+7eMia5nz57B09MTQ4cOVR+LKJJ/f/fdd+rfGzduxNixY1WdXl5eqv5q1aopgVSnTh20bdvWoF4Rh1KnCDYpIgizZs2qhJx4xDZs2ICSJUsqD5m3tzceP36sDzUsXry4auuzzz5zvMlhj0iABEggEgQouiIBjbeQAAmQAAmQgJYERBh9/vnnuHLlimpGhJB4qUSISMmTJ48KARQPkXy2detW9d8l1E9CDHfs2KFE0fHjx/Hrr7+qz3QeJPFQRRRdP/zwA/755x+It+vLL79UH0v7Bw8e1Iumt2/fIl26dDhy5IjyoMk5YhLymDFjRuWVSpEihUG9Ihj79OmD4OBg5c2SsXTt2hWDBg1SouvAgQNKPEp9Ir7Chz2KWJO6xbvGQgIkQAKuQICiyxVmkWMgARIgARJwKQLWii7Z3+Xv7489e/YgefLkSoiJyNKJLvFuSZifFPF+9e7dGydPnvxIdMk1sl+scuXKSpyJR6p9+/bIly+fCjeMWC5evIiiRYuqMEYJLdS1Ef468WyJkJszZw7ixImj6suWLZtedImgy5kzp9rTJe08fPjQpeaQgyEBEiCB8AQouvg8kAAJkAAJkICDEbBWdIlwES+XiB7xcjVq1Eh5xOS/i6dLPFjHjh3Dp59+qkSPJNPQJcDQDTl8Io0RI0YowSb/kzrFoyXhhBK+OHPmTLXHqk2bNupWCQG8e/euSrYhe8AiFvFSlSpVCt9++y0kMUi9evXQuHFjjBw5Unm6dKJL7hMBJ4KwWbNmKqRSwiClPV1oooNND7tDAiRAAjYToOiyGRlvIAESIAESIAFtCVgrusQj9cUXXyAsLEyF54lokj1Wsh9LkmdICJ+E6kmiDbl22bJlSJ8+vUHnw4suCSEUoeTn54du3bopL9r8+fNVZsTcuXNj7ty5KpxQinjGZH/WnTt3VDbCiEUScLRq1UoJNUmiIf2SfV+SeEP+hhddkhREPGPXr19X+7ok62GnTp20hczaSYAESCAaCVB0RSNsNkUCJEACJEAC0UVAxJSIrYjZCqOqfUnasWbNGpXQg4UESIAESMA8AYouPiEkQAIkQAIk4IIEtDz0WDINSup4OStM0syzkAAJkAAJUHTxGSABEiABEiABtyOglegKCAhQ+8PkXK1hw4a5HVcOmARIgAQiQ4CershQ4z0kQAIkQAIkQAIkQAIkQAIkYCUBii4rQfEyEiABEiABEiABEiABEiABEogMAYquyFDjPSRAAiRAAiRAAiRAAiRAAiRgJQGKLitB8TISIAESIAEScEUCx48fh5ypJQceRyyR2Rdmrj5X5McxkQAJkIA1BCi6rKHEa0iABEiABEjARQlQdLnoxHJYJEACDkWAosuhpoOdIQESIAESIIGoIXD48GGVYfDBgwdIkCABpkyZAl9fX1W5HKL8yy+/IGXKlGjUqBHmzZunPF0vX75UByvv27cPmTNnRpEiRfD8+XPMnj0bcoBxx44dcfv2bSROnBiTJk1C6dKlzdYXNSNhLSRAAiTg/AQoupx/DjkCEiABEiABEviIQNGiRdG9e3e0atUKcpDxDz/8gJCQEAQHByuxJH/TpUsHPz8/HDx4UIkuEWJLlizB77//jmfPnqFUqVLqWhFdIsBExHXo0AEi6OrWrYu//voLly5dMlkfp4UESIAESOADAYouPgkkQAIkQAIk4IIEXrx4gXjx4iFOnDi4desWsmbNilevXmH69OnYvHkz1q5dq0a9detWdOnSRYmupk2bwsfHBz179lSf9e/fH3///TeGDBkCb29vyKHIsWPHVp8VL14cY8eOVeLNVH0uiJVDIgESIIFIEaDoihQ23kQCJEACJEACjk1g2bJlmDp1Kl6/fo03b95A9m7JX39/fxUq+Ouvv6oBiNeqWbNmSnRVrVoVzZs3R5s2bdRnY8aMwblz59CpUyeULFkSHh4e+kGLJ0w8Y1KXqfocmxB7RwIkQALRR4CiK/pYsyUSIAESIAESiBYCoaGhyJkzJ44dOwYvLy/cuHED2bJlU6JLhJJ4twICAlRfNmzYgB49eijR1aRJExVSKP+W0rt3bzx8+BBDhw5Fvnz51P+PWMzVFy2DZSMkQAIk4AQEKLqcYJLYRRIgARIgARKwhcDp06dV0gwRW3HjxlVhghIKKN4p8UrJZ2fOnEHatGmV0BIvmIguSRG/evVqBAYG4tGjR0qAffbZZ2pPl+wRExEmXjEJOZT9YjNnzlR7ukzVZ0ufeS0JkAAJuDIBii5Xnl2OjQRIgARIwG0JtG7dGrt371YZCkVwibfq7du3KjOh7NGaNWsWkiVLpkIHRWxduXJFiTJJvLF//35kyZIFFStWVPvBJBRRxNpXX32F69evq31dvXr1UvdKMVWf28LnwEmABEggAgGKLj4SJEACJEACJEACJEACJEACJKAhAYouDeGyahIgARIgARIgARIgARIgARKg6OIzQAIkQAIkQAIkQAIkQAIkQAIaEqDo0hAuqyYBEiABEiABEiABEiABEiABii4+AyRAAiRAAiRAAiRAAiRAAiSgIQGKLg3hsmoSIAESIAESIAESIAESIAESoOjiM0ACJEACJEACJEACJEACJEACGhKg6NIQLqsmARIgARIgARIgARIgARIgAYouPgMkQAIkQAIkQAIkQAIkQAIkoCEBii4N4bJqEiABEiABEiABEiABEiABEqDo4jNAAiRAAiRAAiRAAiRAAiRAAhoSoOjSEC6rJgESIAESIAESIAESIAESIAGKLj4DJEACJEACJEACJEACJEACJKAhAYouDeGyahIgARIgARIgARIgARIgARKg6OIzQAIkQAIkQAIkQAIkQAIkQAIaEqDo0hAuqyYBEiABEiABEiABEiABEiABii4+AyRAAiRAAiRAAiRAAiRAAiSgIQGKLg3hsmoSIAESIAESIAESIAESIAES+D/0EP6BOmZ9VQAAAABJRU5ErkJggg==)\n",
    "\n",
    "When dealing with map objects, or dictionaries as they are called in Python, we have to add quotes around map keys. Otherwise, the keys would be treated as variables in Python, and you would get a NameError as the key variables are not defined. So, apart from adding quotes and removing the CALLclause, the syntax to project an in-memory graph is identical. \n",
    "\n",
    "When projecting a graph with the Python client, a client-side reference to the projected graph is returned. We call these references Graph objects. Along with the Graph object, the metadata from the procedure call is returned as Pandas Series.\n"
   ]
  },
  {
   "cell_type": "code",
   "execution_count": 10,
   "metadata": {
    "id": "c78q70AkB1ZQ"
   },
   "outputs": [],
   "source": [
    "G, metadata = gds.graph.project(\n",
    "    \"hp-graph\", \n",
    "    \"Character\",\n",
    "    {\"INTERACTS\": {\"orientation\": \"UNDIRECTED\", \"properties\": [\"weight\"]}}\n",
    ")"
   ]
  },
  {
   "cell_type": "markdown",
   "metadata": {
    "id": "t0M0fvVZZ3KO"
   },
   "source": [
    "We have passed the projected graph reference to the `G` variable and stored the metadata information as the `metadata` variable. The metadata variable contains information that you normally get as the output of the procedure."
   ]
  },
  {
   "cell_type": "code",
   "execution_count": 11,
   "metadata": {
    "colab": {
     "base_uri": "https://localhost:8080/"
    },
    "id": "vIfLiaKYDm6J",
    "outputId": "70824dd4-0281-40d4-ae20-e46cbb1f8947"
   },
   "outputs": [
    {
     "data": {
      "text/plain": [
       "nodeProjection            {'Character': {'label': 'Character', 'properti...\n",
       "relationshipProjection    {'INTERACTS': {'aggregation': 'DEFAULT', 'orie...\n",
       "graphName                                                          hp-graph\n",
       "nodeCount                                                               119\n",
       "relationshipCount                                                       812\n",
       "projectMillis                                                            91\n",
       "Name: 0, dtype: object"
      ]
     },
     "execution_count": 11,
     "metadata": {},
     "output_type": "execute_result"
    }
   ],
   "source": [
    "metadata"
   ]
  },
  {
   "cell_type": "markdown",
   "metadata": {
    "id": "VbJEhSOXZ9ze"
   },
   "source": [
    "There are 119 nodes and 812 relationships in our projected graph.\n",
    "The Graph object, available as the variable G , has multiple method that can be used to inspect more information about the projected graph. For a complete list of the methods consult with the [official documentation](https://neo4j.com/docs/graph-data-science/current/python-client/graph-object/#_inspecting_a_graph_object).\n",
    "\n",
    "For example, we can return the projected graph name using the `name()` method, inspect the memory usage using the `memory_usage()` method, or even calculate the density of the graph using the `density()` method."
   ]
  },
  {
   "cell_type": "code",
   "execution_count": 12,
   "metadata": {
    "colab": {
     "base_uri": "https://localhost:8080/"
    },
    "id": "xll1y1m9DsH5",
    "outputId": "1351780f-5673-4195-f10c-fd79a2b5338e"
   },
   "outputs": [
    {
     "name": "stdout",
     "output_type": "stream",
     "text": [
      "hp-graph\n",
      "2342 KiB\n",
      "0.05782652043868395\n"
     ]
    }
   ],
   "source": [
    "print(G.name())\n",
    "print(G.memory_usage())\n",
    "print(G.density())"
   ]
  },
  {
   "cell_type": "markdown",
   "metadata": {
    "id": "so0n--2RaJzn"
   },
   "source": [
    "# Running graph algorithms\n",
    "Now that we have the projected graph ready and available as the reference variable `G` , we can go ahead and execute a couple of graph algorithms using the Python client.\n",
    "\n",
    "We will begin by executing the weighted variant of the PageRank algorithm. The `stream` mode of the algorithm returns the result of the algorithm as a stream of records.\n",
    "\n",
    "![gds_pagerank.drawio (1).png](data:image/png;base64,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)\n",
    "\n",
    "Similar to before, when we were projecting an in-memory graph, we need to remove the `CALL` clause in the Python client for all algorithm executions. We reference the projected graph by its name with the Cypher procedure statement. However, using the Python client, we pass the Graph object as the reference to the projected in-memory graph instead of its name. Lastly, any algorithm configuration parameters can be specified as keyword arguments in the Python client.\n",
    "We can use the following Python script to execute the `stream` mode of the weighted PageRank algorithm."
   ]
  },
  {
   "cell_type": "code",
   "execution_count": 13,
   "metadata": {
    "colab": {
     "base_uri": "https://localhost:8080/",
     "height": 206
    },
    "id": "a0pLRI1XV5gi",
    "outputId": "942c4d98-a44a-4875-f488-04877744d15a"
   },
   "outputs": [
    {
     "data": {
      "text/html": [
       "<div>\n",
       "<style scoped>\n",
       "    .dataframe tbody tr th:only-of-type {\n",
       "        vertical-align: middle;\n",
       "    }\n",
       "\n",
       "    .dataframe tbody tr th {\n",
       "        vertical-align: top;\n",
       "    }\n",
       "\n",
       "    .dataframe thead th {\n",
       "        text-align: right;\n",
       "    }\n",
       "</style>\n",
       "<table border=\"1\" class=\"dataframe\">\n",
       "  <thead>\n",
       "    <tr style=\"text-align: right;\">\n",
       "      <th></th>\n",
       "      <th>nodeId</th>\n",
       "      <th>score</th>\n",
       "    </tr>\n",
       "  </thead>\n",
       "  <tbody>\n",
       "    <tr>\n",
       "      <th>0</th>\n",
       "      <td>0</td>\n",
       "      <td>1.851142</td>\n",
       "    </tr>\n",
       "    <tr>\n",
       "      <th>1</th>\n",
       "      <td>1</td>\n",
       "      <td>3.241780</td>\n",
       "    </tr>\n",
       "    <tr>\n",
       "      <th>2</th>\n",
       "      <td>2</td>\n",
       "      <td>0.375610</td>\n",
       "    </tr>\n",
       "    <tr>\n",
       "      <th>3</th>\n",
       "      <td>3</td>\n",
       "      <td>0.375610</td>\n",
       "    </tr>\n",
       "    <tr>\n",
       "      <th>4</th>\n",
       "      <td>4</td>\n",
       "      <td>24.197442</td>\n",
       "    </tr>\n",
       "    <tr>\n",
       "      <th>...</th>\n",
       "      <td>...</td>\n",
       "      <td>...</td>\n",
       "    </tr>\n",
       "    <tr>\n",
       "      <th>114</th>\n",
       "      <td>114</td>\n",
       "      <td>0.158696</td>\n",
       "    </tr>\n",
       "    <tr>\n",
       "      <th>115</th>\n",
       "      <td>115</td>\n",
       "      <td>0.451944</td>\n",
       "    </tr>\n",
       "    <tr>\n",
       "      <th>116</th>\n",
       "      <td>116</td>\n",
       "      <td>0.261076</td>\n",
       "    </tr>\n",
       "    <tr>\n",
       "      <th>117</th>\n",
       "      <td>117</td>\n",
       "      <td>0.294558</td>\n",
       "    </tr>\n",
       "    <tr>\n",
       "      <th>118</th>\n",
       "      <td>118</td>\n",
       "      <td>0.193563</td>\n",
       "    </tr>\n",
       "  </tbody>\n",
       "</table>\n",
       "<p>119 rows × 2 columns</p>\n",
       "</div>"
      ],
      "text/plain": [
       "     nodeId      score\n",
       "0         0   1.851142\n",
       "1         1   3.241780\n",
       "2         2   0.375610\n",
       "3         3   0.375610\n",
       "4         4  24.197442\n",
       "..      ...        ...\n",
       "114     114   0.158696\n",
       "115     115   0.451944\n",
       "116     116   0.261076\n",
       "117     117   0.294558\n",
       "118     118   0.193563\n",
       "\n",
       "[119 rows x 2 columns]"
      ]
     },
     "execution_count": 13,
     "metadata": {},
     "output_type": "execute_result"
    }
   ],
   "source": [
    "# PageRank stream\n",
    "pagerank_df = gds.pageRank.stream(G, relationshipWeightProperty=\"weight\")\n",
    "pagerank_df"
   ]
  },
  {
   "cell_type": "markdown",
   "metadata": {
    "id": "EuKnJ7Yzacb-"
   },
   "source": [
    "The `stream` mode of any algorithm in the GDS library returns a stream of records. Python client then automatically converts the output into a Pandas DataFrame.\n",
    "\n",
    "If you have ever executed the `stream` mode of the graph algorithms in Neo4j GDS library, you might be aware that the result contains internal node ids as a reference to nodes instead of actual node objects. The `pagerank_df` DataFrame contains two columns:\n",
    "* nodeId: Internal node ids used to reference nodes\n",
    "* score: PageRank score\n",
    "\n",
    "We can retrieve the referenced node objects using the `nodeId` column without constructing a Cypher statement by using the `gds.util.asNodes()` method. The `gds.util.asNodes()` method takes a list of internal node ids as input and outputs a list of node objects."
   ]
  },
  {
   "cell_type": "code",
   "execution_count": 16,
   "metadata": {
    "id": "xTl4i5cPWbrh"
   },
   "outputs": [],
   "source": [
    "# If you need to fetch information about node objects based on their internal node ids, \n",
    "# you can use gds.util.asNodes\n",
    "pagerank_df['node_object'] =  gds.util.asNodes(pagerank_df['nodeId'].to_list())"
   ]
  },
  {
   "cell_type": "markdown",
   "metadata": {
    "id": "fa-iw0etaubY"
   },
   "source": [
    "The `node_object` column now contains the referenced node objects. Node objects are defined in the underlying Neo4j Python driver. You can reference the [official documentation if you want to examine all the possible methods of the node object](https://neo4j.com/docs/api/python-driver/current/api.html#node).\n",
    "\n",
    "In this example, we will extract the `name` property from node objects and then visualize a bar chart of the top ten characters with the highest PageRank score."
   ]
  },
  {
   "cell_type": "code",
   "execution_count": 17,
   "metadata": {},
   "outputs": [
    {
     "data": {
      "text/html": [
       "<div>\n",
       "<style scoped>\n",
       "    .dataframe tbody tr th:only-of-type {\n",
       "        vertical-align: middle;\n",
       "    }\n",
       "\n",
       "    .dataframe tbody tr th {\n",
       "        vertical-align: top;\n",
       "    }\n",
       "\n",
       "    .dataframe thead th {\n",
       "        text-align: right;\n",
       "    }\n",
       "</style>\n",
       "<table border=\"1\" class=\"dataframe\">\n",
       "  <thead>\n",
       "    <tr style=\"text-align: right;\">\n",
       "      <th></th>\n",
       "      <th>nodeId</th>\n",
       "      <th>score</th>\n",
       "      <th>node_object</th>\n",
       "    </tr>\n",
       "  </thead>\n",
       "  <tbody>\n",
       "    <tr>\n",
       "      <th>0</th>\n",
       "      <td>0</td>\n",
       "      <td>1.851142</td>\n",
       "      <td>(name)</td>\n",
       "    </tr>\n",
       "    <tr>\n",
       "      <th>1</th>\n",
       "      <td>1</td>\n",
       "      <td>3.241780</td>\n",
       "      <td>(name)</td>\n",
       "    </tr>\n",
       "    <tr>\n",
       "      <th>2</th>\n",
       "      <td>2</td>\n",
       "      <td>0.375610</td>\n",
       "      <td>(name)</td>\n",
       "    </tr>\n",
       "    <tr>\n",
       "      <th>3</th>\n",
       "      <td>3</td>\n",
       "      <td>0.375610</td>\n",
       "      <td>(name)</td>\n",
       "    </tr>\n",
       "    <tr>\n",
       "      <th>4</th>\n",
       "      <td>4</td>\n",
       "      <td>24.197442</td>\n",
       "      <td>(name)</td>\n",
       "    </tr>\n",
       "    <tr>\n",
       "      <th>...</th>\n",
       "      <td>...</td>\n",
       "      <td>...</td>\n",
       "      <td>...</td>\n",
       "    </tr>\n",
       "    <tr>\n",
       "      <th>114</th>\n",
       "      <td>114</td>\n",
       "      <td>0.158696</td>\n",
       "      <td>(name)</td>\n",
       "    </tr>\n",
       "    <tr>\n",
       "      <th>115</th>\n",
       "      <td>115</td>\n",
       "      <td>0.451944</td>\n",
       "      <td>(name)</td>\n",
       "    </tr>\n",
       "    <tr>\n",
       "      <th>116</th>\n",
       "      <td>116</td>\n",
       "      <td>0.261076</td>\n",
       "      <td>(name)</td>\n",
       "    </tr>\n",
       "    <tr>\n",
       "      <th>117</th>\n",
       "      <td>117</td>\n",
       "      <td>0.294558</td>\n",
       "      <td>(name)</td>\n",
       "    </tr>\n",
       "    <tr>\n",
       "      <th>118</th>\n",
       "      <td>118</td>\n",
       "      <td>0.193563</td>\n",
       "      <td>(name)</td>\n",
       "    </tr>\n",
       "  </tbody>\n",
       "</table>\n",
       "<p>119 rows × 3 columns</p>\n",
       "</div>"
      ],
      "text/plain": [
       "     nodeId      score node_object\n",
       "0         0   1.851142      (name)\n",
       "1         1   3.241780      (name)\n",
       "2         2   0.375610      (name)\n",
       "3         3   0.375610      (name)\n",
       "4         4  24.197442      (name)\n",
       "..      ...        ...         ...\n",
       "114     114   0.158696      (name)\n",
       "115     115   0.451944      (name)\n",
       "116     116   0.261076      (name)\n",
       "117     117   0.294558      (name)\n",
       "118     118   0.193563      (name)\n",
       "\n",
       "[119 rows x 3 columns]"
      ]
     },
     "execution_count": 17,
     "metadata": {},
     "output_type": "execute_result"
    }
   ],
   "source": [
    "pagerank_df"
   ]
  },
  {
   "cell_type": "code",
   "execution_count": 18,
   "metadata": {},
   "outputs": [
    {
     "data": {
      "text/html": [
       "<div>\n",
       "<style scoped>\n",
       "    .dataframe tbody tr th:only-of-type {\n",
       "        vertical-align: middle;\n",
       "    }\n",
       "\n",
       "    .dataframe tbody tr th {\n",
       "        vertical-align: top;\n",
       "    }\n",
       "\n",
       "    .dataframe thead th {\n",
       "        text-align: right;\n",
       "    }\n",
       "</style>\n",
       "<table border=\"1\" class=\"dataframe\">\n",
       "  <thead>\n",
       "    <tr style=\"text-align: right;\">\n",
       "      <th></th>\n",
       "      <th>nodeId</th>\n",
       "      <th>score</th>\n",
       "      <th>node_object</th>\n",
       "      <th>name</th>\n",
       "    </tr>\n",
       "  </thead>\n",
       "  <tbody>\n",
       "    <tr>\n",
       "      <th>0</th>\n",
       "      <td>0</td>\n",
       "      <td>1.851142</td>\n",
       "      <td>(name)</td>\n",
       "      <td>Petunia Dursley</td>\n",
       "    </tr>\n",
       "    <tr>\n",
       "      <th>1</th>\n",
       "      <td>1</td>\n",
       "      <td>3.241780</td>\n",
       "      <td>(name)</td>\n",
       "      <td>Dudley Dursley</td>\n",
       "    </tr>\n",
       "    <tr>\n",
       "      <th>2</th>\n",
       "      <td>2</td>\n",
       "      <td>0.375610</td>\n",
       "      <td>(name)</td>\n",
       "      <td>Lily J. Potter</td>\n",
       "    </tr>\n",
       "    <tr>\n",
       "      <th>3</th>\n",
       "      <td>3</td>\n",
       "      <td>0.375610</td>\n",
       "      <td>(name)</td>\n",
       "      <td>James Potter I</td>\n",
       "    </tr>\n",
       "    <tr>\n",
       "      <th>4</th>\n",
       "      <td>4</td>\n",
       "      <td>24.197442</td>\n",
       "      <td>(name)</td>\n",
       "      <td>Harry Potter</td>\n",
       "    </tr>\n",
       "    <tr>\n",
       "      <th>...</th>\n",
       "      <td>...</td>\n",
       "      <td>...</td>\n",
       "      <td>...</td>\n",
       "      <td>...</td>\n",
       "    </tr>\n",
       "    <tr>\n",
       "      <th>114</th>\n",
       "      <td>114</td>\n",
       "      <td>0.158696</td>\n",
       "      <td>(name)</td>\n",
       "      <td>Unicorn</td>\n",
       "    </tr>\n",
       "    <tr>\n",
       "      <th>115</th>\n",
       "      <td>115</td>\n",
       "      <td>0.451944</td>\n",
       "      <td>(name)</td>\n",
       "      <td>Terry Boot</td>\n",
       "    </tr>\n",
       "    <tr>\n",
       "      <th>116</th>\n",
       "      <td>116</td>\n",
       "      <td>0.261076</td>\n",
       "      <td>(name)</td>\n",
       "      <td>Enid (disambiguation)</td>\n",
       "    </tr>\n",
       "    <tr>\n",
       "      <th>117</th>\n",
       "      <td>117</td>\n",
       "      <td>0.294558</td>\n",
       "      <td>(name)</td>\n",
       "      <td>Uric the Oddball</td>\n",
       "    </tr>\n",
       "    <tr>\n",
       "      <th>118</th>\n",
       "      <td>118</td>\n",
       "      <td>0.193563</td>\n",
       "      <td>(name)</td>\n",
       "      <td>Miles Bletchley</td>\n",
       "    </tr>\n",
       "  </tbody>\n",
       "</table>\n",
       "<p>119 rows × 4 columns</p>\n",
       "</div>"
      ],
      "text/plain": [
       "     nodeId      score node_object                   name\n",
       "0         0   1.851142      (name)        Petunia Dursley\n",
       "1         1   3.241780      (name)         Dudley Dursley\n",
       "2         2   0.375610      (name)         Lily J. Potter\n",
       "3         3   0.375610      (name)         James Potter I\n",
       "4         4  24.197442      (name)           Harry Potter\n",
       "..      ...        ...         ...                    ...\n",
       "114     114   0.158696      (name)                Unicorn\n",
       "115     115   0.451944      (name)             Terry Boot\n",
       "116     116   0.261076      (name)  Enid (disambiguation)\n",
       "117     117   0.294558      (name)       Uric the Oddball\n",
       "118     118   0.193563      (name)        Miles Bletchley\n",
       "\n",
       "[119 rows x 4 columns]"
      ]
     },
     "execution_count": 18,
     "metadata": {},
     "output_type": "execute_result"
    }
   ],
   "source": [
    "pagerank_df['name'] = [n['name'] for n in pagerank_df['node_object']]\n",
    "pagerank_df"
   ]
  },
  {
   "cell_type": "code",
   "execution_count": 19,
   "metadata": {
    "colab": {
     "base_uri": "https://localhost:8080/",
     "height": 652
    },
    "id": "6drUBiMBWqpJ",
    "outputId": "9e3c906f-7d87-4404-d231-36f6fc0639cf"
   },
   "outputs": [
    {
     "data": {
      "text/plain": [
       "(array([0, 1, 2, 3, 4, 5, 6, 7, 8, 9]),\n",
       " [Text(0, 0, 'Harry Potter'),\n",
       "  Text(1, 0, 'Ronald Weasley'),\n",
       "  Text(2, 0, 'Hermione Granger'),\n",
       "  Text(3, 0, 'Rubeus Hagrid'),\n",
       "  Text(4, 0, 'Severus Snape'),\n",
       "  Text(5, 0, 'Dudley Dursley'),\n",
       "  Text(6, 0, 'Draco Malfoy'),\n",
       "  Text(7, 0, 'Vernon Dursley'),\n",
       "  Text(8, 0, 'Albus Dumbledore'),\n",
       "  Text(9, 0, 'Neville Longbottom')])"
      ]
     },
     "execution_count": 19,
     "metadata": {},
     "output_type": "execute_result"
    },
    {
     "data": {
      "image/png": "[encoded data removed]",
      "text/plain": [
       "<Figure size 1152x648 with 1 Axes>"
      ]
     },
     "metadata": {
      "needs_background": "light"
     },
     "output_type": "display_data"
    }
   ],
   "source": [
    "# Extract name properties from the node object\n",
    "#pagerank_df['name'] = [n['name'] for n in pagerank_df['node_object']]\n",
    "# Draw a bar chart\n",
    "plt.figure(figsize=(16,9))\n",
    "sns.barplot(x='name', y='score', data=pagerank_df.sort_values(by='score', ascending=False).head(10))\n",
    "plt.xticks(rotation=45)\n"
   ]
  },
  {
   "cell_type": "markdown",
   "metadata": {
    "id": "7e7Jauk_a66I"
   },
   "source": [
    "An additional benefit of having the graph algorithm output available in the Pandas Dataframe is that if you are not experienced with Cypher aggregations, you can simply skip them and do your aggregations in Pandas.\n",
    "\n",
    "As opposed to the `stream` mode of algorithms, the `stats`, `mutate`, and `write` modes do not produce a stream of results. Therefore, the results of Python client methods are not Pandas DataFrame. Instead, those methods output the algorithm metadata in Pandas Series format.\n",
    "\n",
    "For example, let's say we want to execute the mutate mode of the Louvain algorithm."
   ]
  },
  {
   "cell_type": "code",
   "execution_count": 20,
   "metadata": {
    "colab": {
     "base_uri": "https://localhost:8080/"
    },
    "id": "mz5ARGwjEOPV",
    "outputId": "a01ee5f2-da08-40b8-cdaa-e0f3ffdf8ed8"
   },
   "outputs": [
    {
     "name": "stdout",
     "output_type": "stream",
     "text": [
      "mutateMillis                                                             1\n",
      "nodePropertiesWritten                                                  119\n",
      "modularity                                                        0.176974\n",
      "modularities                    [0.15405649883268652, 0.17697414179849236]\n",
      "ranLevels                                                                2\n",
      "communityCount                                                          10\n",
      "communityDistribution    {'min': 2, 'p5': 2, 'max': 42, 'p999': 42, 'p9...\n",
      "postProcessingMillis                                                    11\n",
      "preProcessingMillis                                                      0\n",
      "computeMillis                                                          260\n",
      "configuration            {'mutateProperty': 'communityId', 'jobId': '31...\n",
      "Name: 0, dtype: object\n"
     ]
    }
   ],
   "source": [
    "# Louvain mutate\n",
    "louvain_metadata = gds.louvain.mutate(G, mutateProperty='communityId', \n",
    "                                      relationshipWeightProperty='weight')\n",
    "print(louvain_metadata)"
   ]
  },
  {
   "cell_type": "markdown",
   "metadata": {
    "id": "78lP-jZobHYL"
   },
   "source": [
    "The mapping from Cypher to Python is identical as in the PageRank example. The Graph object replaces the name of the projected graph, and additional algorithm configuration parameters are specified using the keyword arguments.\n",
    "\n",
    "We can observe that the algorithm identified ten communities, while the modularity score is relatively low.\n",
    "\n",
    "The `mutate` mode of the algorithm stores the results in the projected in-memory graph. One of the Graph object methods is the `node_properties()` method, which can be used to inspect which node properties are present in the in-memory graph."
   ]
  },
  {
   "cell_type": "code",
   "execution_count": 21,
   "metadata": {
    "colab": {
     "base_uri": "https://localhost:8080/"
    },
    "id": "yGXIi130-3JB",
    "outputId": "dee72534-51c0-4493-98aa-b473b3dfa7ae"
   },
   "outputs": [
    {
     "data": {
      "text/plain": [
       "['communityId']"
      ]
     },
     "execution_count": 21,
     "metadata": {},
     "output_type": "execute_result"
    }
   ],
   "source": [
    "G.node_properties('Character')"
   ]
  },
  {
   "cell_type": "markdown",
   "metadata": {
    "id": "DeL4V9KHbQga"
   },
   "source": [
    "The result of the `node_properties()` method verifies that the communityId node property was added to the projected graph. \n",
    "\n",
    "Sometimes we want to retrieve the node properties from the projected in-memory graph. Luckily, there is a `gds.graph.streamNodeProperty()` method that fetches node properties from the projected in-memory graph and outputs them as a Pandas DataFrame."
   ]
  },
  {
   "cell_type": "code",
   "execution_count": 22,
   "metadata": {
    "colab": {
     "base_uri": "https://localhost:8080/",
     "height": 206
    },
    "id": "LMgy4UhzFKeD",
    "outputId": "db0ebcfc-8348-48a0-d9d3-190f58e3b8f3"
   },
   "outputs": [
    {
     "data": {
      "text/html": [
       "<div>\n",
       "<style scoped>\n",
       "    .dataframe tbody tr th:only-of-type {\n",
       "        vertical-align: middle;\n",
       "    }\n",
       "\n",
       "    .dataframe tbody tr th {\n",
       "        vertical-align: top;\n",
       "    }\n",
       "\n",
       "    .dataframe thead th {\n",
       "        text-align: right;\n",
       "    }\n",
       "</style>\n",
       "<table border=\"1\" class=\"dataframe\">\n",
       "  <thead>\n",
       "    <tr style=\"text-align: right;\">\n",
       "      <th></th>\n",
       "      <th>nodeId</th>\n",
       "      <th>propertyValue</th>\n",
       "      <th>nodeLabels</th>\n",
       "    </tr>\n",
       "  </thead>\n",
       "  <tbody>\n",
       "    <tr>\n",
       "      <th>0</th>\n",
       "      <td>0</td>\n",
       "      <td>103</td>\n",
       "      <td>[]</td>\n",
       "    </tr>\n",
       "    <tr>\n",
       "      <th>1</th>\n",
       "      <td>1</td>\n",
       "      <td>103</td>\n",
       "      <td>[]</td>\n",
       "    </tr>\n",
       "    <tr>\n",
       "      <th>2</th>\n",
       "      <td>2</td>\n",
       "      <td>3</td>\n",
       "      <td>[]</td>\n",
       "    </tr>\n",
       "    <tr>\n",
       "      <th>3</th>\n",
       "      <td>3</td>\n",
       "      <td>3</td>\n",
       "      <td>[]</td>\n",
       "    </tr>\n",
       "    <tr>\n",
       "      <th>4</th>\n",
       "      <td>4</td>\n",
       "      <td>14</td>\n",
       "      <td>[]</td>\n",
       "    </tr>\n",
       "    <tr>\n",
       "      <th>...</th>\n",
       "      <td>...</td>\n",
       "      <td>...</td>\n",
       "      <td>...</td>\n",
       "    </tr>\n",
       "    <tr>\n",
       "      <th>114</th>\n",
       "      <td>114</td>\n",
       "      <td>14</td>\n",
       "      <td>[]</td>\n",
       "    </tr>\n",
       "    <tr>\n",
       "      <th>115</th>\n",
       "      <td>115</td>\n",
       "      <td>69</td>\n",
       "      <td>[]</td>\n",
       "    </tr>\n",
       "    <tr>\n",
       "      <th>116</th>\n",
       "      <td>116</td>\n",
       "      <td>4</td>\n",
       "      <td>[]</td>\n",
       "    </tr>\n",
       "    <tr>\n",
       "      <th>117</th>\n",
       "      <td>117</td>\n",
       "      <td>117</td>\n",
       "      <td>[]</td>\n",
       "    </tr>\n",
       "    <tr>\n",
       "      <th>118</th>\n",
       "      <td>118</td>\n",
       "      <td>14</td>\n",
       "      <td>[]</td>\n",
       "    </tr>\n",
       "  </tbody>\n",
       "</table>\n",
       "<p>119 rows × 3 columns</p>\n",
       "</div>"
      ],
      "text/plain": [
       "     nodeId  propertyValue nodeLabels\n",
       "0         0            103         []\n",
       "1         1            103         []\n",
       "2         2              3         []\n",
       "3         3              3         []\n",
       "4         4             14         []\n",
       "..      ...            ...        ...\n",
       "114     114             14         []\n",
       "115     115             69         []\n",
       "116     116              4         []\n",
       "117     117            117         []\n",
       "118     118             14         []\n",
       "\n",
       "[119 rows x 3 columns]"
      ]
     },
     "execution_count": 22,
     "metadata": {},
     "output_type": "execute_result"
    }
   ],
   "source": [
    "# If you want to retrieve node properties from the in-memory graph in the form of a Pandas DataFrame\n",
    "louvain_df = gds.graph.streamNodeProperty(G, 'communityId')\n",
    "louvain_df"
   ]
  },
  {
   "cell_type": "markdown",
   "metadata": {
    "id": "HlABauhObZAd"
   },
   "source": [
    "The first parameter of the `gds.graph.streamNodeProperty()` method is the referenced Graph object. As the second parameter, we define which property we want to retrieve from the in-memory graph.\n",
    "\n",
    "Again, we get the internal node ids in the `nodeId` column. We could use the `gds.util.asNodes()` method to fetch the node objects that the internal node ids reference. Unfortunately, the column with the retrieved node properties has a generic name `propertyValue` . In our case, it would make sense to name the column with the results `communityId` . However, we can do that manually if we need to."
   ]
  },
  {
   "cell_type": "code",
   "execution_count": 24,
   "metadata": {
    "colab": {
     "base_uri": "https://localhost:8080/",
     "height": 363
    },
    "id": "ETnKF9pX-aED",
    "outputId": "2a23dc7c-417a-4852-ce67-ee90028fa888"
   },
   "outputs": [
    {
     "data": {
      "text/html": [
       "<div>\n",
       "<style scoped>\n",
       "    .dataframe tbody tr th:only-of-type {\n",
       "        vertical-align: middle;\n",
       "    }\n",
       "\n",
       "    .dataframe tbody tr th {\n",
       "        vertical-align: top;\n",
       "    }\n",
       "\n",
       "    .dataframe thead th {\n",
       "        text-align: right;\n",
       "    }\n",
       "</style>\n",
       "<table border=\"1\" class=\"dataframe\">\n",
       "  <thead>\n",
       "    <tr style=\"text-align: right;\">\n",
       "      <th></th>\n",
       "      <th>communityId</th>\n",
       "      <th>communitySize</th>\n",
       "    </tr>\n",
       "  </thead>\n",
       "  <tbody>\n",
       "    <tr>\n",
       "      <th>2</th>\n",
       "      <td>14</td>\n",
       "      <td>42</td>\n",
       "    </tr>\n",
       "    <tr>\n",
       "      <th>8</th>\n",
       "      <td>103</td>\n",
       "      <td>18</td>\n",
       "    </tr>\n",
       "    <tr>\n",
       "      <th>7</th>\n",
       "      <td>99</td>\n",
       "      <td>16</td>\n",
       "    </tr>\n",
       "    <tr>\n",
       "      <th>5</th>\n",
       "      <td>69</td>\n",
       "      <td>11</td>\n",
       "    </tr>\n",
       "    <tr>\n",
       "      <th>3</th>\n",
       "      <td>31</td>\n",
       "      <td>8</td>\n",
       "    </tr>\n",
       "    <tr>\n",
       "      <th>1</th>\n",
       "      <td>4</td>\n",
       "      <td>7</td>\n",
       "    </tr>\n",
       "    <tr>\n",
       "      <th>4</th>\n",
       "      <td>48</td>\n",
       "      <td>6</td>\n",
       "    </tr>\n",
       "    <tr>\n",
       "      <th>6</th>\n",
       "      <td>81</td>\n",
       "      <td>5</td>\n",
       "    </tr>\n",
       "    <tr>\n",
       "      <th>9</th>\n",
       "      <td>117</td>\n",
       "      <td>4</td>\n",
       "    </tr>\n",
       "    <tr>\n",
       "      <th>0</th>\n",
       "      <td>3</td>\n",
       "      <td>2</td>\n",
       "    </tr>\n",
       "  </tbody>\n",
       "</table>\n",
       "</div>"
      ],
      "text/plain": [
       "   communityId  communitySize\n",
       "2           14             42\n",
       "8          103             18\n",
       "7           99             16\n",
       "5           69             11\n",
       "3           31              8\n",
       "1            4              7\n",
       "4           48              6\n",
       "6           81              5\n",
       "9          117              4\n",
       "0            3              2"
      ]
     },
     "execution_count": 24,
     "metadata": {},
     "output_type": "execute_result"
    }
   ],
   "source": [
    "# Rename columns\n",
    "louvain_df.columns = ['nodeId', 'communityId', 'nodeLabel']\n",
    "# You can do all sorts of pandas operations like aggregations\n",
    "louvain_df.groupby(\"communityId\").size().to_frame(\n",
    "    \"communitySize\"\n",
    ").reset_index().sort_values(by=[\"communitySize\"], ascending=False)"
   ]
  },
  {
   "cell_type": "code",
   "execution_count": 25,
   "metadata": {},
   "outputs": [
    {
     "data": {
      "text/html": [
       "<div>\n",
       "<style scoped>\n",
       "    .dataframe tbody tr th:only-of-type {\n",
       "        vertical-align: middle;\n",
       "    }\n",
       "\n",
       "    .dataframe tbody tr th {\n",
       "        vertical-align: top;\n",
       "    }\n",
       "\n",
       "    .dataframe thead th {\n",
       "        text-align: right;\n",
       "    }\n",
       "</style>\n",
       "<table border=\"1\" class=\"dataframe\">\n",
       "  <thead>\n",
       "    <tr style=\"text-align: right;\">\n",
       "      <th></th>\n",
       "      <th>nodeId</th>\n",
       "      <th>communityId</th>\n",
       "      <th>nodeLabel</th>\n",
       "    </tr>\n",
       "  </thead>\n",
       "  <tbody>\n",
       "    <tr>\n",
       "      <th>0</th>\n",
       "      <td>0</td>\n",
       "      <td>103</td>\n",
       "      <td>[]</td>\n",
       "    </tr>\n",
       "    <tr>\n",
       "      <th>1</th>\n",
       "      <td>1</td>\n",
       "      <td>103</td>\n",
       "      <td>[]</td>\n",
       "    </tr>\n",
       "    <tr>\n",
       "      <th>2</th>\n",
       "      <td>2</td>\n",
       "      <td>3</td>\n",
       "      <td>[]</td>\n",
       "    </tr>\n",
       "    <tr>\n",
       "      <th>3</th>\n",
       "      <td>3</td>\n",
       "      <td>3</td>\n",
       "      <td>[]</td>\n",
       "    </tr>\n",
       "    <tr>\n",
       "      <th>4</th>\n",
       "      <td>4</td>\n",
       "      <td>14</td>\n",
       "      <td>[]</td>\n",
       "    </tr>\n",
       "    <tr>\n",
       "      <th>...</th>\n",
       "      <td>...</td>\n",
       "      <td>...</td>\n",
       "      <td>...</td>\n",
       "    </tr>\n",
       "    <tr>\n",
       "      <th>114</th>\n",
       "      <td>114</td>\n",
       "      <td>14</td>\n",
       "      <td>[]</td>\n",
       "    </tr>\n",
       "    <tr>\n",
       "      <th>115</th>\n",
       "      <td>115</td>\n",
       "      <td>69</td>\n",
       "      <td>[]</td>\n",
       "    </tr>\n",
       "    <tr>\n",
       "      <th>116</th>\n",
       "      <td>116</td>\n",
       "      <td>4</td>\n",
       "      <td>[]</td>\n",
       "    </tr>\n",
       "    <tr>\n",
       "      <th>117</th>\n",
       "      <td>117</td>\n",
       "      <td>117</td>\n",
       "      <td>[]</td>\n",
       "    </tr>\n",
       "    <tr>\n",
       "      <th>118</th>\n",
       "      <td>118</td>\n",
       "      <td>14</td>\n",
       "      <td>[]</td>\n",
       "    </tr>\n",
       "  </tbody>\n",
       "</table>\n",
       "<p>119 rows × 3 columns</p>\n",
       "</div>"
      ],
      "text/plain": [
       "     nodeId  communityId nodeLabel\n",
       "0         0          103        []\n",
       "1         1          103        []\n",
       "2         2            3        []\n",
       "3         3            3        []\n",
       "4         4           14        []\n",
       "..      ...          ...       ...\n",
       "114     114           14        []\n",
       "115     115           69        []\n",
       "116     116            4        []\n",
       "117     117          117        []\n",
       "118     118           14        []\n",
       "\n",
       "[119 rows x 3 columns]"
      ]
     },
     "execution_count": 25,
     "metadata": {},
     "output_type": "execute_result"
    }
   ],
   "source": [
    "louvain_df"
   ]
  },
  {
   "cell_type": "code",
   "execution_count": 26,
   "metadata": {},
   "outputs": [],
   "source": [
    "louvain_df['node_object'] =  gds.util.asNodes(louvain_df['nodeId'].to_list())\n",
    "louvain_df['name'] = [n['name'] for n in louvain_df['node_object']]"
   ]
  },
  {
   "cell_type": "code",
   "execution_count": 27,
   "metadata": {},
   "outputs": [
    {
     "data": {
      "text/html": [
       "<div>\n",
       "<style scoped>\n",
       "    .dataframe tbody tr th:only-of-type {\n",
       "        vertical-align: middle;\n",
       "    }\n",
       "\n",
       "    .dataframe tbody tr th {\n",
       "        vertical-align: top;\n",
       "    }\n",
       "\n",
       "    .dataframe thead th {\n",
       "        text-align: right;\n",
       "    }\n",
       "</style>\n",
       "<table border=\"1\" class=\"dataframe\">\n",
       "  <thead>\n",
       "    <tr style=\"text-align: right;\">\n",
       "      <th></th>\n",
       "      <th>nodeId</th>\n",
       "      <th>communityId</th>\n",
       "      <th>nodeLabel</th>\n",
       "      <th>node_object</th>\n",
       "      <th>name</th>\n",
       "    </tr>\n",
       "  </thead>\n",
       "  <tbody>\n",
       "    <tr>\n",
       "      <th>0</th>\n",
       "      <td>0</td>\n",
       "      <td>103</td>\n",
       "      <td>[]</td>\n",
       "      <td>(name)</td>\n",
       "      <td>Petunia Dursley</td>\n",
       "    </tr>\n",
       "    <tr>\n",
       "      <th>1</th>\n",
       "      <td>1</td>\n",
       "      <td>103</td>\n",
       "      <td>[]</td>\n",
       "      <td>(name)</td>\n",
       "      <td>Dudley Dursley</td>\n",
       "    </tr>\n",
       "    <tr>\n",
       "      <th>2</th>\n",
       "      <td>2</td>\n",
       "      <td>3</td>\n",
       "      <td>[]</td>\n",
       "      <td>(name)</td>\n",
       "      <td>Lily J. Potter</td>\n",
       "    </tr>\n",
       "    <tr>\n",
       "      <th>3</th>\n",
       "      <td>3</td>\n",
       "      <td>3</td>\n",
       "      <td>[]</td>\n",
       "      <td>(name)</td>\n",
       "      <td>James Potter I</td>\n",
       "    </tr>\n",
       "    <tr>\n",
       "      <th>4</th>\n",
       "      <td>4</td>\n",
       "      <td>14</td>\n",
       "      <td>[]</td>\n",
       "      <td>(name)</td>\n",
       "      <td>Harry Potter</td>\n",
       "    </tr>\n",
       "    <tr>\n",
       "      <th>...</th>\n",
       "      <td>...</td>\n",
       "      <td>...</td>\n",
       "      <td>...</td>\n",
       "      <td>...</td>\n",
       "      <td>...</td>\n",
       "    </tr>\n",
       "    <tr>\n",
       "      <th>114</th>\n",
       "      <td>114</td>\n",
       "      <td>14</td>\n",
       "      <td>[]</td>\n",
       "      <td>(name)</td>\n",
       "      <td>Unicorn</td>\n",
       "    </tr>\n",
       "    <tr>\n",
       "      <th>115</th>\n",
       "      <td>115</td>\n",
       "      <td>69</td>\n",
       "      <td>[]</td>\n",
       "      <td>(name)</td>\n",
       "      <td>Terry Boot</td>\n",
       "    </tr>\n",
       "    <tr>\n",
       "      <th>116</th>\n",
       "      <td>116</td>\n",
       "      <td>4</td>\n",
       "      <td>[]</td>\n",
       "      <td>(name)</td>\n",
       "      <td>Enid (disambiguation)</td>\n",
       "    </tr>\n",
       "    <tr>\n",
       "      <th>117</th>\n",
       "      <td>117</td>\n",
       "      <td>117</td>\n",
       "      <td>[]</td>\n",
       "      <td>(name)</td>\n",
       "      <td>Uric the Oddball</td>\n",
       "    </tr>\n",
       "    <tr>\n",
       "      <th>118</th>\n",
       "      <td>118</td>\n",
       "      <td>14</td>\n",
       "      <td>[]</td>\n",
       "      <td>(name)</td>\n",
       "      <td>Miles Bletchley</td>\n",
       "    </tr>\n",
       "  </tbody>\n",
       "</table>\n",
       "<p>119 rows × 5 columns</p>\n",
       "</div>"
      ],
      "text/plain": [
       "     nodeId  communityId nodeLabel node_object                   name\n",
       "0         0          103        []      (name)        Petunia Dursley\n",
       "1         1          103        []      (name)         Dudley Dursley\n",
       "2         2            3        []      (name)         Lily J. Potter\n",
       "3         3            3        []      (name)         James Potter I\n",
       "4         4           14        []      (name)           Harry Potter\n",
       "..      ...          ...       ...         ...                    ...\n",
       "114     114           14        []      (name)                Unicorn\n",
       "115     115           69        []      (name)             Terry Boot\n",
       "116     116            4        []      (name)  Enid (disambiguation)\n",
       "117     117          117        []      (name)       Uric the Oddball\n",
       "118     118           14        []      (name)        Miles Bletchley\n",
       "\n",
       "[119 rows x 5 columns]"
      ]
     },
     "execution_count": 27,
     "metadata": {},
     "output_type": "execute_result"
    }
   ],
   "source": [
    "louvain_df"
   ]
  },
  {
   "cell_type": "markdown",
   "metadata": {
    "id": "SbYFdS47bolR"
   },
   "source": [
    "Like mentioned before, the added benefit of dealing with Pandas DataFrames as algorithm output is that you can apply all your Python skills to transform or manipulate the results. In this example, we simply grouped the DataFrame by the `communityId` column and count the members of each community.\n",
    "\n",
    "# Helpful methods\n",
    "In the last part of this post, we will go over some of the helpful methods. The first one that comes to mind is listing all of the already projected in-memory graph with the `gds.graph.list()` method."
   ]
  },
  {
   "cell_type": "code",
   "execution_count": 28,
   "metadata": {
    "colab": {
     "base_uri": "https://localhost:8080/",
     "height": 159
    },
    "id": "GO4zQ6DKLCWG",
    "outputId": "b94c92fc-7d02-46c0-84bc-f8263499827e"
   },
   "outputs": [
    {
     "data": {
      "text/html": [
       "<div>\n",
       "<style scoped>\n",
       "    .dataframe tbody tr th:only-of-type {\n",
       "        vertical-align: middle;\n",
       "    }\n",
       "\n",
       "    .dataframe tbody tr th {\n",
       "        vertical-align: top;\n",
       "    }\n",
       "\n",
       "    .dataframe thead th {\n",
       "        text-align: right;\n",
       "    }\n",
       "</style>\n",
       "<table border=\"1\" class=\"dataframe\">\n",
       "  <thead>\n",
       "    <tr style=\"text-align: right;\">\n",
       "      <th></th>\n",
       "      <th>degreeDistribution</th>\n",
       "      <th>graphName</th>\n",
       "      <th>database</th>\n",
       "      <th>databaseLocation</th>\n",
       "      <th>memoryUsage</th>\n",
       "      <th>sizeInBytes</th>\n",
       "      <th>nodeCount</th>\n",
       "      <th>relationshipCount</th>\n",
       "      <th>configuration</th>\n",
       "      <th>density</th>\n",
       "      <th>creationTime</th>\n",
       "      <th>modificationTime</th>\n",
       "      <th>schema</th>\n",
       "      <th>schemaWithOrientation</th>\n",
       "    </tr>\n",
       "  </thead>\n",
       "  <tbody>\n",
       "    <tr>\n",
       "      <th>0</th>\n",
       "      <td>{'min': 1, 'max': 83, 'p90': 15, 'p999': 83, '...</td>\n",
       "      <td>hp-graph</td>\n",
       "      <td>neo4j</td>\n",
       "      <td>local</td>\n",
       "      <td>2343 KiB</td>\n",
       "      <td>2400048</td>\n",
       "      <td>119</td>\n",
       "      <td>812</td>\n",
       "      <td>{'relationshipProjection': {'INTERACTS': {'agg...</td>\n",
       "      <td>0.057827</td>\n",
       "      <td>2024-06-17T19:20:44.939815800+00:00</td>\n",
       "      <td>2024-06-17T19:25:56.556488500+00:00</td>\n",
       "      <td>{'graphProperties': {}, 'nodes': {'Character':...</td>\n",
       "      <td>{'graphProperties': {}, 'nodes': {'Character':...</td>\n",
       "    </tr>\n",
       "  </tbody>\n",
       "</table>\n",
       "</div>"
      ],
      "text/plain": [
       "                                  degreeDistribution graphName database  \\\n",
       "0  {'min': 1, 'max': 83, 'p90': 15, 'p999': 83, '...  hp-graph    neo4j   \n",
       "\n",
       "  databaseLocation memoryUsage  sizeInBytes  nodeCount  relationshipCount  \\\n",
       "0            local    2343 KiB      2400048        119                812   \n",
       "\n",
       "                                       configuration   density  \\\n",
       "0  {'relationshipProjection': {'INTERACTS': {'agg...  0.057827   \n",
       "\n",
       "                          creationTime                     modificationTime  \\\n",
       "0  2024-06-17T19:20:44.939815800+00:00  2024-06-17T19:25:56.556488500+00:00   \n",
       "\n",
       "                                              schema  \\\n",
       "0  {'graphProperties': {}, 'nodes': {'Character':...   \n",
       "\n",
       "                               schemaWithOrientation  \n",
       "0  {'graphProperties': {}, 'nodes': {'Character':...  "
      ]
     },
     "execution_count": 28,
     "metadata": {},
     "output_type": "execute_result"
    }
   ],
   "source": [
    "gds.graph.list()"
   ]
  },
  {
   "cell_type": "markdown",
   "metadata": {
    "id": "d92J_oYCbxxx"
   },
   "source": [
    "Sometimes there are already projected in-memory graphs present in the database. If you don't have a reference to the projected graphs in the form of a Graph object, you cannot execute any graph algorithm. To avoid having to drop and recreate projected graphs, you can use the `gds.graph.get()` method."
   ]
  },
  {
   "cell_type": "code",
   "execution_count": 29,
   "metadata": {
    "id": "UML8KJzWTpjN"
   },
   "outputs": [],
   "source": [
    "# G = gds.graph.get(\"graph name\")"
   ]
  },
  {
   "cell_type": "markdown",
   "metadata": {
    "id": "2hIU-lQ2b5xz"
   },
   "source": [
    "When using the shortest path algorithms, you need to provide source and target nodes ids. You could use Cypher statements or you could use the `gds.find_node_id()` method.\n",
    "\n",
    "![find_node.drawio (1).png](data:image/png;base64,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)\n",
    "\n",
    "The `gds.find_node_id()` takes in two arguments. The first argument defines the node label we are searching for. In our example, we are searching for the `Character` node label. The second parameter specifies the node properties used to identify the particular node. The node properties are defined as a dictionary or map of key-value pairs, similar to the inline `MATCH` clause. The only difference is that we must add quotes around the key values of properties since otherwise, we would get a NameError in Python."
   ]
  },
  {
   "cell_type": "code",
   "execution_count": 30,
   "metadata": {
    "colab": {
     "base_uri": "https://localhost:8080/"
    },
    "id": "2nTv7PcrTl7B",
    "outputId": "a3dcfc07-b511-4701-fdfe-566f1b41ac31"
   },
   "outputs": [
    {
     "data": {
      "text/plain": [
       "4"
      ]
     },
     "execution_count": 30,
     "metadata": {},
     "output_type": "execute_result"
    }
   ],
   "source": [
    "gds.find_node_id([\"Character\"], {\"name\":\"Harry Potter\"})"
   ]
  },
  {
   "cell_type": "markdown",
   "metadata": {
    "id": "zj3XAI8McJdK"
   },
   "source": [
    "The last useful method I will present here is the `drop()` method of a Graph object. It is used to release the projected graph from memory."
   ]
  },
  {
   "cell_type": "code",
   "execution_count": 31,
   "metadata": {
    "id": "V23wjoyfKtag"
   },
   "outputs": [
    {
     "data": {
      "text/plain": [
       "graphName                                                         hp-graph\n",
       "database                                                             neo4j\n",
       "databaseLocation                                                     local\n",
       "memoryUsage                                                               \n",
       "sizeInBytes                                                             -1\n",
       "nodeCount                                                              119\n",
       "relationshipCount                                                      812\n",
       "configuration            {'relationshipProjection': {'INTERACTS': {'agg...\n",
       "density                                                          0.0578265\n",
       "creationTime                           2024-06-17T19:20:44.939815800+00:00\n",
       "modificationTime                       2024-06-17T19:25:56.556488500+00:00\n",
       "schema                   {'graphProperties': {}, 'nodes': {'Character':...\n",
       "schemaWithOrientation    {'graphProperties': {}, 'nodes': {'Character':...\n",
       "Name: 0, dtype: object"
      ]
     },
     "execution_count": 31,
     "metadata": {},
     "output_type": "execute_result"
    }
   ],
   "source": [
    "# Drop a projected in-memory graph\n",
    "G.drop()"
   ]
  },
  {
   "cell_type": "markdown",
   "metadata": {
    "id": "n0u3CxSccPgi"
   },
   "source": [
    "# Conclusion\n",
    "The Neo4j Graph Data Science Python client is designed to help you integrate Neo4j and its graph algorithms into your Python analytical workflows. The syntax of the Python client mimics the GDS Cypher procedures. Since not all graph algorithms are documented to be used as Python client method, you need to take into account the following guidelines when translating a Cypher procedure to a Python client method:\n",
    "* When specifying a map or a dictionary as a parameter to any method, make sure to add quotes around the keys\n",
    "* Instead of referencing the projected graph by its name, you need to input the * Graph object as the first parameter of graph algorithms\n",
    "* Algorithm specific configuration parameter can be specified using keyword arguments\n",
    "* The stream mode of graph algorithms outputs a Pandas DataFrame\n",
    "* Other algorithm modes like stats , write , and mutate output the metadata of the algorithm call as a Pandas Series\n",
    "\n",
    "I am very excited about the new Python client and will be definitely using it in my workflows. Try it out and if you have any feedback please report it to the [official GitHub repository of the Python client](https://github.com/neo4j/graph-data-science-client)."
   ]
  },
  {
   "cell_type": "code",
   "execution_count": null,
   "metadata": {},
   "outputs": [],
   "source": []
  }
 ],
 "metadata": {
  "colab": {
   "authorship_tag": "ABX9TyMLODtjsTX2gWhXe5ADDUdP",
   "include_colab_link": true,
   "name": "gds-python.ipynb",
   "provenance": []
  },
  "kernelspec": {
   "display_name": "Python 3 (ipykernel)",
   "language": "python",
   "name": "python3"
  },
  "language_info": {
   "codemirror_mode": {
    "name": "ipython",
    "version": 3
   },
   "file_extension": ".py",
   "mimetype": "text/x-python",
   "name": "python",
   "nbconvert_exporter": "python",
   "pygments_lexer": "ipython3",
   "version": "3.11.7"
  }
 },
 "nbformat": 4,
 "nbformat_minor": 1
}
